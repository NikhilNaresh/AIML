{
 "cells": [
  {
   "cell_type": "markdown",
   "id": "cada2c41",
   "metadata": {},
   "source": [
    "<center><h1> Data preperation and Model creation for Predicting Delivery Date</h1></center>"
   ]
  },
  {
   "cell_type": "code",
   "execution_count": 1,
   "id": "3dbe12d3",
   "metadata": {},
   "outputs": [
    {
     "data": {
      "text/html": [
       "<div>\n",
       "<style scoped>\n",
       "    .dataframe tbody tr th:only-of-type {\n",
       "        vertical-align: middle;\n",
       "    }\n",
       "\n",
       "    .dataframe tbody tr th {\n",
       "        vertical-align: top;\n",
       "    }\n",
       "\n",
       "    .dataframe thead th {\n",
       "        text-align: right;\n",
       "    }\n",
       "</style>\n",
       "<table border=\"1\" class=\"dataframe\">\n",
       "  <thead>\n",
       "    <tr style=\"text-align: right;\">\n",
       "      <th></th>\n",
       "      <th>OrderId</th>\n",
       "      <th>OrderCreationDateTime</th>\n",
       "      <th>OrderFirstConfirmedDateTime</th>\n",
       "      <th>OrderDueDate</th>\n",
       "      <th>ido</th>\n",
       "      <th>sequencelength</th>\n",
       "      <th>ProdScale</th>\n",
       "      <th>PITname</th>\n",
       "      <th>Sequence</th>\n",
       "      <th>PurificationName</th>\n",
       "      <th>shipmentdate</th>\n",
       "    </tr>\n",
       "  </thead>\n",
       "  <tbody>\n",
       "    <tr>\n",
       "      <th>0</th>\n",
       "      <td>11107890116-1</td>\n",
       "      <td>2022-05-10 06:31:21.323</td>\n",
       "      <td>NaN</td>\n",
       "      <td>2022-05-17 00:00:00.000</td>\n",
       "      <td>32879485</td>\n",
       "      <td>40</td>\n",
       "      <td>0.01 µmol</td>\n",
       "      <td>QPCR</td>\n",
       "      <td>[ROX]TGAATGTGGTCTCCAAAACGCTGAATGTAGTCTCCAAAAC[...</td>\n",
       "      <td>HPLC</td>\n",
       "      <td>2022-05-14 15:00:46.137</td>\n",
       "    </tr>\n",
       "    <tr>\n",
       "      <th>1</th>\n",
       "      <td>11107890116-1</td>\n",
       "      <td>2022-05-10 06:31:21.323</td>\n",
       "      <td>NaN</td>\n",
       "      <td>2022-05-17 00:00:00.000</td>\n",
       "      <td>32879491</td>\n",
       "      <td>18</td>\n",
       "      <td>0.01 µmol</td>\n",
       "      <td>QPCR</td>\n",
       "      <td>[YAKYE]ATCCGTTTCCATTGGTAA[BHQ1]</td>\n",
       "      <td>HPLC</td>\n",
       "      <td>2022-05-14 15:00:46.203</td>\n",
       "    </tr>\n",
       "    <tr>\n",
       "      <th>2</th>\n",
       "      <td>11107909701-1</td>\n",
       "      <td>2022-05-02 07:10:51.757</td>\n",
       "      <td>NaN</td>\n",
       "      <td>2022-05-14 00:00:00.000</td>\n",
       "      <td>32848564</td>\n",
       "      <td>30</td>\n",
       "      <td>0.2 µmol</td>\n",
       "      <td>ALCM</td>\n",
       "      <td>[SpC3]CCCTGTCTCTTATACACATCTCCGAGGC[SpC3]</td>\n",
       "      <td>HPLC</td>\n",
       "      <td>2022-05-14 11:26:58.810</td>\n",
       "    </tr>\n",
       "    <tr>\n",
       "      <th>3</th>\n",
       "      <td>11107910481-1</td>\n",
       "      <td>2022-05-03 06:38:31.000</td>\n",
       "      <td>NaN</td>\n",
       "      <td>2022-06-09 00:00:00.000</td>\n",
       "      <td>32853653</td>\n",
       "      <td>19</td>\n",
       "      <td>0.2 µmol</td>\n",
       "      <td>ALCU</td>\n",
       "      <td>GGAAGCTGGATACGGATGT</td>\n",
       "      <td>HPLC</td>\n",
       "      <td>NaN</td>\n",
       "    </tr>\n",
       "    <tr>\n",
       "      <th>4</th>\n",
       "      <td>11107911565-1</td>\n",
       "      <td>2022-05-02 07:12:04.587</td>\n",
       "      <td>NaN</td>\n",
       "      <td>2022-05-07 00:00:00.000</td>\n",
       "      <td>32848597</td>\n",
       "      <td>20</td>\n",
       "      <td>1.0 µmol</td>\n",
       "      <td>ALCU</td>\n",
       "      <td>TTTTTTTTTTGGGGGGGGGG</td>\n",
       "      <td>FAST</td>\n",
       "      <td>2022-05-24 05:09:57.097</td>\n",
       "    </tr>\n",
       "    <tr>\n",
       "      <th>...</th>\n",
       "      <td>...</td>\n",
       "      <td>...</td>\n",
       "      <td>...</td>\n",
       "      <td>...</td>\n",
       "      <td>...</td>\n",
       "      <td>...</td>\n",
       "      <td>...</td>\n",
       "      <td>...</td>\n",
       "      <td>...</td>\n",
       "      <td>...</td>\n",
       "      <td>...</td>\n",
       "    </tr>\n",
       "    <tr>\n",
       "      <th>482431</th>\n",
       "      <td>11108091165-1</td>\n",
       "      <td>2022-09-05 08:25:06.213</td>\n",
       "      <td>NaN</td>\n",
       "      <td>2022-09-06 17:00:00.000</td>\n",
       "      <td>33330564</td>\n",
       "      <td>20</td>\n",
       "      <td>0.01 µmol</td>\n",
       "      <td>ALCU</td>\n",
       "      <td>TGGCCACTTCAGCAAGTTCA</td>\n",
       "      <td>FAST</td>\n",
       "      <td>NaN</td>\n",
       "    </tr>\n",
       "    <tr>\n",
       "      <th>482432</th>\n",
       "      <td>11108091182-1</td>\n",
       "      <td>2022-09-05 08:16:13.000</td>\n",
       "      <td>NaN</td>\n",
       "      <td>2022-09-07 17:00:00.000</td>\n",
       "      <td>33330592</td>\n",
       "      <td>19</td>\n",
       "      <td>0.01 µmol</td>\n",
       "      <td>ALCU</td>\n",
       "      <td>TCTGGACCTGGTGAGTTTC</td>\n",
       "      <td>FAST</td>\n",
       "      <td>NaN</td>\n",
       "    </tr>\n",
       "    <tr>\n",
       "      <th>482433</th>\n",
       "      <td>11108091205-1</td>\n",
       "      <td>2022-09-05 08:29:57.093</td>\n",
       "      <td>NaN</td>\n",
       "      <td>2022-09-06 17:00:00.000</td>\n",
       "      <td>33330619</td>\n",
       "      <td>20</td>\n",
       "      <td>0.05 µmol</td>\n",
       "      <td>ALCU</td>\n",
       "      <td>TAAGTTGGAGCAGAACTAGA</td>\n",
       "      <td>FAST</td>\n",
       "      <td>NaN</td>\n",
       "    </tr>\n",
       "    <tr>\n",
       "      <th>482434</th>\n",
       "      <td>11108091226-1</td>\n",
       "      <td>2022-09-05 08:29:11.490</td>\n",
       "      <td>NaN</td>\n",
       "      <td>2022-09-08 17:00:00.000</td>\n",
       "      <td>33330632</td>\n",
       "      <td>39</td>\n",
       "      <td>0.01 µmol</td>\n",
       "      <td>ALCU</td>\n",
       "      <td>GAAAGCTGGGTTACTAGTTGCAACGGCACATACTTTTGG</td>\n",
       "      <td>HPSF</td>\n",
       "      <td>NaN</td>\n",
       "    </tr>\n",
       "    <tr>\n",
       "      <th>482435</th>\n",
       "      <td>11108091245-1</td>\n",
       "      <td>2022-09-05 08:38:05.473</td>\n",
       "      <td>NaN</td>\n",
       "      <td>2022-09-13 17:00:00.000</td>\n",
       "      <td>33330661</td>\n",
       "      <td>48</td>\n",
       "      <td>0.05 µmol</td>\n",
       "      <td>ALCU</td>\n",
       "      <td>GATCCCACTAGTGTCGACACCAGTCTCTAATTTTTTTTTTCAAAAAAA</td>\n",
       "      <td>HPLC</td>\n",
       "      <td>NaN</td>\n",
       "    </tr>\n",
       "  </tbody>\n",
       "</table>\n",
       "<p>482436 rows × 11 columns</p>\n",
       "</div>"
      ],
      "text/plain": [
       "              OrderId    OrderCreationDateTime  OrderFirstConfirmedDateTime  \\\n",
       "0       11107890116-1  2022-05-10 06:31:21.323                          NaN   \n",
       "1       11107890116-1  2022-05-10 06:31:21.323                          NaN   \n",
       "2       11107909701-1  2022-05-02 07:10:51.757                          NaN   \n",
       "3       11107910481-1  2022-05-03 06:38:31.000                          NaN   \n",
       "4       11107911565-1  2022-05-02 07:12:04.587                          NaN   \n",
       "...               ...                      ...                          ...   \n",
       "482431  11108091165-1  2022-09-05 08:25:06.213                          NaN   \n",
       "482432  11108091182-1  2022-09-05 08:16:13.000                          NaN   \n",
       "482433  11108091205-1  2022-09-05 08:29:57.093                          NaN   \n",
       "482434  11108091226-1  2022-09-05 08:29:11.490                          NaN   \n",
       "482435  11108091245-1  2022-09-05 08:38:05.473                          NaN   \n",
       "\n",
       "                   OrderDueDate       ido  sequencelength  ProdScale PITname  \\\n",
       "0       2022-05-17 00:00:00.000  32879485              40  0.01 µmol    QPCR   \n",
       "1       2022-05-17 00:00:00.000  32879491              18  0.01 µmol    QPCR   \n",
       "2       2022-05-14 00:00:00.000  32848564              30   0.2 µmol    ALCM   \n",
       "3       2022-06-09 00:00:00.000  32853653              19   0.2 µmol    ALCU   \n",
       "4       2022-05-07 00:00:00.000  32848597              20   1.0 µmol    ALCU   \n",
       "...                         ...       ...             ...        ...     ...   \n",
       "482431  2022-09-06 17:00:00.000  33330564              20  0.01 µmol    ALCU   \n",
       "482432  2022-09-07 17:00:00.000  33330592              19  0.01 µmol    ALCU   \n",
       "482433  2022-09-06 17:00:00.000  33330619              20  0.05 µmol    ALCU   \n",
       "482434  2022-09-08 17:00:00.000  33330632              39  0.01 µmol    ALCU   \n",
       "482435  2022-09-13 17:00:00.000  33330661              48  0.05 µmol    ALCU   \n",
       "\n",
       "                                                 Sequence PurificationName  \\\n",
       "0       [ROX]TGAATGTGGTCTCCAAAACGCTGAATGTAGTCTCCAAAAC[...             HPLC   \n",
       "1                         [YAKYE]ATCCGTTTCCATTGGTAA[BHQ1]             HPLC   \n",
       "2                [SpC3]CCCTGTCTCTTATACACATCTCCGAGGC[SpC3]             HPLC   \n",
       "3                                     GGAAGCTGGATACGGATGT             HPLC   \n",
       "4                                    TTTTTTTTTTGGGGGGGGGG             FAST   \n",
       "...                                                   ...              ...   \n",
       "482431                               TGGCCACTTCAGCAAGTTCA             FAST   \n",
       "482432                                TCTGGACCTGGTGAGTTTC             FAST   \n",
       "482433                               TAAGTTGGAGCAGAACTAGA             FAST   \n",
       "482434            GAAAGCTGGGTTACTAGTTGCAACGGCACATACTTTTGG             HPSF   \n",
       "482435   GATCCCACTAGTGTCGACACCAGTCTCTAATTTTTTTTTTCAAAAAAA             HPLC   \n",
       "\n",
       "                   shipmentdate  \n",
       "0       2022-05-14 15:00:46.137  \n",
       "1       2022-05-14 15:00:46.203  \n",
       "2       2022-05-14 11:26:58.810  \n",
       "3                           NaN  \n",
       "4       2022-05-24 05:09:57.097  \n",
       "...                         ...  \n",
       "482431                      NaN  \n",
       "482432                      NaN  \n",
       "482433                      NaN  \n",
       "482434                      NaN  \n",
       "482435                      NaN  \n",
       "\n",
       "[482436 rows x 11 columns]"
      ]
     },
     "execution_count": 1,
     "metadata": {},
     "output_type": "execute_result"
    }
   ],
   "source": [
    "# importing the required libraries\n",
    "import pandas as pd\n",
    "import numpy as np\n",
    "import seaborn as sns\n",
    "import matplotlib.pyplot as plt\n",
    "import matplotlib\n",
    "\n",
    "import warnings\n",
    "warnings.filterwarnings('ignore')\n",
    "#for z score\n",
    "from scipy import stats\n",
    "\n",
    "# for data visualization\n",
    "import matplotlib.pyplot as plt\n",
    "from pandas.plotting import scatter_matrix\n",
    "\n",
    "#  for evaluating the model\n",
    "from sklearn.linear_model import LinearRegression\n",
    "from sklearn import metrics\n",
    "\n",
    "missing_values = ['N/a','na',' ','',np.nan] \n",
    "\n",
    "df=pd.read_csv(r'C:\\Users\\PrashantThakre\\OneDrive - Eurofins\\backup\\AI-ML\\ExpectedDeliveryDateQuery_2022_09_05.csv')\n",
    "#maindf=pd.read_csv(r'C:\\Users\\PrashantThakre\\OneDrive - Eurofins\\backup\\AI-ML\\ExpectedDeliveryDateQuery_2022_08_30.csv')\n",
    "df"
   ]
  },
  {
   "cell_type": "code",
   "execution_count": 2,
   "id": "c9c15887",
   "metadata": {},
   "outputs": [],
   "source": [
    "#Drop ï»¿OrderId\n",
    "df=df.drop(df.iloc[:,0:1],axis=1)\n",
    "#Drop columns which are not requried for EDA\n",
    "df=df.drop(['OrderFirstConfirmedDateTime','OrderDueDate','ido'],axis=1)"
   ]
  },
  {
   "cell_type": "code",
   "execution_count": 3,
   "id": "f000f9e4",
   "metadata": {
    "scrolled": true
   },
   "outputs": [
    {
     "data": {
      "text/html": [
       "<div>\n",
       "<style scoped>\n",
       "    .dataframe tbody tr th:only-of-type {\n",
       "        vertical-align: middle;\n",
       "    }\n",
       "\n",
       "    .dataframe tbody tr th {\n",
       "        vertical-align: top;\n",
       "    }\n",
       "\n",
       "    .dataframe thead th {\n",
       "        text-align: right;\n",
       "    }\n",
       "</style>\n",
       "<table border=\"1\" class=\"dataframe\">\n",
       "  <thead>\n",
       "    <tr style=\"text-align: right;\">\n",
       "      <th></th>\n",
       "      <th>OrderCreationDateTime</th>\n",
       "      <th>sequencelength</th>\n",
       "      <th>ProdScale</th>\n",
       "      <th>PITname</th>\n",
       "      <th>Sequence</th>\n",
       "      <th>PurificationName</th>\n",
       "      <th>shipmentdate</th>\n",
       "    </tr>\n",
       "  </thead>\n",
       "  <tbody>\n",
       "    <tr>\n",
       "      <th>0</th>\n",
       "      <td>2022-05-10 06:31:21.323</td>\n",
       "      <td>40</td>\n",
       "      <td>0.01 µmol</td>\n",
       "      <td>QPCR</td>\n",
       "      <td>[ROX]TGAATGTGGTCTCCAAAACGCTGAATGTAGTCTCCAAAAC[...</td>\n",
       "      <td>HPLC</td>\n",
       "      <td>2022-05-14 15:00:46.137</td>\n",
       "    </tr>\n",
       "    <tr>\n",
       "      <th>1</th>\n",
       "      <td>2022-05-10 06:31:21.323</td>\n",
       "      <td>18</td>\n",
       "      <td>0.01 µmol</td>\n",
       "      <td>QPCR</td>\n",
       "      <td>[YAKYE]ATCCGTTTCCATTGGTAA[BHQ1]</td>\n",
       "      <td>HPLC</td>\n",
       "      <td>2022-05-14 15:00:46.203</td>\n",
       "    </tr>\n",
       "    <tr>\n",
       "      <th>2</th>\n",
       "      <td>2022-05-02 07:10:51.757</td>\n",
       "      <td>30</td>\n",
       "      <td>0.2 µmol</td>\n",
       "      <td>ALCM</td>\n",
       "      <td>[SpC3]CCCTGTCTCTTATACACATCTCCGAGGC[SpC3]</td>\n",
       "      <td>HPLC</td>\n",
       "      <td>2022-05-14 11:26:58.810</td>\n",
       "    </tr>\n",
       "    <tr>\n",
       "      <th>3</th>\n",
       "      <td>2022-05-03 06:38:31.000</td>\n",
       "      <td>19</td>\n",
       "      <td>0.2 µmol</td>\n",
       "      <td>ALCU</td>\n",
       "      <td>GGAAGCTGGATACGGATGT</td>\n",
       "      <td>HPLC</td>\n",
       "      <td>NaN</td>\n",
       "    </tr>\n",
       "    <tr>\n",
       "      <th>4</th>\n",
       "      <td>2022-05-02 07:12:04.587</td>\n",
       "      <td>20</td>\n",
       "      <td>1.0 µmol</td>\n",
       "      <td>ALCU</td>\n",
       "      <td>TTTTTTTTTTGGGGGGGGGG</td>\n",
       "      <td>FAST</td>\n",
       "      <td>2022-05-24 05:09:57.097</td>\n",
       "    </tr>\n",
       "    <tr>\n",
       "      <th>...</th>\n",
       "      <td>...</td>\n",
       "      <td>...</td>\n",
       "      <td>...</td>\n",
       "      <td>...</td>\n",
       "      <td>...</td>\n",
       "      <td>...</td>\n",
       "      <td>...</td>\n",
       "    </tr>\n",
       "    <tr>\n",
       "      <th>482431</th>\n",
       "      <td>2022-09-05 08:25:06.213</td>\n",
       "      <td>20</td>\n",
       "      <td>0.01 µmol</td>\n",
       "      <td>ALCU</td>\n",
       "      <td>TGGCCACTTCAGCAAGTTCA</td>\n",
       "      <td>FAST</td>\n",
       "      <td>NaN</td>\n",
       "    </tr>\n",
       "    <tr>\n",
       "      <th>482432</th>\n",
       "      <td>2022-09-05 08:16:13.000</td>\n",
       "      <td>19</td>\n",
       "      <td>0.01 µmol</td>\n",
       "      <td>ALCU</td>\n",
       "      <td>TCTGGACCTGGTGAGTTTC</td>\n",
       "      <td>FAST</td>\n",
       "      <td>NaN</td>\n",
       "    </tr>\n",
       "    <tr>\n",
       "      <th>482433</th>\n",
       "      <td>2022-09-05 08:29:57.093</td>\n",
       "      <td>20</td>\n",
       "      <td>0.05 µmol</td>\n",
       "      <td>ALCU</td>\n",
       "      <td>TAAGTTGGAGCAGAACTAGA</td>\n",
       "      <td>FAST</td>\n",
       "      <td>NaN</td>\n",
       "    </tr>\n",
       "    <tr>\n",
       "      <th>482434</th>\n",
       "      <td>2022-09-05 08:29:11.490</td>\n",
       "      <td>39</td>\n",
       "      <td>0.01 µmol</td>\n",
       "      <td>ALCU</td>\n",
       "      <td>GAAAGCTGGGTTACTAGTTGCAACGGCACATACTTTTGG</td>\n",
       "      <td>HPSF</td>\n",
       "      <td>NaN</td>\n",
       "    </tr>\n",
       "    <tr>\n",
       "      <th>482435</th>\n",
       "      <td>2022-09-05 08:38:05.473</td>\n",
       "      <td>48</td>\n",
       "      <td>0.05 µmol</td>\n",
       "      <td>ALCU</td>\n",
       "      <td>GATCCCACTAGTGTCGACACCAGTCTCTAATTTTTTTTTTCAAAAAAA</td>\n",
       "      <td>HPLC</td>\n",
       "      <td>NaN</td>\n",
       "    </tr>\n",
       "  </tbody>\n",
       "</table>\n",
       "<p>482436 rows × 7 columns</p>\n",
       "</div>"
      ],
      "text/plain": [
       "          OrderCreationDateTime  sequencelength  ProdScale PITname  \\\n",
       "0       2022-05-10 06:31:21.323              40  0.01 µmol    QPCR   \n",
       "1       2022-05-10 06:31:21.323              18  0.01 µmol    QPCR   \n",
       "2       2022-05-02 07:10:51.757              30   0.2 µmol    ALCM   \n",
       "3       2022-05-03 06:38:31.000              19   0.2 µmol    ALCU   \n",
       "4       2022-05-02 07:12:04.587              20   1.0 µmol    ALCU   \n",
       "...                         ...             ...        ...     ...   \n",
       "482431  2022-09-05 08:25:06.213              20  0.01 µmol    ALCU   \n",
       "482432  2022-09-05 08:16:13.000              19  0.01 µmol    ALCU   \n",
       "482433  2022-09-05 08:29:57.093              20  0.05 µmol    ALCU   \n",
       "482434  2022-09-05 08:29:11.490              39  0.01 µmol    ALCU   \n",
       "482435  2022-09-05 08:38:05.473              48  0.05 µmol    ALCU   \n",
       "\n",
       "                                                 Sequence PurificationName  \\\n",
       "0       [ROX]TGAATGTGGTCTCCAAAACGCTGAATGTAGTCTCCAAAAC[...             HPLC   \n",
       "1                         [YAKYE]ATCCGTTTCCATTGGTAA[BHQ1]             HPLC   \n",
       "2                [SpC3]CCCTGTCTCTTATACACATCTCCGAGGC[SpC3]             HPLC   \n",
       "3                                     GGAAGCTGGATACGGATGT             HPLC   \n",
       "4                                    TTTTTTTTTTGGGGGGGGGG             FAST   \n",
       "...                                                   ...              ...   \n",
       "482431                               TGGCCACTTCAGCAAGTTCA             FAST   \n",
       "482432                                TCTGGACCTGGTGAGTTTC             FAST   \n",
       "482433                               TAAGTTGGAGCAGAACTAGA             FAST   \n",
       "482434            GAAAGCTGGGTTACTAGTTGCAACGGCACATACTTTTGG             HPSF   \n",
       "482435   GATCCCACTAGTGTCGACACCAGTCTCTAATTTTTTTTTTCAAAAAAA             HPLC   \n",
       "\n",
       "                   shipmentdate  \n",
       "0       2022-05-14 15:00:46.137  \n",
       "1       2022-05-14 15:00:46.203  \n",
       "2       2022-05-14 11:26:58.810  \n",
       "3                           NaN  \n",
       "4       2022-05-24 05:09:57.097  \n",
       "...                         ...  \n",
       "482431                      NaN  \n",
       "482432                      NaN  \n",
       "482433                      NaN  \n",
       "482434                      NaN  \n",
       "482435                      NaN  \n",
       "\n",
       "[482436 rows x 7 columns]"
      ]
     },
     "execution_count": 3,
     "metadata": {},
     "output_type": "execute_result"
    }
   ],
   "source": [
    "df"
   ]
  },
  {
   "cell_type": "code",
   "execution_count": 4,
   "id": "70d1b64a",
   "metadata": {},
   "outputs": [
    {
     "data": {
      "text/html": [
       "<div>\n",
       "<style scoped>\n",
       "    .dataframe tbody tr th:only-of-type {\n",
       "        vertical-align: middle;\n",
       "    }\n",
       "\n",
       "    .dataframe tbody tr th {\n",
       "        vertical-align: top;\n",
       "    }\n",
       "\n",
       "    .dataframe thead th {\n",
       "        text-align: right;\n",
       "    }\n",
       "</style>\n",
       "<table border=\"1\" class=\"dataframe\">\n",
       "  <thead>\n",
       "    <tr style=\"text-align: right;\">\n",
       "      <th></th>\n",
       "      <th>OrderCreationDateTime</th>\n",
       "      <th>sequencelength</th>\n",
       "      <th>ProdScale</th>\n",
       "      <th>PITname</th>\n",
       "      <th>Sequence</th>\n",
       "      <th>PurificationName</th>\n",
       "      <th>shipmentdate</th>\n",
       "    </tr>\n",
       "  </thead>\n",
       "  <tbody>\n",
       "    <tr>\n",
       "      <th>0</th>\n",
       "      <td>2022-05-10 06:31:21.323</td>\n",
       "      <td>40</td>\n",
       "      <td>0.01 µmol</td>\n",
       "      <td>QPCR</td>\n",
       "      <td>[ROX]TGAATGTGGTCTCCAAAACGCTGAATGTAGTCTCCAAAAC[...</td>\n",
       "      <td>HPLC</td>\n",
       "      <td>2022-05-14 15:00:46.137</td>\n",
       "    </tr>\n",
       "    <tr>\n",
       "      <th>1</th>\n",
       "      <td>2022-05-10 06:31:21.323</td>\n",
       "      <td>18</td>\n",
       "      <td>0.01 µmol</td>\n",
       "      <td>QPCR</td>\n",
       "      <td>[YAKYE]ATCCGTTTCCATTGGTAA[BHQ1]</td>\n",
       "      <td>HPLC</td>\n",
       "      <td>2022-05-14 15:00:46.203</td>\n",
       "    </tr>\n",
       "    <tr>\n",
       "      <th>2</th>\n",
       "      <td>2022-05-02 07:10:51.757</td>\n",
       "      <td>30</td>\n",
       "      <td>0.2 µmol</td>\n",
       "      <td>ALCM</td>\n",
       "      <td>[SpC3]CCCTGTCTCTTATACACATCTCCGAGGC[SpC3]</td>\n",
       "      <td>HPLC</td>\n",
       "      <td>2022-05-14 11:26:58.810</td>\n",
       "    </tr>\n",
       "    <tr>\n",
       "      <th>4</th>\n",
       "      <td>2022-05-02 07:12:04.587</td>\n",
       "      <td>20</td>\n",
       "      <td>1.0 µmol</td>\n",
       "      <td>ALCU</td>\n",
       "      <td>TTTTTTTTTTGGGGGGGGGG</td>\n",
       "      <td>FAST</td>\n",
       "      <td>2022-05-24 05:09:57.097</td>\n",
       "    </tr>\n",
       "    <tr>\n",
       "      <th>5</th>\n",
       "      <td>2022-05-02 07:12:04.587</td>\n",
       "      <td>20</td>\n",
       "      <td>1.0 µmol</td>\n",
       "      <td>ALCU</td>\n",
       "      <td>TTTTTTTTTTGGGGGGGGGG</td>\n",
       "      <td>FAST</td>\n",
       "      <td>2022-05-24 05:09:57.097</td>\n",
       "    </tr>\n",
       "    <tr>\n",
       "      <th>...</th>\n",
       "      <td>...</td>\n",
       "      <td>...</td>\n",
       "      <td>...</td>\n",
       "      <td>...</td>\n",
       "      <td>...</td>\n",
       "      <td>...</td>\n",
       "      <td>...</td>\n",
       "    </tr>\n",
       "    <tr>\n",
       "      <th>482320</th>\n",
       "      <td>2022-09-02 14:02:06.000</td>\n",
       "      <td>22</td>\n",
       "      <td>0.01 µmol</td>\n",
       "      <td>SFONXP</td>\n",
       "      <td>GCCATTATCCATGCTGGTTCTA</td>\n",
       "      <td>FAST</td>\n",
       "      <td>2022-09-02 19:22:13.260</td>\n",
       "    </tr>\n",
       "    <tr>\n",
       "      <th>482321</th>\n",
       "      <td>2022-09-02 14:17:13.000</td>\n",
       "      <td>22</td>\n",
       "      <td>0.05 µmol</td>\n",
       "      <td>PCRP</td>\n",
       "      <td>CGCGCTCGAGTTACAACTTAGA</td>\n",
       "      <td>HPSF</td>\n",
       "      <td>2022-09-03 11:45:27.913</td>\n",
       "    </tr>\n",
       "    <tr>\n",
       "      <th>482322</th>\n",
       "      <td>2022-09-02 14:22:22.000</td>\n",
       "      <td>18</td>\n",
       "      <td>0.01 µmol</td>\n",
       "      <td>ALCU</td>\n",
       "      <td>GSGKGCGCATCTCGTCCT</td>\n",
       "      <td>HPSF</td>\n",
       "      <td>2022-09-05 06:58:24.507</td>\n",
       "    </tr>\n",
       "    <tr>\n",
       "      <th>482326</th>\n",
       "      <td>2022-09-02 14:38:35.000</td>\n",
       "      <td>22</td>\n",
       "      <td>0.01 µmol</td>\n",
       "      <td>ALCU</td>\n",
       "      <td>ACTGCCCTGGGTTCTGTAGTCC</td>\n",
       "      <td>FAST</td>\n",
       "      <td>2022-09-05 05:14:09.837</td>\n",
       "    </tr>\n",
       "    <tr>\n",
       "      <th>482365</th>\n",
       "      <td>2022-09-02 18:28:40.000</td>\n",
       "      <td>20</td>\n",
       "      <td>0.01 µmol</td>\n",
       "      <td>ALCU</td>\n",
       "      <td>TCGTCGTCCTTGTAGTCCAT</td>\n",
       "      <td>FAST</td>\n",
       "      <td>2022-09-03 14:20:13.997</td>\n",
       "    </tr>\n",
       "  </tbody>\n",
       "</table>\n",
       "<p>322350 rows × 7 columns</p>\n",
       "</div>"
      ],
      "text/plain": [
       "          OrderCreationDateTime  sequencelength  ProdScale PITname  \\\n",
       "0       2022-05-10 06:31:21.323              40  0.01 µmol    QPCR   \n",
       "1       2022-05-10 06:31:21.323              18  0.01 µmol    QPCR   \n",
       "2       2022-05-02 07:10:51.757              30   0.2 µmol    ALCM   \n",
       "4       2022-05-02 07:12:04.587              20   1.0 µmol    ALCU   \n",
       "5       2022-05-02 07:12:04.587              20   1.0 µmol    ALCU   \n",
       "...                         ...             ...        ...     ...   \n",
       "482320  2022-09-02 14:02:06.000              22  0.01 µmol  SFONXP   \n",
       "482321  2022-09-02 14:17:13.000              22  0.05 µmol    PCRP   \n",
       "482322  2022-09-02 14:22:22.000              18  0.01 µmol    ALCU   \n",
       "482326  2022-09-02 14:38:35.000              22  0.01 µmol    ALCU   \n",
       "482365  2022-09-02 18:28:40.000              20  0.01 µmol    ALCU   \n",
       "\n",
       "                                                 Sequence PurificationName  \\\n",
       "0       [ROX]TGAATGTGGTCTCCAAAACGCTGAATGTAGTCTCCAAAAC[...             HPLC   \n",
       "1                         [YAKYE]ATCCGTTTCCATTGGTAA[BHQ1]             HPLC   \n",
       "2                [SpC3]CCCTGTCTCTTATACACATCTCCGAGGC[SpC3]             HPLC   \n",
       "4                                    TTTTTTTTTTGGGGGGGGGG             FAST   \n",
       "5                                    TTTTTTTTTTGGGGGGGGGG             FAST   \n",
       "...                                                   ...              ...   \n",
       "482320                             GCCATTATCCATGCTGGTTCTA             FAST   \n",
       "482321                             CGCGCTCGAGTTACAACTTAGA             HPSF   \n",
       "482322                                 GSGKGCGCATCTCGTCCT             HPSF   \n",
       "482326                             ACTGCCCTGGGTTCTGTAGTCC             FAST   \n",
       "482365                               TCGTCGTCCTTGTAGTCCAT             FAST   \n",
       "\n",
       "                   shipmentdate  \n",
       "0       2022-05-14 15:00:46.137  \n",
       "1       2022-05-14 15:00:46.203  \n",
       "2       2022-05-14 11:26:58.810  \n",
       "4       2022-05-24 05:09:57.097  \n",
       "5       2022-05-24 05:09:57.097  \n",
       "...                         ...  \n",
       "482320  2022-09-02 19:22:13.260  \n",
       "482321  2022-09-03 11:45:27.913  \n",
       "482322  2022-09-05 06:58:24.507  \n",
       "482326  2022-09-05 05:14:09.837  \n",
       "482365  2022-09-03 14:20:13.997  \n",
       "\n",
       "[322350 rows x 7 columns]"
      ]
     },
     "execution_count": 4,
     "metadata": {},
     "output_type": "execute_result"
    }
   ],
   "source": [
    "df=df.dropna()\n",
    "df"
   ]
  },
  {
   "cell_type": "code",
   "execution_count": 5,
   "id": "8ac19907",
   "metadata": {},
   "outputs": [],
   "source": [
    "#convert to string and do left and right trim to remove whitespaces\n",
    "df.ProdScale=df.ProdScale.astype(str).str.strip()\n",
    "#remove units from ProdScale\n",
    "df['ProdScale'] = df['ProdScale'].str.replace(r' µmol', '')  \n"
   ]
  },
  {
   "cell_type": "code",
   "execution_count": 6,
   "id": "f1984abc",
   "metadata": {},
   "outputs": [
    {
     "data": {
      "text/html": [
       "<div>\n",
       "<style scoped>\n",
       "    .dataframe tbody tr th:only-of-type {\n",
       "        vertical-align: middle;\n",
       "    }\n",
       "\n",
       "    .dataframe tbody tr th {\n",
       "        vertical-align: top;\n",
       "    }\n",
       "\n",
       "    .dataframe thead th {\n",
       "        text-align: right;\n",
       "    }\n",
       "</style>\n",
       "<table border=\"1\" class=\"dataframe\">\n",
       "  <thead>\n",
       "    <tr style=\"text-align: right;\">\n",
       "      <th></th>\n",
       "      <th>OrderCreationDateTime</th>\n",
       "      <th>sequencelength</th>\n",
       "      <th>ProdScale</th>\n",
       "      <th>PITname</th>\n",
       "      <th>Sequence</th>\n",
       "      <th>PurificationName</th>\n",
       "      <th>shipmentdate</th>\n",
       "    </tr>\n",
       "  </thead>\n",
       "  <tbody>\n",
       "    <tr>\n",
       "      <th>0</th>\n",
       "      <td>2022-05-10 06:31:21.323</td>\n",
       "      <td>40</td>\n",
       "      <td>0.01</td>\n",
       "      <td>QPCR</td>\n",
       "      <td>[ROX]TGAATGTGGTCTCCAAAACGCTGAATGTAGTCTCCAAAAC[...</td>\n",
       "      <td>HPLC</td>\n",
       "      <td>2022-05-14 15:00:46.137</td>\n",
       "    </tr>\n",
       "    <tr>\n",
       "      <th>1</th>\n",
       "      <td>2022-05-10 06:31:21.323</td>\n",
       "      <td>18</td>\n",
       "      <td>0.01</td>\n",
       "      <td>QPCR</td>\n",
       "      <td>[YAKYE]ATCCGTTTCCATTGGTAA[BHQ1]</td>\n",
       "      <td>HPLC</td>\n",
       "      <td>2022-05-14 15:00:46.203</td>\n",
       "    </tr>\n",
       "    <tr>\n",
       "      <th>2</th>\n",
       "      <td>2022-05-02 07:10:51.757</td>\n",
       "      <td>30</td>\n",
       "      <td>0.2</td>\n",
       "      <td>ALCM</td>\n",
       "      <td>[SpC3]CCCTGTCTCTTATACACATCTCCGAGGC[SpC3]</td>\n",
       "      <td>HPLC</td>\n",
       "      <td>2022-05-14 11:26:58.810</td>\n",
       "    </tr>\n",
       "    <tr>\n",
       "      <th>4</th>\n",
       "      <td>2022-05-02 07:12:04.587</td>\n",
       "      <td>20</td>\n",
       "      <td>1.0</td>\n",
       "      <td>ALCU</td>\n",
       "      <td>TTTTTTTTTTGGGGGGGGGG</td>\n",
       "      <td>FAST</td>\n",
       "      <td>2022-05-24 05:09:57.097</td>\n",
       "    </tr>\n",
       "    <tr>\n",
       "      <th>5</th>\n",
       "      <td>2022-05-02 07:12:04.587</td>\n",
       "      <td>20</td>\n",
       "      <td>1.0</td>\n",
       "      <td>ALCU</td>\n",
       "      <td>TTTTTTTTTTGGGGGGGGGG</td>\n",
       "      <td>FAST</td>\n",
       "      <td>2022-05-24 05:09:57.097</td>\n",
       "    </tr>\n",
       "    <tr>\n",
       "      <th>...</th>\n",
       "      <td>...</td>\n",
       "      <td>...</td>\n",
       "      <td>...</td>\n",
       "      <td>...</td>\n",
       "      <td>...</td>\n",
       "      <td>...</td>\n",
       "      <td>...</td>\n",
       "    </tr>\n",
       "    <tr>\n",
       "      <th>482320</th>\n",
       "      <td>2022-09-02 14:02:06.000</td>\n",
       "      <td>22</td>\n",
       "      <td>0.01</td>\n",
       "      <td>SFONXP</td>\n",
       "      <td>GCCATTATCCATGCTGGTTCTA</td>\n",
       "      <td>FAST</td>\n",
       "      <td>2022-09-02 19:22:13.260</td>\n",
       "    </tr>\n",
       "    <tr>\n",
       "      <th>482321</th>\n",
       "      <td>2022-09-02 14:17:13.000</td>\n",
       "      <td>22</td>\n",
       "      <td>0.05</td>\n",
       "      <td>PCRP</td>\n",
       "      <td>CGCGCTCGAGTTACAACTTAGA</td>\n",
       "      <td>HPSF</td>\n",
       "      <td>2022-09-03 11:45:27.913</td>\n",
       "    </tr>\n",
       "    <tr>\n",
       "      <th>482322</th>\n",
       "      <td>2022-09-02 14:22:22.000</td>\n",
       "      <td>18</td>\n",
       "      <td>0.01</td>\n",
       "      <td>ALCU</td>\n",
       "      <td>GSGKGCGCATCTCGTCCT</td>\n",
       "      <td>HPSF</td>\n",
       "      <td>2022-09-05 06:58:24.507</td>\n",
       "    </tr>\n",
       "    <tr>\n",
       "      <th>482326</th>\n",
       "      <td>2022-09-02 14:38:35.000</td>\n",
       "      <td>22</td>\n",
       "      <td>0.01</td>\n",
       "      <td>ALCU</td>\n",
       "      <td>ACTGCCCTGGGTTCTGTAGTCC</td>\n",
       "      <td>FAST</td>\n",
       "      <td>2022-09-05 05:14:09.837</td>\n",
       "    </tr>\n",
       "    <tr>\n",
       "      <th>482365</th>\n",
       "      <td>2022-09-02 18:28:40.000</td>\n",
       "      <td>20</td>\n",
       "      <td>0.01</td>\n",
       "      <td>ALCU</td>\n",
       "      <td>TCGTCGTCCTTGTAGTCCAT</td>\n",
       "      <td>FAST</td>\n",
       "      <td>2022-09-03 14:20:13.997</td>\n",
       "    </tr>\n",
       "  </tbody>\n",
       "</table>\n",
       "<p>322350 rows × 7 columns</p>\n",
       "</div>"
      ],
      "text/plain": [
       "          OrderCreationDateTime  sequencelength ProdScale PITname  \\\n",
       "0       2022-05-10 06:31:21.323              40      0.01    QPCR   \n",
       "1       2022-05-10 06:31:21.323              18      0.01    QPCR   \n",
       "2       2022-05-02 07:10:51.757              30       0.2    ALCM   \n",
       "4       2022-05-02 07:12:04.587              20       1.0    ALCU   \n",
       "5       2022-05-02 07:12:04.587              20       1.0    ALCU   \n",
       "...                         ...             ...       ...     ...   \n",
       "482320  2022-09-02 14:02:06.000              22      0.01  SFONXP   \n",
       "482321  2022-09-02 14:17:13.000              22      0.05    PCRP   \n",
       "482322  2022-09-02 14:22:22.000              18      0.01    ALCU   \n",
       "482326  2022-09-02 14:38:35.000              22      0.01    ALCU   \n",
       "482365  2022-09-02 18:28:40.000              20      0.01    ALCU   \n",
       "\n",
       "                                                 Sequence PurificationName  \\\n",
       "0       [ROX]TGAATGTGGTCTCCAAAACGCTGAATGTAGTCTCCAAAAC[...             HPLC   \n",
       "1                         [YAKYE]ATCCGTTTCCATTGGTAA[BHQ1]             HPLC   \n",
       "2                [SpC3]CCCTGTCTCTTATACACATCTCCGAGGC[SpC3]             HPLC   \n",
       "4                                    TTTTTTTTTTGGGGGGGGGG             FAST   \n",
       "5                                    TTTTTTTTTTGGGGGGGGGG             FAST   \n",
       "...                                                   ...              ...   \n",
       "482320                             GCCATTATCCATGCTGGTTCTA             FAST   \n",
       "482321                             CGCGCTCGAGTTACAACTTAGA             HPSF   \n",
       "482322                                 GSGKGCGCATCTCGTCCT             HPSF   \n",
       "482326                             ACTGCCCTGGGTTCTGTAGTCC             FAST   \n",
       "482365                               TCGTCGTCCTTGTAGTCCAT             FAST   \n",
       "\n",
       "                   shipmentdate  \n",
       "0       2022-05-14 15:00:46.137  \n",
       "1       2022-05-14 15:00:46.203  \n",
       "2       2022-05-14 11:26:58.810  \n",
       "4       2022-05-24 05:09:57.097  \n",
       "5       2022-05-24 05:09:57.097  \n",
       "...                         ...  \n",
       "482320  2022-09-02 19:22:13.260  \n",
       "482321  2022-09-03 11:45:27.913  \n",
       "482322  2022-09-05 06:58:24.507  \n",
       "482326  2022-09-05 05:14:09.837  \n",
       "482365  2022-09-03 14:20:13.997  \n",
       "\n",
       "[322350 rows x 7 columns]"
      ]
     },
     "execution_count": 6,
     "metadata": {},
     "output_type": "execute_result"
    }
   ],
   "source": [
    "df"
   ]
  },
  {
   "cell_type": "code",
   "execution_count": 7,
   "id": "be04ff42",
   "metadata": {
    "scrolled": true
   },
   "outputs": [
    {
     "data": {
      "text/html": [
       "<div>\n",
       "<style scoped>\n",
       "    .dataframe tbody tr th:only-of-type {\n",
       "        vertical-align: middle;\n",
       "    }\n",
       "\n",
       "    .dataframe tbody tr th {\n",
       "        vertical-align: top;\n",
       "    }\n",
       "\n",
       "    .dataframe thead th {\n",
       "        text-align: right;\n",
       "    }\n",
       "</style>\n",
       "<table border=\"1\" class=\"dataframe\">\n",
       "  <thead>\n",
       "    <tr style=\"text-align: right;\">\n",
       "      <th></th>\n",
       "      <th>OrderCreationDateTime</th>\n",
       "      <th>sequencelength</th>\n",
       "      <th>ProdScale</th>\n",
       "      <th>PITname</th>\n",
       "      <th>Sequence</th>\n",
       "      <th>PurificationName</th>\n",
       "      <th>shipmentdate</th>\n",
       "      <th>time_delta</th>\n",
       "    </tr>\n",
       "  </thead>\n",
       "  <tbody>\n",
       "    <tr>\n",
       "      <th>0</th>\n",
       "      <td>2022-05-10 06:31:21.323</td>\n",
       "      <td>40</td>\n",
       "      <td>0.01</td>\n",
       "      <td>QPCR</td>\n",
       "      <td>[ROX]TGAATGTGGTCTCCAAAACGCTGAATGTAGTCTCCAAAAC[...</td>\n",
       "      <td>HPLC</td>\n",
       "      <td>2022-05-14 15:00:46.137</td>\n",
       "      <td>4 days 08:29:24.814000</td>\n",
       "    </tr>\n",
       "    <tr>\n",
       "      <th>1</th>\n",
       "      <td>2022-05-10 06:31:21.323</td>\n",
       "      <td>18</td>\n",
       "      <td>0.01</td>\n",
       "      <td>QPCR</td>\n",
       "      <td>[YAKYE]ATCCGTTTCCATTGGTAA[BHQ1]</td>\n",
       "      <td>HPLC</td>\n",
       "      <td>2022-05-14 15:00:46.203</td>\n",
       "      <td>4 days 08:29:24.880000</td>\n",
       "    </tr>\n",
       "    <tr>\n",
       "      <th>2</th>\n",
       "      <td>2022-05-02 07:10:51.757</td>\n",
       "      <td>30</td>\n",
       "      <td>0.2</td>\n",
       "      <td>ALCM</td>\n",
       "      <td>[SpC3]CCCTGTCTCTTATACACATCTCCGAGGC[SpC3]</td>\n",
       "      <td>HPLC</td>\n",
       "      <td>2022-05-14 11:26:58.810</td>\n",
       "      <td>12 days 04:16:07.053000</td>\n",
       "    </tr>\n",
       "    <tr>\n",
       "      <th>4</th>\n",
       "      <td>2022-05-02 07:12:04.587</td>\n",
       "      <td>20</td>\n",
       "      <td>1.0</td>\n",
       "      <td>ALCU</td>\n",
       "      <td>TTTTTTTTTTGGGGGGGGGG</td>\n",
       "      <td>FAST</td>\n",
       "      <td>2022-05-24 05:09:57.097</td>\n",
       "      <td>21 days 21:57:52.510000</td>\n",
       "    </tr>\n",
       "    <tr>\n",
       "      <th>5</th>\n",
       "      <td>2022-05-02 07:12:04.587</td>\n",
       "      <td>20</td>\n",
       "      <td>1.0</td>\n",
       "      <td>ALCU</td>\n",
       "      <td>TTTTTTTTTTGGGGGGGGGG</td>\n",
       "      <td>FAST</td>\n",
       "      <td>2022-05-24 05:09:57.097</td>\n",
       "      <td>21 days 21:57:52.510000</td>\n",
       "    </tr>\n",
       "    <tr>\n",
       "      <th>...</th>\n",
       "      <td>...</td>\n",
       "      <td>...</td>\n",
       "      <td>...</td>\n",
       "      <td>...</td>\n",
       "      <td>...</td>\n",
       "      <td>...</td>\n",
       "      <td>...</td>\n",
       "      <td>...</td>\n",
       "    </tr>\n",
       "    <tr>\n",
       "      <th>482320</th>\n",
       "      <td>2022-09-02 14:02:06.000</td>\n",
       "      <td>22</td>\n",
       "      <td>0.01</td>\n",
       "      <td>SFONXP</td>\n",
       "      <td>GCCATTATCCATGCTGGTTCTA</td>\n",
       "      <td>FAST</td>\n",
       "      <td>2022-09-02 19:22:13.260</td>\n",
       "      <td>0 days 05:20:07.260000</td>\n",
       "    </tr>\n",
       "    <tr>\n",
       "      <th>482321</th>\n",
       "      <td>2022-09-02 14:17:13.000</td>\n",
       "      <td>22</td>\n",
       "      <td>0.05</td>\n",
       "      <td>PCRP</td>\n",
       "      <td>CGCGCTCGAGTTACAACTTAGA</td>\n",
       "      <td>HPSF</td>\n",
       "      <td>2022-09-03 11:45:27.913</td>\n",
       "      <td>0 days 21:28:14.913000</td>\n",
       "    </tr>\n",
       "    <tr>\n",
       "      <th>482322</th>\n",
       "      <td>2022-09-02 14:22:22.000</td>\n",
       "      <td>18</td>\n",
       "      <td>0.01</td>\n",
       "      <td>ALCU</td>\n",
       "      <td>GSGKGCGCATCTCGTCCT</td>\n",
       "      <td>HPSF</td>\n",
       "      <td>2022-09-05 06:58:24.507</td>\n",
       "      <td>2 days 16:36:02.507000</td>\n",
       "    </tr>\n",
       "    <tr>\n",
       "      <th>482326</th>\n",
       "      <td>2022-09-02 14:38:35.000</td>\n",
       "      <td>22</td>\n",
       "      <td>0.01</td>\n",
       "      <td>ALCU</td>\n",
       "      <td>ACTGCCCTGGGTTCTGTAGTCC</td>\n",
       "      <td>FAST</td>\n",
       "      <td>2022-09-05 05:14:09.837</td>\n",
       "      <td>2 days 14:35:34.837000</td>\n",
       "    </tr>\n",
       "    <tr>\n",
       "      <th>482365</th>\n",
       "      <td>2022-09-02 18:28:40.000</td>\n",
       "      <td>20</td>\n",
       "      <td>0.01</td>\n",
       "      <td>ALCU</td>\n",
       "      <td>TCGTCGTCCTTGTAGTCCAT</td>\n",
       "      <td>FAST</td>\n",
       "      <td>2022-09-03 14:20:13.997</td>\n",
       "      <td>0 days 19:51:33.997000</td>\n",
       "    </tr>\n",
       "  </tbody>\n",
       "</table>\n",
       "<p>322350 rows × 8 columns</p>\n",
       "</div>"
      ],
      "text/plain": [
       "         OrderCreationDateTime  sequencelength ProdScale PITname  \\\n",
       "0      2022-05-10 06:31:21.323              40      0.01    QPCR   \n",
       "1      2022-05-10 06:31:21.323              18      0.01    QPCR   \n",
       "2      2022-05-02 07:10:51.757              30       0.2    ALCM   \n",
       "4      2022-05-02 07:12:04.587              20       1.0    ALCU   \n",
       "5      2022-05-02 07:12:04.587              20       1.0    ALCU   \n",
       "...                        ...             ...       ...     ...   \n",
       "482320 2022-09-02 14:02:06.000              22      0.01  SFONXP   \n",
       "482321 2022-09-02 14:17:13.000              22      0.05    PCRP   \n",
       "482322 2022-09-02 14:22:22.000              18      0.01    ALCU   \n",
       "482326 2022-09-02 14:38:35.000              22      0.01    ALCU   \n",
       "482365 2022-09-02 18:28:40.000              20      0.01    ALCU   \n",
       "\n",
       "                                                 Sequence PurificationName  \\\n",
       "0       [ROX]TGAATGTGGTCTCCAAAACGCTGAATGTAGTCTCCAAAAC[...             HPLC   \n",
       "1                         [YAKYE]ATCCGTTTCCATTGGTAA[BHQ1]             HPLC   \n",
       "2                [SpC3]CCCTGTCTCTTATACACATCTCCGAGGC[SpC3]             HPLC   \n",
       "4                                    TTTTTTTTTTGGGGGGGGGG             FAST   \n",
       "5                                    TTTTTTTTTTGGGGGGGGGG             FAST   \n",
       "...                                                   ...              ...   \n",
       "482320                             GCCATTATCCATGCTGGTTCTA             FAST   \n",
       "482321                             CGCGCTCGAGTTACAACTTAGA             HPSF   \n",
       "482322                                 GSGKGCGCATCTCGTCCT             HPSF   \n",
       "482326                             ACTGCCCTGGGTTCTGTAGTCC             FAST   \n",
       "482365                               TCGTCGTCCTTGTAGTCCAT             FAST   \n",
       "\n",
       "                  shipmentdate              time_delta  \n",
       "0      2022-05-14 15:00:46.137  4 days 08:29:24.814000  \n",
       "1      2022-05-14 15:00:46.203  4 days 08:29:24.880000  \n",
       "2      2022-05-14 11:26:58.810 12 days 04:16:07.053000  \n",
       "4      2022-05-24 05:09:57.097 21 days 21:57:52.510000  \n",
       "5      2022-05-24 05:09:57.097 21 days 21:57:52.510000  \n",
       "...                        ...                     ...  \n",
       "482320 2022-09-02 19:22:13.260  0 days 05:20:07.260000  \n",
       "482321 2022-09-03 11:45:27.913  0 days 21:28:14.913000  \n",
       "482322 2022-09-05 06:58:24.507  2 days 16:36:02.507000  \n",
       "482326 2022-09-05 05:14:09.837  2 days 14:35:34.837000  \n",
       "482365 2022-09-03 14:20:13.997  0 days 19:51:33.997000  \n",
       "\n",
       "[322350 rows x 8 columns]"
      ]
     },
     "execution_count": 7,
     "metadata": {},
     "output_type": "execute_result"
    }
   ],
   "source": [
    "#get the date diff\n",
    "#convert OrderCreationDateTime and shipmentdate in datetime\n",
    "df['OrderCreationDateTime']=pd.to_datetime(df['OrderCreationDateTime'])\n",
    "df['shipmentdate']=pd.to_datetime(df['shipmentdate'])\n",
    "\n",
    "#calculate total shipment time\n",
    "df['time_delta'] = (df.shipmentdate - df.OrderCreationDateTime)\n",
    "\n",
    "df"
   ]
  },
  {
   "cell_type": "code",
   "execution_count": 8,
   "id": "0b1ed099",
   "metadata": {},
   "outputs": [],
   "source": [
    "# create a colume with timedelta as total minutes, as a float type\n",
    "import math\n",
    "df['shipment_time_days'] = ((df.shipmentdate - df.OrderCreationDateTime) / pd.Timedelta(days=1)).apply(np.ceil)\n",
    "df['shipment_time_days'] = df['shipment_time_days'].astype('int')"
   ]
  },
  {
   "cell_type": "code",
   "execution_count": 9,
   "id": "ba7a9abb",
   "metadata": {},
   "outputs": [
    {
     "data": {
      "text/html": [
       "<div>\n",
       "<style scoped>\n",
       "    .dataframe tbody tr th:only-of-type {\n",
       "        vertical-align: middle;\n",
       "    }\n",
       "\n",
       "    .dataframe tbody tr th {\n",
       "        vertical-align: top;\n",
       "    }\n",
       "\n",
       "    .dataframe thead th {\n",
       "        text-align: right;\n",
       "    }\n",
       "</style>\n",
       "<table border=\"1\" class=\"dataframe\">\n",
       "  <thead>\n",
       "    <tr style=\"text-align: right;\">\n",
       "      <th></th>\n",
       "      <th>OrderCreationDateTime</th>\n",
       "      <th>sequencelength</th>\n",
       "      <th>ProdScale</th>\n",
       "      <th>PITname</th>\n",
       "      <th>Sequence</th>\n",
       "      <th>PurificationName</th>\n",
       "      <th>shipmentdate</th>\n",
       "      <th>time_delta</th>\n",
       "      <th>shipment_time_days</th>\n",
       "    </tr>\n",
       "  </thead>\n",
       "  <tbody>\n",
       "    <tr>\n",
       "      <th>0</th>\n",
       "      <td>2022-05-10 06:31:21.323</td>\n",
       "      <td>40</td>\n",
       "      <td>0.01</td>\n",
       "      <td>QPCR</td>\n",
       "      <td>[ROX]TGAATGTGGTCTCCAAAACGCTGAATGTAGTCTCCAAAAC[...</td>\n",
       "      <td>HPLC</td>\n",
       "      <td>2022-05-14 15:00:46.137</td>\n",
       "      <td>4 days 08:29:24.814000</td>\n",
       "      <td>5</td>\n",
       "    </tr>\n",
       "    <tr>\n",
       "      <th>1</th>\n",
       "      <td>2022-05-10 06:31:21.323</td>\n",
       "      <td>18</td>\n",
       "      <td>0.01</td>\n",
       "      <td>QPCR</td>\n",
       "      <td>[YAKYE]ATCCGTTTCCATTGGTAA[BHQ1]</td>\n",
       "      <td>HPLC</td>\n",
       "      <td>2022-05-14 15:00:46.203</td>\n",
       "      <td>4 days 08:29:24.880000</td>\n",
       "      <td>5</td>\n",
       "    </tr>\n",
       "    <tr>\n",
       "      <th>2</th>\n",
       "      <td>2022-05-02 07:10:51.757</td>\n",
       "      <td>30</td>\n",
       "      <td>0.2</td>\n",
       "      <td>ALCM</td>\n",
       "      <td>[SpC3]CCCTGTCTCTTATACACATCTCCGAGGC[SpC3]</td>\n",
       "      <td>HPLC</td>\n",
       "      <td>2022-05-14 11:26:58.810</td>\n",
       "      <td>12 days 04:16:07.053000</td>\n",
       "      <td>13</td>\n",
       "    </tr>\n",
       "    <tr>\n",
       "      <th>4</th>\n",
       "      <td>2022-05-02 07:12:04.587</td>\n",
       "      <td>20</td>\n",
       "      <td>1.0</td>\n",
       "      <td>ALCU</td>\n",
       "      <td>TTTTTTTTTTGGGGGGGGGG</td>\n",
       "      <td>FAST</td>\n",
       "      <td>2022-05-24 05:09:57.097</td>\n",
       "      <td>21 days 21:57:52.510000</td>\n",
       "      <td>22</td>\n",
       "    </tr>\n",
       "    <tr>\n",
       "      <th>5</th>\n",
       "      <td>2022-05-02 07:12:04.587</td>\n",
       "      <td>20</td>\n",
       "      <td>1.0</td>\n",
       "      <td>ALCU</td>\n",
       "      <td>TTTTTTTTTTGGGGGGGGGG</td>\n",
       "      <td>FAST</td>\n",
       "      <td>2022-05-24 05:09:57.097</td>\n",
       "      <td>21 days 21:57:52.510000</td>\n",
       "      <td>22</td>\n",
       "    </tr>\n",
       "    <tr>\n",
       "      <th>...</th>\n",
       "      <td>...</td>\n",
       "      <td>...</td>\n",
       "      <td>...</td>\n",
       "      <td>...</td>\n",
       "      <td>...</td>\n",
       "      <td>...</td>\n",
       "      <td>...</td>\n",
       "      <td>...</td>\n",
       "      <td>...</td>\n",
       "    </tr>\n",
       "    <tr>\n",
       "      <th>482320</th>\n",
       "      <td>2022-09-02 14:02:06.000</td>\n",
       "      <td>22</td>\n",
       "      <td>0.01</td>\n",
       "      <td>SFONXP</td>\n",
       "      <td>GCCATTATCCATGCTGGTTCTA</td>\n",
       "      <td>FAST</td>\n",
       "      <td>2022-09-02 19:22:13.260</td>\n",
       "      <td>0 days 05:20:07.260000</td>\n",
       "      <td>1</td>\n",
       "    </tr>\n",
       "    <tr>\n",
       "      <th>482321</th>\n",
       "      <td>2022-09-02 14:17:13.000</td>\n",
       "      <td>22</td>\n",
       "      <td>0.05</td>\n",
       "      <td>PCRP</td>\n",
       "      <td>CGCGCTCGAGTTACAACTTAGA</td>\n",
       "      <td>HPSF</td>\n",
       "      <td>2022-09-03 11:45:27.913</td>\n",
       "      <td>0 days 21:28:14.913000</td>\n",
       "      <td>1</td>\n",
       "    </tr>\n",
       "    <tr>\n",
       "      <th>482322</th>\n",
       "      <td>2022-09-02 14:22:22.000</td>\n",
       "      <td>18</td>\n",
       "      <td>0.01</td>\n",
       "      <td>ALCU</td>\n",
       "      <td>GSGKGCGCATCTCGTCCT</td>\n",
       "      <td>HPSF</td>\n",
       "      <td>2022-09-05 06:58:24.507</td>\n",
       "      <td>2 days 16:36:02.507000</td>\n",
       "      <td>3</td>\n",
       "    </tr>\n",
       "    <tr>\n",
       "      <th>482326</th>\n",
       "      <td>2022-09-02 14:38:35.000</td>\n",
       "      <td>22</td>\n",
       "      <td>0.01</td>\n",
       "      <td>ALCU</td>\n",
       "      <td>ACTGCCCTGGGTTCTGTAGTCC</td>\n",
       "      <td>FAST</td>\n",
       "      <td>2022-09-05 05:14:09.837</td>\n",
       "      <td>2 days 14:35:34.837000</td>\n",
       "      <td>3</td>\n",
       "    </tr>\n",
       "    <tr>\n",
       "      <th>482365</th>\n",
       "      <td>2022-09-02 18:28:40.000</td>\n",
       "      <td>20</td>\n",
       "      <td>0.01</td>\n",
       "      <td>ALCU</td>\n",
       "      <td>TCGTCGTCCTTGTAGTCCAT</td>\n",
       "      <td>FAST</td>\n",
       "      <td>2022-09-03 14:20:13.997</td>\n",
       "      <td>0 days 19:51:33.997000</td>\n",
       "      <td>1</td>\n",
       "    </tr>\n",
       "  </tbody>\n",
       "</table>\n",
       "<p>322350 rows × 9 columns</p>\n",
       "</div>"
      ],
      "text/plain": [
       "         OrderCreationDateTime  sequencelength ProdScale PITname  \\\n",
       "0      2022-05-10 06:31:21.323              40      0.01    QPCR   \n",
       "1      2022-05-10 06:31:21.323              18      0.01    QPCR   \n",
       "2      2022-05-02 07:10:51.757              30       0.2    ALCM   \n",
       "4      2022-05-02 07:12:04.587              20       1.0    ALCU   \n",
       "5      2022-05-02 07:12:04.587              20       1.0    ALCU   \n",
       "...                        ...             ...       ...     ...   \n",
       "482320 2022-09-02 14:02:06.000              22      0.01  SFONXP   \n",
       "482321 2022-09-02 14:17:13.000              22      0.05    PCRP   \n",
       "482322 2022-09-02 14:22:22.000              18      0.01    ALCU   \n",
       "482326 2022-09-02 14:38:35.000              22      0.01    ALCU   \n",
       "482365 2022-09-02 18:28:40.000              20      0.01    ALCU   \n",
       "\n",
       "                                                 Sequence PurificationName  \\\n",
       "0       [ROX]TGAATGTGGTCTCCAAAACGCTGAATGTAGTCTCCAAAAC[...             HPLC   \n",
       "1                         [YAKYE]ATCCGTTTCCATTGGTAA[BHQ1]             HPLC   \n",
       "2                [SpC3]CCCTGTCTCTTATACACATCTCCGAGGC[SpC3]             HPLC   \n",
       "4                                    TTTTTTTTTTGGGGGGGGGG             FAST   \n",
       "5                                    TTTTTTTTTTGGGGGGGGGG             FAST   \n",
       "...                                                   ...              ...   \n",
       "482320                             GCCATTATCCATGCTGGTTCTA             FAST   \n",
       "482321                             CGCGCTCGAGTTACAACTTAGA             HPSF   \n",
       "482322                                 GSGKGCGCATCTCGTCCT             HPSF   \n",
       "482326                             ACTGCCCTGGGTTCTGTAGTCC             FAST   \n",
       "482365                               TCGTCGTCCTTGTAGTCCAT             FAST   \n",
       "\n",
       "                  shipmentdate              time_delta  shipment_time_days  \n",
       "0      2022-05-14 15:00:46.137  4 days 08:29:24.814000                   5  \n",
       "1      2022-05-14 15:00:46.203  4 days 08:29:24.880000                   5  \n",
       "2      2022-05-14 11:26:58.810 12 days 04:16:07.053000                  13  \n",
       "4      2022-05-24 05:09:57.097 21 days 21:57:52.510000                  22  \n",
       "5      2022-05-24 05:09:57.097 21 days 21:57:52.510000                  22  \n",
       "...                        ...                     ...                 ...  \n",
       "482320 2022-09-02 19:22:13.260  0 days 05:20:07.260000                   1  \n",
       "482321 2022-09-03 11:45:27.913  0 days 21:28:14.913000                   1  \n",
       "482322 2022-09-05 06:58:24.507  2 days 16:36:02.507000                   3  \n",
       "482326 2022-09-05 05:14:09.837  2 days 14:35:34.837000                   3  \n",
       "482365 2022-09-03 14:20:13.997  0 days 19:51:33.997000                   1  \n",
       "\n",
       "[322350 rows x 9 columns]"
      ]
     },
     "execution_count": 9,
     "metadata": {},
     "output_type": "execute_result"
    }
   ],
   "source": [
    "df"
   ]
  },
  {
   "cell_type": "code",
   "execution_count": 10,
   "id": "c7d2d694",
   "metadata": {},
   "outputs": [],
   "source": [
    "df=df.drop(['OrderCreationDateTime','time_delta','shipmentdate','Sequence'],axis=1)"
   ]
  },
  {
   "cell_type": "code",
   "execution_count": null,
   "id": "b3da99ca",
   "metadata": {},
   "outputs": [],
   "source": [
    "colors = ['pink', 'silver', 'steelblue','blue']\n",
    "# Define the ratio of gap of each fragment in a tuple\n",
    "explode = (0.05, 0.05, 0.05,0.05)\n",
    "df_cases.groupby(['department']).sum().plot(\n",
    "    kind='pie', y='death_inhosp', autopct='%1.0f%%',\n",
    "  colors=colors, explode=explode)"
   ]
  },
  {
   "cell_type": "code",
   "execution_count": 11,
   "id": "ff16ec75",
   "metadata": {},
   "outputs": [
    {
     "name": "stdout",
     "output_type": "stream",
     "text": [
      " sequencelength :  122\n",
      " ProdScale :  8\n",
      " PITname :  25\n",
      " PurificationName :  5\n",
      " shipment_time_days :  55\n"
     ]
    }
   ],
   "source": [
    "def pintLenColVal():\n",
    "    a=df.columns\n",
    "    for a in df.columns:\n",
    "        print( f\" {a} : \",len(pd.unique(df[a])))\n",
    "\n",
    "pintLenColVal()"
   ]
  },
  {
   "cell_type": "code",
   "execution_count": 12,
   "id": "d8440f6c",
   "metadata": {},
   "outputs": [
    {
     "data": {
      "text/plain": [
       "<AxesSubplot:xlabel='shipment_time_days'>"
      ]
     },
     "execution_count": 12,
     "metadata": {},
     "output_type": "execute_result"
    },
    {
     "data": {
      "image/png": "[encoded data removed]",
      "text/plain": [
       "<Figure size 432x288 with 1 Axes>"
      ]
     },
     "metadata": {
      "needs_background": "light"
     },
     "output_type": "display_data"
    }
   ],
   "source": [
    "sns.boxplot('shipment_time_days',data=df)"
   ]
  },
  {
   "cell_type": "code",
   "execution_count": 13,
   "id": "4758b96f",
   "metadata": {},
   "outputs": [
    {
     "data": {
      "text/plain": [
       "<AxesSubplot:xlabel='shipment_time_days'>"
      ]
     },
     "execution_count": 13,
     "metadata": {},
     "output_type": "execute_result"
    },
    {
     "data": {
      "image/png": "[encoded data removed]",
      "text/plain": [
       "<Figure size 432x288 with 1 Axes>"
      ]
     },
     "metadata": {
      "needs_background": "light"
     },
     "output_type": "display_data"
    }
   ],
   "source": [
    "sns.boxplot(x=df['shipment_time_days'])"
   ]
  },
  {
   "cell_type": "code",
   "execution_count": 14,
   "id": "ea85e05a",
   "metadata": {},
   "outputs": [
    {
     "data": {
      "text/html": [
       "<div>\n",
       "<style scoped>\n",
       "    .dataframe tbody tr th:only-of-type {\n",
       "        vertical-align: middle;\n",
       "    }\n",
       "\n",
       "    .dataframe tbody tr th {\n",
       "        vertical-align: top;\n",
       "    }\n",
       "\n",
       "    .dataframe thead th {\n",
       "        text-align: right;\n",
       "    }\n",
       "</style>\n",
       "<table border=\"1\" class=\"dataframe\">\n",
       "  <thead>\n",
       "    <tr style=\"text-align: right;\">\n",
       "      <th></th>\n",
       "      <th>sequencelength</th>\n",
       "      <th>ProdScale</th>\n",
       "      <th>PITname</th>\n",
       "      <th>PurificationName</th>\n",
       "      <th>shipment_time_days</th>\n",
       "    </tr>\n",
       "  </thead>\n",
       "  <tbody>\n",
       "    <tr>\n",
       "      <th>425109</th>\n",
       "      <td>5</td>\n",
       "      <td>0.01</td>\n",
       "      <td>ALCM</td>\n",
       "      <td>HPLC</td>\n",
       "      <td>76</td>\n",
       "    </tr>\n",
       "    <tr>\n",
       "      <th>214608</th>\n",
       "      <td>5</td>\n",
       "      <td>0.01</td>\n",
       "      <td>ALCM</td>\n",
       "      <td>HPLC</td>\n",
       "      <td>76</td>\n",
       "    </tr>\n",
       "    <tr>\n",
       "      <th>63203</th>\n",
       "      <td>5</td>\n",
       "      <td>0.01</td>\n",
       "      <td>ALCM</td>\n",
       "      <td>HPLC</td>\n",
       "      <td>76</td>\n",
       "    </tr>\n",
       "    <tr>\n",
       "      <th>96273</th>\n",
       "      <td>5</td>\n",
       "      <td>0.01</td>\n",
       "      <td>ALCM</td>\n",
       "      <td>HPLC</td>\n",
       "      <td>76</td>\n",
       "    </tr>\n",
       "    <tr>\n",
       "      <th>305010</th>\n",
       "      <td>5</td>\n",
       "      <td>0.01</td>\n",
       "      <td>ALCM</td>\n",
       "      <td>HPLC</td>\n",
       "      <td>76</td>\n",
       "    </tr>\n",
       "    <tr>\n",
       "      <th>...</th>\n",
       "      <td>...</td>\n",
       "      <td>...</td>\n",
       "      <td>...</td>\n",
       "      <td>...</td>\n",
       "      <td>...</td>\n",
       "    </tr>\n",
       "    <tr>\n",
       "      <th>204711</th>\n",
       "      <td>35</td>\n",
       "      <td>0.01</td>\n",
       "      <td>ALCU</td>\n",
       "      <td>FAST</td>\n",
       "      <td>1</td>\n",
       "    </tr>\n",
       "    <tr>\n",
       "      <th>44320</th>\n",
       "      <td>29</td>\n",
       "      <td>0.01</td>\n",
       "      <td>ALCU</td>\n",
       "      <td>FAST</td>\n",
       "      <td>1</td>\n",
       "    </tr>\n",
       "    <tr>\n",
       "      <th>204710</th>\n",
       "      <td>35</td>\n",
       "      <td>0.01</td>\n",
       "      <td>ALCU</td>\n",
       "      <td>FAST</td>\n",
       "      <td>1</td>\n",
       "    </tr>\n",
       "    <tr>\n",
       "      <th>204709</th>\n",
       "      <td>35</td>\n",
       "      <td>0.01</td>\n",
       "      <td>ALCU</td>\n",
       "      <td>FAST</td>\n",
       "      <td>1</td>\n",
       "    </tr>\n",
       "    <tr>\n",
       "      <th>482365</th>\n",
       "      <td>20</td>\n",
       "      <td>0.01</td>\n",
       "      <td>ALCU</td>\n",
       "      <td>FAST</td>\n",
       "      <td>1</td>\n",
       "    </tr>\n",
       "  </tbody>\n",
       "</table>\n",
       "<p>322350 rows × 5 columns</p>\n",
       "</div>"
      ],
      "text/plain": [
       "        sequencelength ProdScale PITname PurificationName  shipment_time_days\n",
       "425109               5      0.01    ALCM             HPLC                  76\n",
       "214608               5      0.01    ALCM             HPLC                  76\n",
       "63203                5      0.01    ALCM             HPLC                  76\n",
       "96273                5      0.01    ALCM             HPLC                  76\n",
       "305010               5      0.01    ALCM             HPLC                  76\n",
       "...                ...       ...     ...              ...                 ...\n",
       "204711              35      0.01    ALCU             FAST                   1\n",
       "44320               29      0.01    ALCU             FAST                   1\n",
       "204710              35      0.01    ALCU             FAST                   1\n",
       "204709              35      0.01    ALCU             FAST                   1\n",
       "482365              20      0.01    ALCU             FAST                   1\n",
       "\n",
       "[322350 rows x 5 columns]"
      ]
     },
     "execution_count": 14,
     "metadata": {},
     "output_type": "execute_result"
    }
   ],
   "source": [
    "df.sort_values(['shipment_time_days'], ascending=False)"
   ]
  },
  {
   "cell_type": "code",
   "execution_count": 15,
   "id": "83eaf650",
   "metadata": {},
   "outputs": [],
   "source": [
    "#drop the rows where shipment_time_hrs value is greater than 7 days (168 hours)\n",
    "df.drop(df[df['shipment_time_days'] > 7].index,inplace = True)"
   ]
  },
  {
   "cell_type": "code",
   "execution_count": 16,
   "id": "08881030",
   "metadata": {},
   "outputs": [
    {
     "data": {
      "text/plain": [
       "<AxesSubplot:xlabel='shipment_time_days'>"
      ]
     },
     "execution_count": 16,
     "metadata": {},
     "output_type": "execute_result"
    },
    {
     "data": {
      "image/png": "[encoded data removed]",
      "text/plain": [
       "<Figure size 432x288 with 1 Axes>"
      ]
     },
     "metadata": {
      "needs_background": "light"
     },
     "output_type": "display_data"
    }
   ],
   "source": [
    "sns.boxplot(x=df['shipment_time_days'])"
   ]
  },
  {
   "cell_type": "code",
   "execution_count": 17,
   "id": "f161c4b7",
   "metadata": {},
   "outputs": [],
   "source": [
    "#instead doing one hot encoding lets try with single column apporach by renaming catagorial to numeric\n",
    "PITs=df.PITname.unique()\n",
    "keys = range(len(PITs))\n",
    "pit_dict=dict(zip(PITs,keys))\n",
    "\n",
    "purifications=df.PurificationName.unique()\n",
    "keys = range(len(purifications))\n",
    "purification_dict=dict(zip(purifications,keys))"
   ]
  },
  {
   "cell_type": "code",
   "execution_count": 18,
   "id": "3838d2be",
   "metadata": {},
   "outputs": [
    {
     "name": "stdout",
     "output_type": "stream",
     "text": [
      "{'QPCR': 0, 'ALCU': 1, 'ALCM': 2, 'SEQP': 3, 'PCRP': 4, 'CLON': 5, 'SFONXP': 6, 'SEQPNXP': 7, 'PCRPNXP': 8, 'NGS_OLIGO': 9, 'SEQPPNXP': 10, 'LNAPrimer': 11, 'PLATE': 12, 'RNAC': 13, 'QStock': 14, 'EXTREMERS': 15, 'LNAProbe': 16, '4Splate': 17, 'LCProbe': 18}\n",
      "{'HPLC': 0, 'FAST': 1, 'HPSF': 2}\n"
     ]
    }
   ],
   "source": [
    "print(pit_dict)\n",
    "print(purification_dict)"
   ]
  },
  {
   "cell_type": "code",
   "execution_count": 19,
   "id": "569ecfad",
   "metadata": {},
   "outputs": [],
   "source": [
    "#replace categorial values to desired number\n",
    "df.PurificationName.replace(purification_dict,inplace=True)\n",
    "df.PITname.replace(pit_dict,inplace=True)"
   ]
  },
  {
   "cell_type": "code",
   "execution_count": 20,
   "id": "62fa767e",
   "metadata": {},
   "outputs": [
    {
     "data": {
      "text/html": [
       "<div>\n",
       "<style scoped>\n",
       "    .dataframe tbody tr th:only-of-type {\n",
       "        vertical-align: middle;\n",
       "    }\n",
       "\n",
       "    .dataframe tbody tr th {\n",
       "        vertical-align: top;\n",
       "    }\n",
       "\n",
       "    .dataframe thead th {\n",
       "        text-align: right;\n",
       "    }\n",
       "</style>\n",
       "<table border=\"1\" class=\"dataframe\">\n",
       "  <thead>\n",
       "    <tr style=\"text-align: right;\">\n",
       "      <th></th>\n",
       "      <th>sequencelength</th>\n",
       "      <th>ProdScale</th>\n",
       "      <th>PITname</th>\n",
       "      <th>PurificationName</th>\n",
       "      <th>shipment_time_days</th>\n",
       "    </tr>\n",
       "  </thead>\n",
       "  <tbody>\n",
       "    <tr>\n",
       "      <th>423269</th>\n",
       "      <td>20</td>\n",
       "      <td>10.0</td>\n",
       "      <td>1</td>\n",
       "      <td>2</td>\n",
       "      <td>6</td>\n",
       "    </tr>\n",
       "    <tr>\n",
       "      <th>117809</th>\n",
       "      <td>5</td>\n",
       "      <td>10.0</td>\n",
       "      <td>1</td>\n",
       "      <td>2</td>\n",
       "      <td>6</td>\n",
       "    </tr>\n",
       "    <tr>\n",
       "      <th>145800</th>\n",
       "      <td>13</td>\n",
       "      <td>10.0</td>\n",
       "      <td>1</td>\n",
       "      <td>2</td>\n",
       "      <td>4</td>\n",
       "    </tr>\n",
       "    <tr>\n",
       "      <th>398539</th>\n",
       "      <td>34</td>\n",
       "      <td>10.0</td>\n",
       "      <td>1</td>\n",
       "      <td>2</td>\n",
       "      <td>7</td>\n",
       "    </tr>\n",
       "    <tr>\n",
       "      <th>92647</th>\n",
       "      <td>20</td>\n",
       "      <td>10.0</td>\n",
       "      <td>1</td>\n",
       "      <td>2</td>\n",
       "      <td>6</td>\n",
       "    </tr>\n",
       "    <tr>\n",
       "      <th>...</th>\n",
       "      <td>...</td>\n",
       "      <td>...</td>\n",
       "      <td>...</td>\n",
       "      <td>...</td>\n",
       "      <td>...</td>\n",
       "    </tr>\n",
       "    <tr>\n",
       "      <th>148633</th>\n",
       "      <td>45</td>\n",
       "      <td>0.004</td>\n",
       "      <td>17</td>\n",
       "      <td>1</td>\n",
       "      <td>4</td>\n",
       "    </tr>\n",
       "    <tr>\n",
       "      <th>148634</th>\n",
       "      <td>45</td>\n",
       "      <td>0.004</td>\n",
       "      <td>17</td>\n",
       "      <td>1</td>\n",
       "      <td>4</td>\n",
       "    </tr>\n",
       "    <tr>\n",
       "      <th>148635</th>\n",
       "      <td>45</td>\n",
       "      <td>0.004</td>\n",
       "      <td>17</td>\n",
       "      <td>1</td>\n",
       "      <td>4</td>\n",
       "    </tr>\n",
       "    <tr>\n",
       "      <th>148636</th>\n",
       "      <td>45</td>\n",
       "      <td>0.004</td>\n",
       "      <td>17</td>\n",
       "      <td>1</td>\n",
       "      <td>4</td>\n",
       "    </tr>\n",
       "    <tr>\n",
       "      <th>240630</th>\n",
       "      <td>45</td>\n",
       "      <td>0.004</td>\n",
       "      <td>17</td>\n",
       "      <td>1</td>\n",
       "      <td>4</td>\n",
       "    </tr>\n",
       "  </tbody>\n",
       "</table>\n",
       "<p>278184 rows × 5 columns</p>\n",
       "</div>"
      ],
      "text/plain": [
       "        sequencelength ProdScale  PITname  PurificationName  \\\n",
       "423269              20      10.0        1                 2   \n",
       "117809               5      10.0        1                 2   \n",
       "145800              13      10.0        1                 2   \n",
       "398539              34      10.0        1                 2   \n",
       "92647               20      10.0        1                 2   \n",
       "...                ...       ...      ...               ...   \n",
       "148633              45     0.004       17                 1   \n",
       "148634              45     0.004       17                 1   \n",
       "148635              45     0.004       17                 1   \n",
       "148636              45     0.004       17                 1   \n",
       "240630              45     0.004       17                 1   \n",
       "\n",
       "        shipment_time_days  \n",
       "423269                   6  \n",
       "117809                   6  \n",
       "145800                   4  \n",
       "398539                   7  \n",
       "92647                    6  \n",
       "...                    ...  \n",
       "148633                   4  \n",
       "148634                   4  \n",
       "148635                   4  \n",
       "148636                   4  \n",
       "240630                   4  \n",
       "\n",
       "[278184 rows x 5 columns]"
      ]
     },
     "execution_count": 20,
     "metadata": {},
     "output_type": "execute_result"
    }
   ],
   "source": [
    "df.sort_values(['ProdScale'],ascending=False)"
   ]
  },
  {
   "cell_type": "code",
   "execution_count": 21,
   "id": "f3e9be0c",
   "metadata": {},
   "outputs": [
    {
     "name": "stdout",
     "output_type": "stream",
     "text": [
      "0.01\n",
      "0.05\n",
      "0.2\n",
      "1.0\n",
      "10.0\n",
      "0.004\n"
     ]
    }
   ],
   "source": [
    "len(df['ProdScale'].unique())\n",
    "for a in df['ProdScale'].unique():\n",
    "    print(a)"
   ]
  },
  {
   "cell_type": "code",
   "execution_count": 22,
   "id": "8d5def4f",
   "metadata": {},
   "outputs": [],
   "source": [
    "df['ProdScale']=df['ProdScale'].astype(float)"
   ]
  },
  {
   "cell_type": "code",
   "execution_count": 23,
   "id": "7220bfee",
   "metadata": {},
   "outputs": [],
   "source": [
    "#sns having issues to handle float hence converting to int\n",
    "df['ProdScale']=df['ProdScale'].apply(lambda x:x*1000)"
   ]
  },
  {
   "cell_type": "code",
   "execution_count": 24,
   "id": "2fa45629",
   "metadata": {},
   "outputs": [
    {
     "data": {
      "text/html": [
       "<div>\n",
       "<style scoped>\n",
       "    .dataframe tbody tr th:only-of-type {\n",
       "        vertical-align: middle;\n",
       "    }\n",
       "\n",
       "    .dataframe tbody tr th {\n",
       "        vertical-align: top;\n",
       "    }\n",
       "\n",
       "    .dataframe thead th {\n",
       "        text-align: right;\n",
       "    }\n",
       "</style>\n",
       "<table border=\"1\" class=\"dataframe\">\n",
       "  <thead>\n",
       "    <tr style=\"text-align: right;\">\n",
       "      <th></th>\n",
       "      <th>sequencelength</th>\n",
       "      <th>ProdScale</th>\n",
       "      <th>PITname</th>\n",
       "      <th>PurificationName</th>\n",
       "      <th>shipment_time_days</th>\n",
       "    </tr>\n",
       "  </thead>\n",
       "  <tbody>\n",
       "    <tr>\n",
       "      <th>423269</th>\n",
       "      <td>20</td>\n",
       "      <td>10000</td>\n",
       "      <td>1</td>\n",
       "      <td>2</td>\n",
       "      <td>6</td>\n",
       "    </tr>\n",
       "    <tr>\n",
       "      <th>117809</th>\n",
       "      <td>5</td>\n",
       "      <td>10000</td>\n",
       "      <td>1</td>\n",
       "      <td>2</td>\n",
       "      <td>6</td>\n",
       "    </tr>\n",
       "    <tr>\n",
       "      <th>145800</th>\n",
       "      <td>13</td>\n",
       "      <td>10000</td>\n",
       "      <td>1</td>\n",
       "      <td>2</td>\n",
       "      <td>4</td>\n",
       "    </tr>\n",
       "    <tr>\n",
       "      <th>398539</th>\n",
       "      <td>34</td>\n",
       "      <td>10000</td>\n",
       "      <td>1</td>\n",
       "      <td>2</td>\n",
       "      <td>7</td>\n",
       "    </tr>\n",
       "    <tr>\n",
       "      <th>92647</th>\n",
       "      <td>20</td>\n",
       "      <td>10000</td>\n",
       "      <td>1</td>\n",
       "      <td>2</td>\n",
       "      <td>6</td>\n",
       "    </tr>\n",
       "    <tr>\n",
       "      <th>...</th>\n",
       "      <td>...</td>\n",
       "      <td>...</td>\n",
       "      <td>...</td>\n",
       "      <td>...</td>\n",
       "      <td>...</td>\n",
       "    </tr>\n",
       "    <tr>\n",
       "      <th>148633</th>\n",
       "      <td>45</td>\n",
       "      <td>4</td>\n",
       "      <td>17</td>\n",
       "      <td>1</td>\n",
       "      <td>4</td>\n",
       "    </tr>\n",
       "    <tr>\n",
       "      <th>148634</th>\n",
       "      <td>45</td>\n",
       "      <td>4</td>\n",
       "      <td>17</td>\n",
       "      <td>1</td>\n",
       "      <td>4</td>\n",
       "    </tr>\n",
       "    <tr>\n",
       "      <th>148635</th>\n",
       "      <td>45</td>\n",
       "      <td>4</td>\n",
       "      <td>17</td>\n",
       "      <td>1</td>\n",
       "      <td>4</td>\n",
       "    </tr>\n",
       "    <tr>\n",
       "      <th>148636</th>\n",
       "      <td>45</td>\n",
       "      <td>4</td>\n",
       "      <td>17</td>\n",
       "      <td>1</td>\n",
       "      <td>4</td>\n",
       "    </tr>\n",
       "    <tr>\n",
       "      <th>240630</th>\n",
       "      <td>45</td>\n",
       "      <td>4</td>\n",
       "      <td>17</td>\n",
       "      <td>1</td>\n",
       "      <td>4</td>\n",
       "    </tr>\n",
       "  </tbody>\n",
       "</table>\n",
       "<p>278184 rows × 5 columns</p>\n",
       "</div>"
      ],
      "text/plain": [
       "        sequencelength  ProdScale  PITname  PurificationName  \\\n",
       "423269              20      10000        1                 2   \n",
       "117809               5      10000        1                 2   \n",
       "145800              13      10000        1                 2   \n",
       "398539              34      10000        1                 2   \n",
       "92647               20      10000        1                 2   \n",
       "...                ...        ...      ...               ...   \n",
       "148633              45          4       17                 1   \n",
       "148634              45          4       17                 1   \n",
       "148635              45          4       17                 1   \n",
       "148636              45          4       17                 1   \n",
       "240630              45          4       17                 1   \n",
       "\n",
       "        shipment_time_days  \n",
       "423269                   6  \n",
       "117809                   6  \n",
       "145800                   4  \n",
       "398539                   7  \n",
       "92647                    6  \n",
       "...                    ...  \n",
       "148633                   4  \n",
       "148634                   4  \n",
       "148635                   4  \n",
       "148636                   4  \n",
       "240630                   4  \n",
       "\n",
       "[278184 rows x 5 columns]"
      ]
     },
     "execution_count": 24,
     "metadata": {},
     "output_type": "execute_result"
    }
   ],
   "source": [
    "df['ProdScale']=df['ProdScale'].astype('int')\n",
    "df.sort_values(['ProdScale'],ascending=False)"
   ]
  },
  {
   "cell_type": "code",
   "execution_count": 25,
   "id": "2dac1fd1",
   "metadata": {},
   "outputs": [
    {
     "data": {
      "text/plain": [
       "<AxesSubplot:xlabel='ProdScale'>"
      ]
     },
     "execution_count": 25,
     "metadata": {},
     "output_type": "execute_result"
    },
    {
     "data": {
      "image/png": "[encoded data removed]",
      "text/plain": [
       "<Figure size 432x288 with 1 Axes>"
      ]
     },
     "metadata": {
      "needs_background": "light"
     },
     "output_type": "display_data"
    }
   ],
   "source": [
    "sns.boxplot(x=df['ProdScale'])"
   ]
  },
  {
   "cell_type": "code",
   "execution_count": 31,
   "id": "75b7810c",
   "metadata": {},
   "outputs": [
    {
     "data": {
      "text/plain": [
       "198       1000\n",
       "199       1000\n",
       "277       1000\n",
       "1155      1000\n",
       "1627      1000\n",
       "          ... \n",
       "479967    1000\n",
       "479968    1000\n",
       "480687    1000\n",
       "480784    1000\n",
       "481450    1000\n",
       "Name: ProdScale, Length: 2174, dtype: int32"
      ]
     },
     "execution_count": 31,
     "metadata": {},
     "output_type": "execute_result"
    }
   ],
   "source": [
    "import numpy as np\n",
    "from scipy import stats\n",
    "df['min_zscore']=np.abs(stats.zscore(df['ProdScale'])) < 3\n",
    "#len(pd.unique(df['min_zscore']))\n",
    "df['ProdScale'][df['min_zscore']==False]\n",
    "#df.drop(df['tot_mins_diff'][df['min_zscore']==False].index, inplace = True)"
   ]
  },
  {
   "cell_type": "code",
   "execution_count": 32,
   "id": "36759399",
   "metadata": {},
   "outputs": [
    {
     "data": {
      "text/plain": [
       "array([ 1000, 10000])"
      ]
     },
     "execution_count": 32,
     "metadata": {},
     "output_type": "execute_result"
    }
   ],
   "source": [
    "df['ProdScale'][df['min_zscore']==False].unique()"
   ]
  },
  {
   "cell_type": "code",
   "execution_count": 33,
   "id": "8b81631a",
   "metadata": {},
   "outputs": [
    {
     "data": {
      "text/plain": [
       "2174"
      ]
     },
     "execution_count": 33,
     "metadata": {},
     "output_type": "execute_result"
    }
   ],
   "source": [
    "df['ProdScale'][df['min_zscore']==False].count()"
   ]
  },
  {
   "cell_type": "code",
   "execution_count": 34,
   "id": "f7a72684",
   "metadata": {},
   "outputs": [],
   "source": [
    "df.drop(df['ProdScale'][df['min_zscore']==False].index, inplace = True)"
   ]
  },
  {
   "cell_type": "code",
   "execution_count": 35,
   "id": "4222697f",
   "metadata": {},
   "outputs": [
    {
     "data": {
      "text/plain": [
       "<AxesSubplot:xlabel='ProdScale'>"
      ]
     },
     "execution_count": 35,
     "metadata": {},
     "output_type": "execute_result"
    },
    {
     "data": {
      "image/png": "[encoded data removed]",
      "text/plain": [
       "<Figure size 432x288 with 1 Axes>"
      ]
     },
     "metadata": {
      "needs_background": "light"
     },
     "output_type": "display_data"
    }
   ],
   "source": [
    "sns.boxplot('ProdScale',data=df)"
   ]
  },
  {
   "cell_type": "code",
   "execution_count": 36,
   "id": "30fbdadb",
   "metadata": {},
   "outputs": [
    {
     "data": {
      "text/plain": [
       "197       200\n",
       "235       200\n",
       "598       200\n",
       "599       200\n",
       "604       200\n",
       "         ... \n",
       "480846    200\n",
       "480954    200\n",
       "481067    200\n",
       "481470    200\n",
       "481617    200\n",
       "Name: ProdScale, Length: 7257, dtype: int32"
      ]
     },
     "execution_count": 36,
     "metadata": {},
     "output_type": "execute_result"
    }
   ],
   "source": [
    "df['min_zscore']=np.abs(stats.zscore(df['ProdScale'])) < 3\n",
    "#len(pd.unique(df['min_zscore']))\n",
    "df['ProdScale'][df['min_zscore']==False]\n",
    "#df.drop(df['tot_mins_diff'][df['min_zscore']==False].index, inplace = True)"
   ]
  },
  {
   "cell_type": "code",
   "execution_count": 37,
   "id": "2f467c71",
   "metadata": {},
   "outputs": [
    {
     "data": {
      "text/plain": [
       "array([200])"
      ]
     },
     "execution_count": 37,
     "metadata": {},
     "output_type": "execute_result"
    }
   ],
   "source": [
    "df['ProdScale'][df['min_zscore']==False].unique()"
   ]
  },
  {
   "cell_type": "code",
   "execution_count": 38,
   "id": "f28ea7ca",
   "metadata": {},
   "outputs": [
    {
     "data": {
      "text/plain": [
       "7257"
      ]
     },
     "execution_count": 38,
     "metadata": {},
     "output_type": "execute_result"
    }
   ],
   "source": [
    "df['ProdScale'][df['min_zscore']==False].count()"
   ]
  },
  {
   "cell_type": "code",
   "execution_count": 39,
   "id": "93d5a8e8",
   "metadata": {},
   "outputs": [],
   "source": [
    "df.drop(df['ProdScale'][df['min_zscore']==False].index, inplace = True)"
   ]
  },
  {
   "cell_type": "code",
   "execution_count": 40,
   "id": "6b21ba02",
   "metadata": {},
   "outputs": [
    {
     "data": {
      "text/plain": [
       "<AxesSubplot:xlabel='ProdScale'>"
      ]
     },
     "execution_count": 40,
     "metadata": {},
     "output_type": "execute_result"
    },
    {
     "data": {
      "image/png": "[encoded data removed]",
      "text/plain": [
       "<Figure size 432x288 with 1 Axes>"
      ]
     },
     "metadata": {
      "needs_background": "light"
     },
     "output_type": "display_data"
    }
   ],
   "source": [
    "sns.boxplot(x=df.ProdScale)"
   ]
  },
  {
   "cell_type": "code",
   "execution_count": 26,
   "id": "da4eaea4",
   "metadata": {},
   "outputs": [
    {
     "name": "stdout",
     "output_type": "stream",
     "text": [
      "10 ==> 195477\n",
      "50 ==> 72723\n",
      "200 ==> 7257\n",
      "1000 ==> 2119\n",
      "10000 ==> 55\n",
      "4 ==> 553\n"
     ]
    }
   ],
   "source": [
    "for a in df['ProdScale'].unique():\n",
    "    print(a,'==>',df['ProdScale'][df['ProdScale']==a].count())"
   ]
  },
  {
   "cell_type": "code",
   "execution_count": 41,
   "id": "199a7396",
   "metadata": {},
   "outputs": [
    {
     "data": {
      "text/html": [
       "<div>\n",
       "<style scoped>\n",
       "    .dataframe tbody tr th:only-of-type {\n",
       "        vertical-align: middle;\n",
       "    }\n",
       "\n",
       "    .dataframe tbody tr th {\n",
       "        vertical-align: top;\n",
       "    }\n",
       "\n",
       "    .dataframe thead th {\n",
       "        text-align: right;\n",
       "    }\n",
       "</style>\n",
       "<table border=\"1\" class=\"dataframe\">\n",
       "  <thead>\n",
       "    <tr style=\"text-align: right;\">\n",
       "      <th></th>\n",
       "      <th>sequencelength</th>\n",
       "      <th>ProdScale</th>\n",
       "      <th>PITname</th>\n",
       "      <th>PurificationName</th>\n",
       "      <th>shipment_time_days</th>\n",
       "      <th>min_zscore</th>\n",
       "    </tr>\n",
       "  </thead>\n",
       "  <tbody>\n",
       "    <tr>\n",
       "      <th>0</th>\n",
       "      <td>40</td>\n",
       "      <td>10</td>\n",
       "      <td>0</td>\n",
       "      <td>0</td>\n",
       "      <td>5</td>\n",
       "      <td>True</td>\n",
       "    </tr>\n",
       "    <tr>\n",
       "      <th>1</th>\n",
       "      <td>18</td>\n",
       "      <td>10</td>\n",
       "      <td>0</td>\n",
       "      <td>0</td>\n",
       "      <td>5</td>\n",
       "      <td>True</td>\n",
       "    </tr>\n",
       "    <tr>\n",
       "      <th>9</th>\n",
       "      <td>20</td>\n",
       "      <td>10</td>\n",
       "      <td>1</td>\n",
       "      <td>1</td>\n",
       "      <td>5</td>\n",
       "      <td>True</td>\n",
       "    </tr>\n",
       "    <tr>\n",
       "      <th>10</th>\n",
       "      <td>20</td>\n",
       "      <td>10</td>\n",
       "      <td>1</td>\n",
       "      <td>1</td>\n",
       "      <td>5</td>\n",
       "      <td>True</td>\n",
       "    </tr>\n",
       "    <tr>\n",
       "      <th>11</th>\n",
       "      <td>20</td>\n",
       "      <td>10</td>\n",
       "      <td>1</td>\n",
       "      <td>1</td>\n",
       "      <td>5</td>\n",
       "      <td>True</td>\n",
       "    </tr>\n",
       "    <tr>\n",
       "      <th>...</th>\n",
       "      <td>...</td>\n",
       "      <td>...</td>\n",
       "      <td>...</td>\n",
       "      <td>...</td>\n",
       "      <td>...</td>\n",
       "      <td>...</td>\n",
       "    </tr>\n",
       "    <tr>\n",
       "      <th>482320</th>\n",
       "      <td>22</td>\n",
       "      <td>10</td>\n",
       "      <td>6</td>\n",
       "      <td>1</td>\n",
       "      <td>1</td>\n",
       "      <td>True</td>\n",
       "    </tr>\n",
       "    <tr>\n",
       "      <th>482321</th>\n",
       "      <td>22</td>\n",
       "      <td>50</td>\n",
       "      <td>4</td>\n",
       "      <td>2</td>\n",
       "      <td>1</td>\n",
       "      <td>True</td>\n",
       "    </tr>\n",
       "    <tr>\n",
       "      <th>482322</th>\n",
       "      <td>18</td>\n",
       "      <td>10</td>\n",
       "      <td>1</td>\n",
       "      <td>2</td>\n",
       "      <td>3</td>\n",
       "      <td>True</td>\n",
       "    </tr>\n",
       "    <tr>\n",
       "      <th>482326</th>\n",
       "      <td>22</td>\n",
       "      <td>10</td>\n",
       "      <td>1</td>\n",
       "      <td>1</td>\n",
       "      <td>3</td>\n",
       "      <td>True</td>\n",
       "    </tr>\n",
       "    <tr>\n",
       "      <th>482365</th>\n",
       "      <td>20</td>\n",
       "      <td>10</td>\n",
       "      <td>1</td>\n",
       "      <td>1</td>\n",
       "      <td>1</td>\n",
       "      <td>True</td>\n",
       "    </tr>\n",
       "  </tbody>\n",
       "</table>\n",
       "<p>268753 rows × 6 columns</p>\n",
       "</div>"
      ],
      "text/plain": [
       "        sequencelength  ProdScale  PITname  PurificationName  \\\n",
       "0                   40         10        0                 0   \n",
       "1                   18         10        0                 0   \n",
       "9                   20         10        1                 1   \n",
       "10                  20         10        1                 1   \n",
       "11                  20         10        1                 1   \n",
       "...                ...        ...      ...               ...   \n",
       "482320              22         10        6                 1   \n",
       "482321              22         50        4                 2   \n",
       "482322              18         10        1                 2   \n",
       "482326              22         10        1                 1   \n",
       "482365              20         10        1                 1   \n",
       "\n",
       "        shipment_time_days  min_zscore  \n",
       "0                        5        True  \n",
       "1                        5        True  \n",
       "9                        5        True  \n",
       "10                       5        True  \n",
       "11                       5        True  \n",
       "...                    ...         ...  \n",
       "482320                   1        True  \n",
       "482321                   1        True  \n",
       "482322                   3        True  \n",
       "482326                   3        True  \n",
       "482365                   1        True  \n",
       "\n",
       "[268753 rows x 6 columns]"
      ]
     },
     "execution_count": 41,
     "metadata": {},
     "output_type": "execute_result"
    }
   ],
   "source": [
    "df"
   ]
  },
  {
   "cell_type": "code",
   "execution_count": 42,
   "id": "31888e58",
   "metadata": {},
   "outputs": [],
   "source": [
    "df.drop(['min_zscore'],axis=1,inplace=True)"
   ]
  },
  {
   "cell_type": "code",
   "execution_count": 43,
   "id": "a966ea69",
   "metadata": {},
   "outputs": [
    {
     "data": {
      "image/png": "[encoded data removed]",
      "text/plain": [
       "<Figure size 432x288 with 2 Axes>"
      ]
     },
     "metadata": {
      "needs_background": "light"
     },
     "output_type": "display_data"
    }
   ],
   "source": [
    "# plotting the heatmap\n",
    "hm = sns.heatmap(data = df)  \n",
    "# displaying the plotted heatmap\n",
    "plt.show()"
   ]
  },
  {
   "cell_type": "code",
   "execution_count": 44,
   "id": "d35b004b",
   "metadata": {},
   "outputs": [
    {
     "data": {
      "text/plain": [
       "<seaborn.axisgrid.PairGrid at 0x24d00047be0>"
      ]
     },
     "execution_count": 44,
     "metadata": {},
     "output_type": "execute_result"
    },
    {
     "data": {
      "image/png": "[encoded data removed]",
      "text/plain": [
       "<Figure size 650.875x540 with 12 Axes>"
      ]
     },
     "metadata": {
      "needs_background": "light"
     },
     "output_type": "display_data"
    }
   ],
   "source": [
    "# piarplor to create pairwise relationships in a dataset.\n",
    "sns.pairplot(df,vars = ['PITname','PurificationName','sequencelength'], hue=\"shipment_time_days\")\n"
   ]
  },
  {
   "cell_type": "code",
   "execution_count": 45,
   "id": "afdc4eb9",
   "metadata": {},
   "outputs": [
    {
     "data": {
      "text/plain": [
       "<seaborn.axisgrid.PairGrid at 0x24d015dd1c0>"
      ]
     },
     "execution_count": 45,
     "metadata": {},
     "output_type": "execute_result"
    },
    {
     "data": {
      "image/png": "[encoded data removed]",
      "text/plain": [
       "<Figure size 470.875x360 with 6 Axes>"
      ]
     },
     "metadata": {
      "needs_background": "light"
     },
     "output_type": "display_data"
    }
   ],
   "source": [
    "# piarplor to create pairwise relationships in a dataset.\n",
    "sns.pairplot(df,vars = ['sequencelength','ProdScale'], hue=\"shipment_time_days\")"
   ]
  },
  {
   "cell_type": "code",
   "execution_count": 47,
   "id": "4d198606",
   "metadata": {},
   "outputs": [
    {
     "data": {
      "text/plain": [
       "<seaborn.axisgrid.PairGrid at 0x24d070d4520>"
      ]
     },
     "execution_count": 47,
     "metadata": {},
     "output_type": "execute_result"
    },
    {
     "data": {
      "image/png": "[encoded data removed]",
      "text/plain": [
       "<Figure size 290.875x180 with 2 Axes>"
      ]
     },
     "metadata": {
      "needs_background": "light"
     },
     "output_type": "display_data"
    }
   ],
   "source": [
    "sns.pairplot(df,vars = ['ProdScale'], hue=\"shipment_time_days\")"
   ]
  },
  {
   "cell_type": "code",
   "execution_count": 50,
   "id": "83b21838",
   "metadata": {},
   "outputs": [
    {
     "data": {
      "image/png": "[encoded data removed]",
      "text/plain": [
       "<Figure size 432x288 with 1 Axes>"
      ]
     },
     "metadata": {
      "needs_background": "light"
     },
     "output_type": "display_data"
    },
    {
     "data": {
      "image/png": "[encoded data removed]",
      "text/plain": [
       "<Figure size 432x288 with 1 Axes>"
      ]
     },
     "metadata": {
      "needs_background": "light"
     },
     "output_type": "display_data"
    },
    {
     "data": {
      "image/png": "[encoded data removed]",
      "text/plain": [
       "<Figure size 432x288 with 1 Axes>"
      ]
     },
     "metadata": {
      "needs_background": "light"
     },
     "output_type": "display_data"
    },
    {
     "data": {
      "image/png": "[encoded data removed]",
      "text/plain": [
       "<Figure size 432x288 with 1 Axes>"
      ]
     },
     "metadata": {
      "needs_background": "light"
     },
     "output_type": "display_data"
    },
    {
     "data": {
      "image/png": "[encoded data removed]",
      "text/plain": [
       "<Figure size 432x288 with 1 Axes>"
      ]
     },
     "metadata": {
      "needs_background": "light"
     },
     "output_type": "display_data"
    }
   ],
   "source": [
    "#binning\n",
    "for a in df.columns:\n",
    "    plt.hist(df[a], bins=5)\n",
    "    plt.title(a)\n",
    "    plt.show()"
   ]
  },
  {
   "cell_type": "code",
   "execution_count": 51,
   "id": "fee2ddcf",
   "metadata": {},
   "outputs": [
    {
     "data": {
      "text/html": [
       "<div>\n",
       "<style scoped>\n",
       "    .dataframe tbody tr th:only-of-type {\n",
       "        vertical-align: middle;\n",
       "    }\n",
       "\n",
       "    .dataframe tbody tr th {\n",
       "        vertical-align: top;\n",
       "    }\n",
       "\n",
       "    .dataframe thead th {\n",
       "        text-align: right;\n",
       "    }\n",
       "</style>\n",
       "<table border=\"1\" class=\"dataframe\">\n",
       "  <thead>\n",
       "    <tr style=\"text-align: right;\">\n",
       "      <th></th>\n",
       "      <th>index</th>\n",
       "      <th>sequencelength</th>\n",
       "      <th>ProdScale</th>\n",
       "      <th>PITname</th>\n",
       "      <th>PurificationName</th>\n",
       "      <th>shipment_time_days</th>\n",
       "    </tr>\n",
       "  </thead>\n",
       "  <tbody>\n",
       "    <tr>\n",
       "      <th>0</th>\n",
       "      <td>0</td>\n",
       "      <td>40</td>\n",
       "      <td>10</td>\n",
       "      <td>0</td>\n",
       "      <td>0</td>\n",
       "      <td>5</td>\n",
       "    </tr>\n",
       "    <tr>\n",
       "      <th>1</th>\n",
       "      <td>1</td>\n",
       "      <td>18</td>\n",
       "      <td>10</td>\n",
       "      <td>0</td>\n",
       "      <td>0</td>\n",
       "      <td>5</td>\n",
       "    </tr>\n",
       "    <tr>\n",
       "      <th>2</th>\n",
       "      <td>9</td>\n",
       "      <td>20</td>\n",
       "      <td>10</td>\n",
       "      <td>1</td>\n",
       "      <td>1</td>\n",
       "      <td>5</td>\n",
       "    </tr>\n",
       "    <tr>\n",
       "      <th>3</th>\n",
       "      <td>10</td>\n",
       "      <td>20</td>\n",
       "      <td>10</td>\n",
       "      <td>1</td>\n",
       "      <td>1</td>\n",
       "      <td>5</td>\n",
       "    </tr>\n",
       "    <tr>\n",
       "      <th>4</th>\n",
       "      <td>11</td>\n",
       "      <td>20</td>\n",
       "      <td>10</td>\n",
       "      <td>1</td>\n",
       "      <td>1</td>\n",
       "      <td>5</td>\n",
       "    </tr>\n",
       "    <tr>\n",
       "      <th>...</th>\n",
       "      <td>...</td>\n",
       "      <td>...</td>\n",
       "      <td>...</td>\n",
       "      <td>...</td>\n",
       "      <td>...</td>\n",
       "      <td>...</td>\n",
       "    </tr>\n",
       "    <tr>\n",
       "      <th>268748</th>\n",
       "      <td>482320</td>\n",
       "      <td>22</td>\n",
       "      <td>10</td>\n",
       "      <td>6</td>\n",
       "      <td>1</td>\n",
       "      <td>1</td>\n",
       "    </tr>\n",
       "    <tr>\n",
       "      <th>268749</th>\n",
       "      <td>482321</td>\n",
       "      <td>22</td>\n",
       "      <td>50</td>\n",
       "      <td>4</td>\n",
       "      <td>2</td>\n",
       "      <td>1</td>\n",
       "    </tr>\n",
       "    <tr>\n",
       "      <th>268750</th>\n",
       "      <td>482322</td>\n",
       "      <td>18</td>\n",
       "      <td>10</td>\n",
       "      <td>1</td>\n",
       "      <td>2</td>\n",
       "      <td>3</td>\n",
       "    </tr>\n",
       "    <tr>\n",
       "      <th>268751</th>\n",
       "      <td>482326</td>\n",
       "      <td>22</td>\n",
       "      <td>10</td>\n",
       "      <td>1</td>\n",
       "      <td>1</td>\n",
       "      <td>3</td>\n",
       "    </tr>\n",
       "    <tr>\n",
       "      <th>268752</th>\n",
       "      <td>482365</td>\n",
       "      <td>20</td>\n",
       "      <td>10</td>\n",
       "      <td>1</td>\n",
       "      <td>1</td>\n",
       "      <td>1</td>\n",
       "    </tr>\n",
       "  </tbody>\n",
       "</table>\n",
       "<p>268753 rows × 6 columns</p>\n",
       "</div>"
      ],
      "text/plain": [
       "         index  sequencelength  ProdScale  PITname  PurificationName  \\\n",
       "0            0              40         10        0                 0   \n",
       "1            1              18         10        0                 0   \n",
       "2            9              20         10        1                 1   \n",
       "3           10              20         10        1                 1   \n",
       "4           11              20         10        1                 1   \n",
       "...        ...             ...        ...      ...               ...   \n",
       "268748  482320              22         10        6                 1   \n",
       "268749  482321              22         50        4                 2   \n",
       "268750  482322              18         10        1                 2   \n",
       "268751  482326              22         10        1                 1   \n",
       "268752  482365              20         10        1                 1   \n",
       "\n",
       "        shipment_time_days  \n",
       "0                        5  \n",
       "1                        5  \n",
       "2                        5  \n",
       "3                        5  \n",
       "4                        5  \n",
       "...                    ...  \n",
       "268748                   1  \n",
       "268749                   1  \n",
       "268750                   3  \n",
       "268751                   3  \n",
       "268752                   1  \n",
       "\n",
       "[268753 rows x 6 columns]"
      ]
     },
     "execution_count": 51,
     "metadata": {},
     "output_type": "execute_result"
    }
   ],
   "source": [
    "df.reset_index()"
   ]
  },
  {
   "cell_type": "code",
   "execution_count": 52,
   "id": "b533bc5a",
   "metadata": {},
   "outputs": [],
   "source": [
    "df.to_csv('preprocessed.csv',index=False)"
   ]
  },
  {
   "cell_type": "markdown",
   "id": "26e86d2d",
   "metadata": {},
   "source": [
    "<center><h1> Model Creation </h1></center>"
   ]
  },
  {
   "cell_type": "code",
   "execution_count": 54,
   "id": "d60981e8",
   "metadata": {},
   "outputs": [],
   "source": [
    "# Drop the colum class_account from DF for train set \n",
    "x = df.drop(['shipment_time_days'],axis=1)\n",
    "y = df['shipment_time_days'] "
   ]
  },
  {
   "cell_type": "code",
   "execution_count": 99,
   "id": "c845ed7b",
   "metadata": {},
   "outputs": [],
   "source": [
    "#spiltting data for train and test\n",
    "from sklearn.model_selection import train_test_split\n",
    "x_train,x_test,y_train,y_test = train_test_split(x,y,test_size=0.30,random_state=0)"
   ]
  },
  {
   "cell_type": "markdown",
   "id": "46edb8a3",
   "metadata": {},
   "source": [
    "### RandomForestClassifier"
   ]
  },
  {
   "cell_type": "code",
   "execution_count": 56,
   "id": "3e277ba2",
   "metadata": {},
   "outputs": [],
   "source": [
    "#Import Random Forest Model\n",
    "from sklearn.ensemble import RandomForestClassifier\n",
    "\n",
    "#Create a Gaussian Classifier\n",
    "clf=RandomForestClassifier(n_estimators=200,max_depth= 30,)\n",
    "\n",
    "#Train the model using the training sets y_pred=clf.predict(X_test)\n",
    "clf.fit(x_train,y_train)\n",
    "\n",
    "y_pred=clf.predict(x_test)"
   ]
  },
  {
   "cell_type": "code",
   "execution_count": 58,
   "id": "559370c9",
   "metadata": {},
   "outputs": [
    {
     "data": {
      "text/plain": [
       "array([2, 1, 2, ..., 2, 5, 1])"
      ]
     },
     "execution_count": 58,
     "metadata": {},
     "output_type": "execute_result"
    }
   ],
   "source": [
    "y_pred"
   ]
  },
  {
   "cell_type": "code",
   "execution_count": 57,
   "id": "f0bd5acc",
   "metadata": {},
   "outputs": [
    {
     "name": "stdout",
     "output_type": "stream",
     "text": [
      "Accuracy: 0.41866972272246944\n"
     ]
    }
   ],
   "source": [
    "#Import scikit-learn metrics module for accuracy calculation\n",
    "from sklearn import metrics\n",
    "# Model Accuracy, how often is the classifier correct?\n",
    "print(\"Accuracy:\",metrics.accuracy_score(y_test, y_pred))"
   ]
  },
  {
   "cell_type": "markdown",
   "id": "d6992791",
   "metadata": {},
   "source": [
    "### Gaussian Naive Bayes"
   ]
  },
  {
   "cell_type": "code",
   "execution_count": 100,
   "id": "7a7ed889",
   "metadata": {},
   "outputs": [],
   "source": [
    "# train a Gaussian Naive Bayes classifier on the training set\n",
    "from sklearn.naive_bayes import GaussianNB\n",
    "\n",
    "\n",
    "# instantiate the model\n",
    "gnb = GaussianNB()\n",
    "\n",
    "\n",
    "# fit the model\n",
    "gnbm=gnb.fit(x_train, y_train)"
   ]
  },
  {
   "cell_type": "code",
   "execution_count": 101,
   "id": "cb38893b",
   "metadata": {},
   "outputs": [
    {
     "data": {
      "text/plain": [
       "array([2, 1, 2, ..., 2, 2, 1])"
      ]
     },
     "execution_count": 101,
     "metadata": {},
     "output_type": "execute_result"
    }
   ],
   "source": [
    "y_pred = gnb.predict(x_test)\n",
    "\n",
    "y_pred"
   ]
  },
  {
   "cell_type": "code",
   "execution_count": 102,
   "id": "2559e302",
   "metadata": {},
   "outputs": [
    {
     "data": {
      "image/png": "[encoded data removed]",
      "text/plain": [
       "<Figure size 720x720 with 1 Axes>"
      ]
     },
     "metadata": {
      "needs_background": "light"
     },
     "output_type": "display_data"
    }
   ],
   "source": [
    "predict = pd.DataFrame(y_pred)\n",
    "\n",
    "plt.figure(figsize=(10,10))        \n",
    "sns.distplot(predict,color='red')\n",
    "sns.distplot(pd.DataFrame(y_test).shipment_time_days)\n",
    "plt.show()\n"
   ]
  },
  {
   "cell_type": "code",
   "execution_count": 103,
   "id": "3ce2349a",
   "metadata": {},
   "outputs": [
    {
     "name": "stdout",
     "output_type": "stream",
     "text": [
      "Confusion matrix\n",
      "\n",
      " [[ 7406  9187    95     9    34    63    10]\n",
      " [ 2572 20678  1391     8   305   205   146]\n",
      " [  641 10436  1710     5   313   218   245]\n",
      " [  877  7524  1244     7   315   169   481]\n",
      " [  318  3952  1104     6   279   251   248]\n",
      " [  501  1766   859     1   295   335   611]\n",
      " [  512  1442   646     2   151   241   812]]\n"
     ]
    }
   ],
   "source": [
    "from sklearn.metrics import confusion_matrix\n",
    "\n",
    "cm = confusion_matrix(y_test, y_pred)\n",
    "\n",
    "print('Confusion matrix\\n\\n', cm)"
   ]
  },
  {
   "cell_type": "code",
   "execution_count": 104,
   "id": "67dc9186",
   "metadata": {},
   "outputs": [
    {
     "name": "stdout",
     "output_type": "stream",
     "text": [
      "\n",
      "True Positives(TP) =  7406\n",
      "\n",
      "True Negatives(TN) =  20678\n",
      "\n",
      "False Positives(FP) =  9187\n",
      "\n",
      "False Negatives(FN) =  2572\n"
     ]
    }
   ],
   "source": [
    "print('\\nTrue Positives(TP) = ', cm[0,0])\n",
    "\n",
    "print('\\nTrue Negatives(TN) = ', cm[1,1])\n",
    "\n",
    "print('\\nFalse Positives(FP) = ', cm[0,1])\n",
    "\n",
    "print('\\nFalse Negatives(FN) = ', cm[1,0])"
   ]
  },
  {
   "cell_type": "code",
   "execution_count": 105,
   "id": "9d4a3c60",
   "metadata": {},
   "outputs": [
    {
     "name": "stdout",
     "output_type": "stream",
     "text": [
      "              precision    recall  f1-score   support\n",
      "\n",
      "           1       0.58      0.44      0.50     16804\n",
      "           2       0.38      0.82      0.52     25305\n",
      "           3       0.24      0.13      0.17     13568\n",
      "           4       0.18      0.00      0.00     10617\n",
      "           5       0.16      0.05      0.07      6158\n",
      "           6       0.23      0.08      0.11      4368\n",
      "           7       0.32      0.21      0.26      3806\n",
      "\n",
      "    accuracy                           0.39     80626\n",
      "   macro avg       0.30      0.25      0.23     80626\n",
      "weighted avg       0.34      0.39      0.32     80626\n",
      "\n"
     ]
    }
   ],
   "source": [
    "from sklearn.metrics import classification_report\n",
    "\n",
    "print(classification_report(y_test, y_pred))"
   ]
  },
  {
   "cell_type": "code",
   "execution_count": 106,
   "id": "1df0f9d5",
   "metadata": {},
   "outputs": [],
   "source": [
    "TP = cm[0,0]\n",
    "TN = cm[1,1]\n",
    "FP = cm[0,1]\n",
    "FN = cm[1,0]"
   ]
  },
  {
   "cell_type": "code",
   "execution_count": 107,
   "id": "3874c14b",
   "metadata": {},
   "outputs": [
    {
     "name": "stdout",
     "output_type": "stream",
     "text": [
      "Classification accuracy : 0.7049\n"
     ]
    }
   ],
   "source": [
    "# print classification accuracy\n",
    "\n",
    "classification_accuracy = (TP + TN) / float(TP + TN + FP + FN)\n",
    "\n",
    "print('Classification accuracy : {0:0.4f}'.format(classification_accuracy))"
   ]
  },
  {
   "cell_type": "code",
   "execution_count": 77,
   "id": "0e767376",
   "metadata": {},
   "outputs": [
    {
     "name": "stdout",
     "output_type": "stream",
     "text": [
      "Classification error : 0.2937\n"
     ]
    }
   ],
   "source": [
    "# print classification error\n",
    "\n",
    "classification_error = (FP + FN) / float(TP + TN + FP + FN)\n",
    "\n",
    "print('Classification error : {0:0.4f}'.format(classification_error))"
   ]
  },
  {
   "cell_type": "code",
   "execution_count": 78,
   "id": "680de16d",
   "metadata": {},
   "outputs": [
    {
     "name": "stdout",
     "output_type": "stream",
     "text": [
      "Precision : 0.4497\n"
     ]
    }
   ],
   "source": [
    "# print precision score\n",
    "\n",
    "precision = TP / float(TP + FP)\n",
    "\n",
    "\n",
    "print('Precision : {0:0.4f}'.format(precision))"
   ]
  },
  {
   "cell_type": "code",
   "execution_count": 79,
   "id": "9a9173ce",
   "metadata": {},
   "outputs": [
    {
     "data": {
      "text/plain": [
       "DecisionTreeClassifier(criterion='entropy', max_depth=3, random_state=0)"
      ]
     },
     "execution_count": 79,
     "metadata": {},
     "output_type": "execute_result"
    }
   ],
   "source": [
    "# instantiate the DecisionTreeClassifier model with criterion entropy\n",
    "# import DecisionTreeClassifier\n",
    "\n",
    "from sklearn.tree import DecisionTreeClassifier\n",
    "\n",
    "clf_en = DecisionTreeClassifier(criterion='entropy', max_depth=3, random_state=0)\n",
    "\n",
    "\n",
    "# fit the model\n",
    "clf_en.fit(x_train, y_train)"
   ]
  },
  {
   "cell_type": "code",
   "execution_count": 80,
   "id": "55a724b2",
   "metadata": {},
   "outputs": [],
   "source": [
    "y_pred_en = clf_en.predict(x_test)"
   ]
  },
  {
   "cell_type": "code",
   "execution_count": 82,
   "id": "f99a59d3",
   "metadata": {},
   "outputs": [
    {
     "data": {
      "text/plain": [
       "1"
      ]
     },
     "execution_count": 82,
     "metadata": {},
     "output_type": "execute_result"
    }
   ],
   "source": [
    "clf_en.predict(pd.DataFrame([[10,50,6,1]],columns=['sequencelength','ProdScale','PITname','PurificationName']))[0]"
   ]
  },
  {
   "cell_type": "code",
   "execution_count": 83,
   "id": "9906641d",
   "metadata": {},
   "outputs": [
    {
     "data": {
      "text/plain": [
       "2"
      ]
     },
     "execution_count": 83,
     "metadata": {},
     "output_type": "execute_result"
    }
   ],
   "source": [
    "clf_en.predict(pd.DataFrame([[10,50,1,1]],columns=['sequencelength','ProdScale','PITname','PurificationName']))[0]"
   ]
  },
  {
   "cell_type": "code",
   "execution_count": 96,
   "id": "54877715",
   "metadata": {},
   "outputs": [
    {
     "data": {
      "text/plain": [
       "2"
      ]
     },
     "execution_count": 96,
     "metadata": {},
     "output_type": "execute_result"
    }
   ],
   "source": [
    "gnb.predict(pd.DataFrame([[10,50,1,1]],columns=['sequencelength','ProdScale','PITname','PurificationName']))[0]"
   ]
  },
  {
   "cell_type": "code",
   "execution_count": 86,
   "id": "9d56e3e3",
   "metadata": {},
   "outputs": [
    {
     "data": {
      "text/plain": [
       "2"
      ]
     },
     "execution_count": 86,
     "metadata": {},
     "output_type": "execute_result"
    }
   ],
   "source": [
    "clf_en.predict(pd.DataFrame([[56,50,1,1]],columns=['sequencelength','ProdScale','PITname','PurificationName']))[0]"
   ]
  },
  {
   "cell_type": "code",
   "execution_count": 91,
   "id": "72a33c8e",
   "metadata": {},
   "outputs": [
    {
     "data": {
      "text/plain": [
       "2"
      ]
     },
     "execution_count": 91,
     "metadata": {},
     "output_type": "execute_result"
    }
   ],
   "source": [
    "clf_en.predict(pd.DataFrame([[15,50,1,1]],columns=['sequencelength','ProdScale','PITname','PurificationName']))[0]"
   ]
  },
  {
   "cell_type": "code",
   "execution_count": 98,
   "id": "84b70b86",
   "metadata": {},
   "outputs": [
    {
     "data": {
      "text/plain": [
       "2"
      ]
     },
     "execution_count": 98,
     "metadata": {},
     "output_type": "execute_result"
    }
   ],
   "source": [
    "gnb.predict(pd.DataFrame([[15,50,1,1]],columns=['sequencelength','ProdScale','PITname','PurificationName']))[0]"
   ]
  },
  {
   "cell_type": "code",
   "execution_count": 92,
   "id": "ad36ab28",
   "metadata": {},
   "outputs": [
    {
     "data": {
      "text/plain": [
       "2"
      ]
     },
     "execution_count": 92,
     "metadata": {},
     "output_type": "execute_result"
    }
   ],
   "source": [
    "gnb.predict(pd.DataFrame([[15,50,1,1]],columns=['sequencelength','ProdScale','PITname','PurificationName']))[0]"
   ]
  },
  {
   "cell_type": "code",
   "execution_count": 87,
   "id": "49d2f7a8",
   "metadata": {},
   "outputs": [
    {
     "data": {
      "text/plain": [
       "2"
      ]
     },
     "execution_count": 87,
     "metadata": {},
     "output_type": "execute_result"
    }
   ],
   "source": [
    "clf_en.predict(pd.DataFrame([[56,50,5,1]],columns=['sequencelength','ProdScale','PITname','PurificationName']))[0]"
   ]
  },
  {
   "cell_type": "code",
   "execution_count": 109,
   "id": "0a6ce3ee",
   "metadata": {},
   "outputs": [
    {
     "data": {
      "text/plain": [
       "2"
      ]
     },
     "execution_count": 109,
     "metadata": {},
     "output_type": "execute_result"
    }
   ],
   "source": [
    "clf.predict(pd.DataFrame([[56,50,5,1]],columns=['sequencelength','ProdScale','PITname','PurificationName']))[0]"
   ]
  },
  {
   "cell_type": "code",
   "execution_count": 110,
   "id": "73a94ef7",
   "metadata": {},
   "outputs": [
    {
     "data": {
      "text/plain": [
       "2"
      ]
     },
     "execution_count": 110,
     "metadata": {},
     "output_type": "execute_result"
    }
   ],
   "source": [
    "clf.predict(pd.DataFrame([[15,50,1,1]],columns=['sequencelength','ProdScale','PITname','PurificationName']))[0]"
   ]
  },
  {
   "cell_type": "code",
   "execution_count": 112,
   "id": "aeba03f5",
   "metadata": {},
   "outputs": [
    {
     "data": {
      "text/plain": [
       "3"
      ]
     },
     "execution_count": 112,
     "metadata": {},
     "output_type": "execute_result"
    }
   ],
   "source": [
    "clf_en.predict(pd.DataFrame([[40,10,0,0]],columns=['sequencelength','ProdScale','PITname','PurificationName']))[0]"
   ]
  },
  {
   "cell_type": "code",
   "execution_count": 113,
   "id": "04f7ce25",
   "metadata": {},
   "outputs": [
    {
     "data": {
      "text/plain": [
       "3"
      ]
     },
     "execution_count": 113,
     "metadata": {},
     "output_type": "execute_result"
    }
   ],
   "source": [
    "gnb.predict(pd.DataFrame([[40,10,0,0]],columns=['sequencelength','ProdScale','PITname','PurificationName']))[0]"
   ]
  },
  {
   "cell_type": "code",
   "execution_count": null,
   "id": "c89678bd",
   "metadata": {},
   "outputs": [],
   "source": []
  }
 ],
 "metadata": {
  "kernelspec": {
   "display_name": "Python 3 (ipykernel)",
   "language": "python",
   "name": "python3"
  },
  "language_info": {
   "codemirror_mode": {
    "name": "ipython",
    "version": 3
   },
   "file_extension": ".py",
   "mimetype": "text/x-python",
   "name": "python",
   "nbconvert_exporter": "python",
   "pygments_lexer": "ipython3",
   "version": "3.9.12"
  },
  "varInspector": {
   "cols": {
    "lenName": 16,
    "lenType": 16,
    "lenVar": 40
   },
   "kernels_config": {
    "python": {
     "delete_cmd_postfix": "",
     "delete_cmd_prefix": "del ",
     "library": "var_list.py",
     "varRefreshCmd": "print(var_dic_list())"
    },
    "r": {
     "delete_cmd_postfix": ") ",
     "delete_cmd_prefix": "rm(",
     "library": "var_list.r",
     "varRefreshCmd": "cat(var_dic_list()) "
    }
   },
   "types_to_exclude": [
    "module",
    "function",
    "builtin_function_or_method",
    "instance",
    "_Feature"
   ],
   "window_display": false
  }
 },
 "nbformat": 4,
 "nbformat_minor": 5
}
