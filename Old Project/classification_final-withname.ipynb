{
 "cells": [
  {
   "cell_type": "markdown",
   "id": "cada2c41",
   "metadata": {},
   "source": [
    "<center><h1> Data preperation and Model creation for Predicting Delivery Date</h1></center>"
   ]
  },
  {
   "cell_type": "code",
   "execution_count": 15,
   "id": "3dbe12d3",
   "metadata": {},
   "outputs": [
    {
     "data": {
      "text/html": [
       "<div>\n",
       "<style scoped>\n",
       "    .dataframe tbody tr th:only-of-type {\n",
       "        vertical-align: middle;\n",
       "    }\n",
       "\n",
       "    .dataframe tbody tr th {\n",
       "        vertical-align: top;\n",
       "    }\n",
       "\n",
       "    .dataframe thead th {\n",
       "        text-align: right;\n",
       "    }\n",
       "</style>\n",
       "<table border=\"1\" class=\"dataframe\">\n",
       "  <thead>\n",
       "    <tr style=\"text-align: right;\">\n",
       "      <th></th>\n",
       "      <th>OrderId</th>\n",
       "      <th>OrderCreationDateTime</th>\n",
       "      <th>OrderFirstConfirmedDateTime</th>\n",
       "      <th>OrderDueDate</th>\n",
       "      <th>ido</th>\n",
       "      <th>sequencelength</th>\n",
       "      <th>ProdScale</th>\n",
       "      <th>PITname</th>\n",
       "      <th>PurificationName</th>\n",
       "      <th>shipmentdate</th>\n",
       "      <th>MachineName</th>\n",
       "    </tr>\n",
       "  </thead>\n",
       "  <tbody>\n",
       "    <tr>\n",
       "      <th>0</th>\n",
       "      <td>11107968357-1</td>\n",
       "      <td>2022-06-01 14:24:45.960000</td>\n",
       "      <td>2022-06-01 14:09:29</td>\n",
       "      <td>2022-06-02 19:00:00</td>\n",
       "      <td>32969575</td>\n",
       "      <td>17</td>\n",
       "      <td>0.01 µmol</td>\n",
       "      <td>ALCU</td>\n",
       "      <td>FAST</td>\n",
       "      <td>2022-06-02 19:29:58.703000</td>\n",
       "      <td>CFS EBE 3</td>\n",
       "    </tr>\n",
       "    <tr>\n",
       "      <th>1</th>\n",
       "      <td>11107968477-1</td>\n",
       "      <td>2022-06-01 14:58:12.207000</td>\n",
       "      <td>2022-06-01 14:42:59</td>\n",
       "      <td>2022-06-04 19:00:00</td>\n",
       "      <td>32970130</td>\n",
       "      <td>21</td>\n",
       "      <td>0.01 µmol</td>\n",
       "      <td>ALCU</td>\n",
       "      <td>FAST</td>\n",
       "      <td>2022-06-02 23:45:46.987000</td>\n",
       "      <td>CFS EBE 3</td>\n",
       "    </tr>\n",
       "    <tr>\n",
       "      <th>2</th>\n",
       "      <td>11107970522-1</td>\n",
       "      <td>2022-06-02 14:37:10.350000</td>\n",
       "      <td>2022-06-02 14:21:54</td>\n",
       "      <td>2022-06-04 19:00:00</td>\n",
       "      <td>32978058</td>\n",
       "      <td>20</td>\n",
       "      <td>0.01 µmol</td>\n",
       "      <td>ALCU</td>\n",
       "      <td>HPSF</td>\n",
       "      <td>2022-06-03 03:28:23.253000</td>\n",
       "      <td>CFS EBE 3</td>\n",
       "    </tr>\n",
       "    <tr>\n",
       "      <th>3</th>\n",
       "      <td>11107971036-1</td>\n",
       "      <td>2022-06-02 18:16:02.437000</td>\n",
       "      <td>2022-06-02 18:00:45</td>\n",
       "      <td>2022-06-04 19:00:00</td>\n",
       "      <td>32979249</td>\n",
       "      <td>20</td>\n",
       "      <td>0.01 µmol</td>\n",
       "      <td>ALCU</td>\n",
       "      <td>FAST</td>\n",
       "      <td>2022-06-03 07:57:26.947000</td>\n",
       "      <td>CFS EBE 3</td>\n",
       "    </tr>\n",
       "    <tr>\n",
       "      <th>4</th>\n",
       "      <td>11107972248-1</td>\n",
       "      <td>2022-06-03 12:23:35.393000</td>\n",
       "      <td>2022-06-03 12:23:10</td>\n",
       "      <td>2022-06-05 23:59:59</td>\n",
       "      <td>32981704</td>\n",
       "      <td>30</td>\n",
       "      <td>0.01 µmol</td>\n",
       "      <td>SFONXP</td>\n",
       "      <td>FAST</td>\n",
       "      <td>2022-06-08 17:34:09.287000</td>\n",
       "      <td>CFS CGN 1</td>\n",
       "    </tr>\n",
       "    <tr>\n",
       "      <th>...</th>\n",
       "      <td>...</td>\n",
       "      <td>...</td>\n",
       "      <td>...</td>\n",
       "      <td>...</td>\n",
       "      <td>...</td>\n",
       "      <td>...</td>\n",
       "      <td>...</td>\n",
       "      <td>...</td>\n",
       "      <td>...</td>\n",
       "      <td>...</td>\n",
       "      <td>...</td>\n",
       "    </tr>\n",
       "    <tr>\n",
       "      <th>446969</th>\n",
       "      <td>11108010158-KN_UDIorder_A02_2-1</td>\n",
       "      <td>2022-07-01 12:09:17.050000</td>\n",
       "      <td>2022-07-01 11:53:01.190000</td>\n",
       "      <td>2022-09-05 19:00:00</td>\n",
       "      <td>33089141</td>\n",
       "      <td>70</td>\n",
       "      <td>0.05 µmol</td>\n",
       "      <td>NGSUDI</td>\n",
       "      <td>FAST</td>\n",
       "      <td>NaN</td>\n",
       "      <td>NaN</td>\n",
       "    </tr>\n",
       "    <tr>\n",
       "      <th>446970</th>\n",
       "      <td>11108010158-KN_UDIorder_A02_2-1</td>\n",
       "      <td>2022-07-01 12:09:17.050000</td>\n",
       "      <td>2022-07-01 11:53:01.190000</td>\n",
       "      <td>2022-09-05 19:00:00</td>\n",
       "      <td>33089102</td>\n",
       "      <td>70</td>\n",
       "      <td>0.05 µmol</td>\n",
       "      <td>NGSUDI</td>\n",
       "      <td>FAST</td>\n",
       "      <td>NaN</td>\n",
       "      <td>NaN</td>\n",
       "    </tr>\n",
       "    <tr>\n",
       "      <th>446971</th>\n",
       "      <td>11108010158-KN_UDIorder_A02_2-1</td>\n",
       "      <td>2022-07-01 12:09:17.050000</td>\n",
       "      <td>2022-07-01 11:53:01.190000</td>\n",
       "      <td>2022-09-05 19:00:00</td>\n",
       "      <td>33089123</td>\n",
       "      <td>70</td>\n",
       "      <td>0.05 µmol</td>\n",
       "      <td>NGSUDI</td>\n",
       "      <td>FAST</td>\n",
       "      <td>NaN</td>\n",
       "      <td>NaN</td>\n",
       "    </tr>\n",
       "    <tr>\n",
       "      <th>446972</th>\n",
       "      <td>11108010158-KN_UDIorder_A02_2-1</td>\n",
       "      <td>2022-07-01 12:09:17.050000</td>\n",
       "      <td>2022-07-01 11:53:01.190000</td>\n",
       "      <td>2022-09-05 19:00:00</td>\n",
       "      <td>33088976</td>\n",
       "      <td>74</td>\n",
       "      <td>0.05 µmol</td>\n",
       "      <td>NGSUDI</td>\n",
       "      <td>FAST</td>\n",
       "      <td>NaN</td>\n",
       "      <td>NaN</td>\n",
       "    </tr>\n",
       "    <tr>\n",
       "      <th>446973</th>\n",
       "      <td>11108010158-KN_UDIorder_A02_2-1</td>\n",
       "      <td>2022-07-01 12:09:17.050000</td>\n",
       "      <td>2022-07-01 11:53:01.190000</td>\n",
       "      <td>2022-09-05 19:00:00</td>\n",
       "      <td>33089062</td>\n",
       "      <td>70</td>\n",
       "      <td>0.05 µmol</td>\n",
       "      <td>NGSUDI</td>\n",
       "      <td>FAST</td>\n",
       "      <td>NaN</td>\n",
       "      <td>NaN</td>\n",
       "    </tr>\n",
       "  </tbody>\n",
       "</table>\n",
       "<p>446974 rows × 11 columns</p>\n",
       "</div>"
      ],
      "text/plain": [
       "                                OrderId       OrderCreationDateTime  \\\n",
       "0                         11107968357-1  2022-06-01 14:24:45.960000   \n",
       "1                         11107968477-1  2022-06-01 14:58:12.207000   \n",
       "2                         11107970522-1  2022-06-02 14:37:10.350000   \n",
       "3                         11107971036-1  2022-06-02 18:16:02.437000   \n",
       "4                         11107972248-1  2022-06-03 12:23:35.393000   \n",
       "...                                 ...                         ...   \n",
       "446969  11108010158-KN_UDIorder_A02_2-1  2022-07-01 12:09:17.050000   \n",
       "446970  11108010158-KN_UDIorder_A02_2-1  2022-07-01 12:09:17.050000   \n",
       "446971  11108010158-KN_UDIorder_A02_2-1  2022-07-01 12:09:17.050000   \n",
       "446972  11108010158-KN_UDIorder_A02_2-1  2022-07-01 12:09:17.050000   \n",
       "446973  11108010158-KN_UDIorder_A02_2-1  2022-07-01 12:09:17.050000   \n",
       "\n",
       "       OrderFirstConfirmedDateTime         OrderDueDate       ido  \\\n",
       "0              2022-06-01 14:09:29  2022-06-02 19:00:00  32969575   \n",
       "1              2022-06-01 14:42:59  2022-06-04 19:00:00  32970130   \n",
       "2              2022-06-02 14:21:54  2022-06-04 19:00:00  32978058   \n",
       "3              2022-06-02 18:00:45  2022-06-04 19:00:00  32979249   \n",
       "4              2022-06-03 12:23:10  2022-06-05 23:59:59  32981704   \n",
       "...                            ...                  ...       ...   \n",
       "446969  2022-07-01 11:53:01.190000  2022-09-05 19:00:00  33089141   \n",
       "446970  2022-07-01 11:53:01.190000  2022-09-05 19:00:00  33089102   \n",
       "446971  2022-07-01 11:53:01.190000  2022-09-05 19:00:00  33089123   \n",
       "446972  2022-07-01 11:53:01.190000  2022-09-05 19:00:00  33088976   \n",
       "446973  2022-07-01 11:53:01.190000  2022-09-05 19:00:00  33089062   \n",
       "\n",
       "        sequencelength  ProdScale PITname PurificationName  \\\n",
       "0                   17  0.01 µmol    ALCU             FAST   \n",
       "1                   21  0.01 µmol    ALCU             FAST   \n",
       "2                   20  0.01 µmol    ALCU             HPSF   \n",
       "3                   20  0.01 µmol    ALCU             FAST   \n",
       "4                   30  0.01 µmol  SFONXP             FAST   \n",
       "...                ...        ...     ...              ...   \n",
       "446969              70  0.05 µmol  NGSUDI             FAST   \n",
       "446970              70  0.05 µmol  NGSUDI             FAST   \n",
       "446971              70  0.05 µmol  NGSUDI             FAST   \n",
       "446972              74  0.05 µmol  NGSUDI             FAST   \n",
       "446973              70  0.05 µmol  NGSUDI             FAST   \n",
       "\n",
       "                      shipmentdate MachineName  \n",
       "0       2022-06-02 19:29:58.703000   CFS EBE 3  \n",
       "1       2022-06-02 23:45:46.987000   CFS EBE 3  \n",
       "2       2022-06-03 03:28:23.253000   CFS EBE 3  \n",
       "3       2022-06-03 07:57:26.947000   CFS EBE 3  \n",
       "4       2022-06-08 17:34:09.287000   CFS CGN 1  \n",
       "...                            ...         ...  \n",
       "446969                         NaN         NaN  \n",
       "446970                         NaN         NaN  \n",
       "446971                         NaN         NaN  \n",
       "446972                         NaN         NaN  \n",
       "446973                         NaN         NaN  \n",
       "\n",
       "[446974 rows x 11 columns]"
      ]
     },
     "execution_count": 15,
     "metadata": {},
     "output_type": "execute_result"
    }
   ],
   "source": [
    "# importing the required libraries\n",
    "import pandas as pd\n",
    "import numpy as np\n",
    "import seaborn as sns\n",
    "import matplotlib.pyplot as plt\n",
    "import matplotlib\n",
    "\n",
    "import warnings\n",
    "warnings.filterwarnings('ignore')\n",
    "#for z score\n",
    "from scipy import stats\n",
    "\n",
    "# for data visualization\n",
    "import matplotlib.pyplot as plt\n",
    "from pandas.plotting import scatter_matrix\n",
    "\n",
    "#  for evaluating the model\n",
    "from sklearn.linear_model import LinearRegression\n",
    "from sklearn import metrics\n",
    "\n",
    "missing_values = ['N/a','na',' ','',np.nan] \n",
    "\n",
    "df=pd.read_csv(r'C:\\Users\\PrashantThakre\\OneDrive - Eurofins\\backup\\AI-ML\\ExpectedDeliveyDate_withMachineName_2022_09_08.csv')\n",
    "#maindf=pd.read_csv(r'C:\\Users\\PrashantThakre\\OneDrive - Eurofins\\backup\\AI-ML\\ExpectedDeliveryDateQuery_2022_08_30.csv')\n",
    "df"
   ]
  },
  {
   "cell_type": "code",
   "execution_count": 16,
   "id": "4be1a672",
   "metadata": {},
   "outputs": [],
   "source": [
    "#Drop ï»¿OrderId\n",
    "df=df.drop(df.iloc[:,0:1],axis=1)"
   ]
  },
  {
   "cell_type": "code",
   "execution_count": 4,
   "id": "c9c15887",
   "metadata": {},
   "outputs": [],
   "source": [
    "#Drop columns which are not requried for EDA\n",
    "#df=df.drop(['OrderFirstConfirmedDateTime','OrderDueDate','ido'],axis=1)"
   ]
  },
  {
   "cell_type": "code",
   "execution_count": null,
   "id": "e2e9ae84",
   "metadata": {},
   "outputs": [],
   "source": []
  },
  {
   "cell_type": "code",
   "execution_count": 5,
   "id": "f000f9e4",
   "metadata": {
    "scrolled": true
   },
   "outputs": [
    {
     "data": {
      "text/html": [
       "<div>\n",
       "<style scoped>\n",
       "    .dataframe tbody tr th:only-of-type {\n",
       "        vertical-align: middle;\n",
       "    }\n",
       "\n",
       "    .dataframe tbody tr th {\n",
       "        vertical-align: top;\n",
       "    }\n",
       "\n",
       "    .dataframe thead th {\n",
       "        text-align: right;\n",
       "    }\n",
       "</style>\n",
       "<table border=\"1\" class=\"dataframe\">\n",
       "  <thead>\n",
       "    <tr style=\"text-align: right;\">\n",
       "      <th></th>\n",
       "      <th>sequencelength</th>\n",
       "      <th>ProdScale</th>\n",
       "      <th>PITname</th>\n",
       "      <th>PurificationName</th>\n",
       "      <th>shipmentdate</th>\n",
       "      <th>MachineName</th>\n",
       "    </tr>\n",
       "  </thead>\n",
       "  <tbody>\n",
       "    <tr>\n",
       "      <th>0</th>\n",
       "      <td>17</td>\n",
       "      <td>0.01 µmol</td>\n",
       "      <td>ALCU</td>\n",
       "      <td>FAST</td>\n",
       "      <td>2022-06-02 19:29:58.703000</td>\n",
       "      <td>CFS EBE 3</td>\n",
       "    </tr>\n",
       "    <tr>\n",
       "      <th>1</th>\n",
       "      <td>21</td>\n",
       "      <td>0.01 µmol</td>\n",
       "      <td>ALCU</td>\n",
       "      <td>FAST</td>\n",
       "      <td>2022-06-02 23:45:46.987000</td>\n",
       "      <td>CFS EBE 3</td>\n",
       "    </tr>\n",
       "    <tr>\n",
       "      <th>2</th>\n",
       "      <td>20</td>\n",
       "      <td>0.01 µmol</td>\n",
       "      <td>ALCU</td>\n",
       "      <td>HPSF</td>\n",
       "      <td>2022-06-03 03:28:23.253000</td>\n",
       "      <td>CFS EBE 3</td>\n",
       "    </tr>\n",
       "    <tr>\n",
       "      <th>3</th>\n",
       "      <td>20</td>\n",
       "      <td>0.01 µmol</td>\n",
       "      <td>ALCU</td>\n",
       "      <td>FAST</td>\n",
       "      <td>2022-06-03 07:57:26.947000</td>\n",
       "      <td>CFS EBE 3</td>\n",
       "    </tr>\n",
       "    <tr>\n",
       "      <th>4</th>\n",
       "      <td>30</td>\n",
       "      <td>0.01 µmol</td>\n",
       "      <td>SFONXP</td>\n",
       "      <td>FAST</td>\n",
       "      <td>2022-06-08 17:34:09.287000</td>\n",
       "      <td>CFS CGN 1</td>\n",
       "    </tr>\n",
       "    <tr>\n",
       "      <th>...</th>\n",
       "      <td>...</td>\n",
       "      <td>...</td>\n",
       "      <td>...</td>\n",
       "      <td>...</td>\n",
       "      <td>...</td>\n",
       "      <td>...</td>\n",
       "    </tr>\n",
       "    <tr>\n",
       "      <th>446969</th>\n",
       "      <td>70</td>\n",
       "      <td>0.05 µmol</td>\n",
       "      <td>NGSUDI</td>\n",
       "      <td>FAST</td>\n",
       "      <td>NaN</td>\n",
       "      <td>NaN</td>\n",
       "    </tr>\n",
       "    <tr>\n",
       "      <th>446970</th>\n",
       "      <td>70</td>\n",
       "      <td>0.05 µmol</td>\n",
       "      <td>NGSUDI</td>\n",
       "      <td>FAST</td>\n",
       "      <td>NaN</td>\n",
       "      <td>NaN</td>\n",
       "    </tr>\n",
       "    <tr>\n",
       "      <th>446971</th>\n",
       "      <td>70</td>\n",
       "      <td>0.05 µmol</td>\n",
       "      <td>NGSUDI</td>\n",
       "      <td>FAST</td>\n",
       "      <td>NaN</td>\n",
       "      <td>NaN</td>\n",
       "    </tr>\n",
       "    <tr>\n",
       "      <th>446972</th>\n",
       "      <td>74</td>\n",
       "      <td>0.05 µmol</td>\n",
       "      <td>NGSUDI</td>\n",
       "      <td>FAST</td>\n",
       "      <td>NaN</td>\n",
       "      <td>NaN</td>\n",
       "    </tr>\n",
       "    <tr>\n",
       "      <th>446973</th>\n",
       "      <td>70</td>\n",
       "      <td>0.05 µmol</td>\n",
       "      <td>NGSUDI</td>\n",
       "      <td>FAST</td>\n",
       "      <td>NaN</td>\n",
       "      <td>NaN</td>\n",
       "    </tr>\n",
       "  </tbody>\n",
       "</table>\n",
       "<p>446974 rows × 6 columns</p>\n",
       "</div>"
      ],
      "text/plain": [
       "        sequencelength  ProdScale PITname PurificationName  \\\n",
       "0                   17  0.01 µmol    ALCU             FAST   \n",
       "1                   21  0.01 µmol    ALCU             FAST   \n",
       "2                   20  0.01 µmol    ALCU             HPSF   \n",
       "3                   20  0.01 µmol    ALCU             FAST   \n",
       "4                   30  0.01 µmol  SFONXP             FAST   \n",
       "...                ...        ...     ...              ...   \n",
       "446969              70  0.05 µmol  NGSUDI             FAST   \n",
       "446970              70  0.05 µmol  NGSUDI             FAST   \n",
       "446971              70  0.05 µmol  NGSUDI             FAST   \n",
       "446972              74  0.05 µmol  NGSUDI             FAST   \n",
       "446973              70  0.05 µmol  NGSUDI             FAST   \n",
       "\n",
       "                      shipmentdate MachineName  \n",
       "0       2022-06-02 19:29:58.703000   CFS EBE 3  \n",
       "1       2022-06-02 23:45:46.987000   CFS EBE 3  \n",
       "2       2022-06-03 03:28:23.253000   CFS EBE 3  \n",
       "3       2022-06-03 07:57:26.947000   CFS EBE 3  \n",
       "4       2022-06-08 17:34:09.287000   CFS CGN 1  \n",
       "...                            ...         ...  \n",
       "446969                         NaN         NaN  \n",
       "446970                         NaN         NaN  \n",
       "446971                         NaN         NaN  \n",
       "446972                         NaN         NaN  \n",
       "446973                         NaN         NaN  \n",
       "\n",
       "[446974 rows x 6 columns]"
      ]
     },
     "execution_count": 5,
     "metadata": {},
     "output_type": "execute_result"
    }
   ],
   "source": [
    "df"
   ]
  },
  {
   "cell_type": "code",
   "execution_count": 17,
   "id": "70d1b64a",
   "metadata": {},
   "outputs": [],
   "source": [
    "#df=df.dropna()\n",
    "#df\n",
    "\n",
    "df=df.dropna(subset = ['shipmentdate', 'OrderCreationDateTime', 'MachineName'])"
   ]
  },
  {
   "cell_type": "code",
   "execution_count": 18,
   "id": "25a9df5e",
   "metadata": {},
   "outputs": [
    {
     "data": {
      "text/html": [
       "<div>\n",
       "<style scoped>\n",
       "    .dataframe tbody tr th:only-of-type {\n",
       "        vertical-align: middle;\n",
       "    }\n",
       "\n",
       "    .dataframe tbody tr th {\n",
       "        vertical-align: top;\n",
       "    }\n",
       "\n",
       "    .dataframe thead th {\n",
       "        text-align: right;\n",
       "    }\n",
       "</style>\n",
       "<table border=\"1\" class=\"dataframe\">\n",
       "  <thead>\n",
       "    <tr style=\"text-align: right;\">\n",
       "      <th></th>\n",
       "      <th>OrderCreationDateTime</th>\n",
       "      <th>OrderFirstConfirmedDateTime</th>\n",
       "      <th>OrderDueDate</th>\n",
       "      <th>ido</th>\n",
       "      <th>sequencelength</th>\n",
       "      <th>ProdScale</th>\n",
       "      <th>PITname</th>\n",
       "      <th>PurificationName</th>\n",
       "      <th>shipmentdate</th>\n",
       "      <th>MachineName</th>\n",
       "    </tr>\n",
       "  </thead>\n",
       "  <tbody>\n",
       "    <tr>\n",
       "      <th>0</th>\n",
       "      <td>2022-06-01 14:24:45.960000</td>\n",
       "      <td>2022-06-01 14:09:29</td>\n",
       "      <td>2022-06-02 19:00:00</td>\n",
       "      <td>32969575</td>\n",
       "      <td>17</td>\n",
       "      <td>0.01 µmol</td>\n",
       "      <td>ALCU</td>\n",
       "      <td>FAST</td>\n",
       "      <td>2022-06-02 19:29:58.703000</td>\n",
       "      <td>CFS EBE 3</td>\n",
       "    </tr>\n",
       "    <tr>\n",
       "      <th>1</th>\n",
       "      <td>2022-06-01 14:58:12.207000</td>\n",
       "      <td>2022-06-01 14:42:59</td>\n",
       "      <td>2022-06-04 19:00:00</td>\n",
       "      <td>32970130</td>\n",
       "      <td>21</td>\n",
       "      <td>0.01 µmol</td>\n",
       "      <td>ALCU</td>\n",
       "      <td>FAST</td>\n",
       "      <td>2022-06-02 23:45:46.987000</td>\n",
       "      <td>CFS EBE 3</td>\n",
       "    </tr>\n",
       "    <tr>\n",
       "      <th>2</th>\n",
       "      <td>2022-06-02 14:37:10.350000</td>\n",
       "      <td>2022-06-02 14:21:54</td>\n",
       "      <td>2022-06-04 19:00:00</td>\n",
       "      <td>32978058</td>\n",
       "      <td>20</td>\n",
       "      <td>0.01 µmol</td>\n",
       "      <td>ALCU</td>\n",
       "      <td>HPSF</td>\n",
       "      <td>2022-06-03 03:28:23.253000</td>\n",
       "      <td>CFS EBE 3</td>\n",
       "    </tr>\n",
       "    <tr>\n",
       "      <th>3</th>\n",
       "      <td>2022-06-02 18:16:02.437000</td>\n",
       "      <td>2022-06-02 18:00:45</td>\n",
       "      <td>2022-06-04 19:00:00</td>\n",
       "      <td>32979249</td>\n",
       "      <td>20</td>\n",
       "      <td>0.01 µmol</td>\n",
       "      <td>ALCU</td>\n",
       "      <td>FAST</td>\n",
       "      <td>2022-06-03 07:57:26.947000</td>\n",
       "      <td>CFS EBE 3</td>\n",
       "    </tr>\n",
       "    <tr>\n",
       "      <th>4</th>\n",
       "      <td>2022-06-03 12:23:35.393000</td>\n",
       "      <td>2022-06-03 12:23:10</td>\n",
       "      <td>2022-06-05 23:59:59</td>\n",
       "      <td>32981704</td>\n",
       "      <td>30</td>\n",
       "      <td>0.01 µmol</td>\n",
       "      <td>SFONXP</td>\n",
       "      <td>FAST</td>\n",
       "      <td>2022-06-08 17:34:09.287000</td>\n",
       "      <td>CFS CGN 1</td>\n",
       "    </tr>\n",
       "    <tr>\n",
       "      <th>...</th>\n",
       "      <td>...</td>\n",
       "      <td>...</td>\n",
       "      <td>...</td>\n",
       "      <td>...</td>\n",
       "      <td>...</td>\n",
       "      <td>...</td>\n",
       "      <td>...</td>\n",
       "      <td>...</td>\n",
       "      <td>...</td>\n",
       "      <td>...</td>\n",
       "    </tr>\n",
       "    <tr>\n",
       "      <th>446946</th>\n",
       "      <td>2022-06-22 09:01:35.250000</td>\n",
       "      <td>2022-06-21 07:40:38.050000</td>\n",
       "      <td>2022-07-26 19:00:00</td>\n",
       "      <td>33049819</td>\n",
       "      <td>70</td>\n",
       "      <td>0.05 µmol</td>\n",
       "      <td>NGSUDI</td>\n",
       "      <td>FAST</td>\n",
       "      <td>2022-07-21 13:03:45</td>\n",
       "      <td>CFS EBE 2</td>\n",
       "    </tr>\n",
       "    <tr>\n",
       "      <th>446947</th>\n",
       "      <td>2022-06-22 09:01:35.250000</td>\n",
       "      <td>2022-06-21 07:40:38.050000</td>\n",
       "      <td>2022-07-26 19:00:00</td>\n",
       "      <td>33049847</td>\n",
       "      <td>70</td>\n",
       "      <td>0.05 µmol</td>\n",
       "      <td>NGSUDI</td>\n",
       "      <td>FAST</td>\n",
       "      <td>2022-07-21 13:03:45</td>\n",
       "      <td>CFS EBE 2</td>\n",
       "    </tr>\n",
       "    <tr>\n",
       "      <th>446948</th>\n",
       "      <td>2022-06-22 09:01:35.250000</td>\n",
       "      <td>2022-06-21 07:40:38.050000</td>\n",
       "      <td>2022-07-26 19:00:00</td>\n",
       "      <td>33049831</td>\n",
       "      <td>70</td>\n",
       "      <td>0.05 µmol</td>\n",
       "      <td>NGSUDI</td>\n",
       "      <td>FAST</td>\n",
       "      <td>2022-07-21 13:03:45</td>\n",
       "      <td>CFS EBE 2</td>\n",
       "    </tr>\n",
       "    <tr>\n",
       "      <th>446962</th>\n",
       "      <td>2022-06-22 09:01:35.250000</td>\n",
       "      <td>2022-06-21 07:40:38.050000</td>\n",
       "      <td>2022-07-26 19:00:00</td>\n",
       "      <td>33049856</td>\n",
       "      <td>70</td>\n",
       "      <td>0.05 µmol</td>\n",
       "      <td>NGSUDI</td>\n",
       "      <td>FAST</td>\n",
       "      <td>2022-07-21 13:03:45</td>\n",
       "      <td>CFS EBE 2</td>\n",
       "    </tr>\n",
       "    <tr>\n",
       "      <th>446963</th>\n",
       "      <td>2022-06-22 09:01:35.250000</td>\n",
       "      <td>2022-06-21 07:40:38.050000</td>\n",
       "      <td>2022-07-26 19:00:00</td>\n",
       "      <td>33049852</td>\n",
       "      <td>70</td>\n",
       "      <td>0.05 µmol</td>\n",
       "      <td>NGSUDI</td>\n",
       "      <td>FAST</td>\n",
       "      <td>2022-07-21 13:03:45</td>\n",
       "      <td>CFS EBE 2</td>\n",
       "    </tr>\n",
       "  </tbody>\n",
       "</table>\n",
       "<p>425908 rows × 10 columns</p>\n",
       "</div>"
      ],
      "text/plain": [
       "             OrderCreationDateTime OrderFirstConfirmedDateTime  \\\n",
       "0       2022-06-01 14:24:45.960000         2022-06-01 14:09:29   \n",
       "1       2022-06-01 14:58:12.207000         2022-06-01 14:42:59   \n",
       "2       2022-06-02 14:37:10.350000         2022-06-02 14:21:54   \n",
       "3       2022-06-02 18:16:02.437000         2022-06-02 18:00:45   \n",
       "4       2022-06-03 12:23:35.393000         2022-06-03 12:23:10   \n",
       "...                            ...                         ...   \n",
       "446946  2022-06-22 09:01:35.250000  2022-06-21 07:40:38.050000   \n",
       "446947  2022-06-22 09:01:35.250000  2022-06-21 07:40:38.050000   \n",
       "446948  2022-06-22 09:01:35.250000  2022-06-21 07:40:38.050000   \n",
       "446962  2022-06-22 09:01:35.250000  2022-06-21 07:40:38.050000   \n",
       "446963  2022-06-22 09:01:35.250000  2022-06-21 07:40:38.050000   \n",
       "\n",
       "               OrderDueDate       ido  sequencelength  ProdScale PITname  \\\n",
       "0       2022-06-02 19:00:00  32969575              17  0.01 µmol    ALCU   \n",
       "1       2022-06-04 19:00:00  32970130              21  0.01 µmol    ALCU   \n",
       "2       2022-06-04 19:00:00  32978058              20  0.01 µmol    ALCU   \n",
       "3       2022-06-04 19:00:00  32979249              20  0.01 µmol    ALCU   \n",
       "4       2022-06-05 23:59:59  32981704              30  0.01 µmol  SFONXP   \n",
       "...                     ...       ...             ...        ...     ...   \n",
       "446946  2022-07-26 19:00:00  33049819              70  0.05 µmol  NGSUDI   \n",
       "446947  2022-07-26 19:00:00  33049847              70  0.05 µmol  NGSUDI   \n",
       "446948  2022-07-26 19:00:00  33049831              70  0.05 µmol  NGSUDI   \n",
       "446962  2022-07-26 19:00:00  33049856              70  0.05 µmol  NGSUDI   \n",
       "446963  2022-07-26 19:00:00  33049852              70  0.05 µmol  NGSUDI   \n",
       "\n",
       "       PurificationName                shipmentdate MachineName  \n",
       "0                  FAST  2022-06-02 19:29:58.703000   CFS EBE 3  \n",
       "1                  FAST  2022-06-02 23:45:46.987000   CFS EBE 3  \n",
       "2                  HPSF  2022-06-03 03:28:23.253000   CFS EBE 3  \n",
       "3                  FAST  2022-06-03 07:57:26.947000   CFS EBE 3  \n",
       "4                  FAST  2022-06-08 17:34:09.287000   CFS CGN 1  \n",
       "...                 ...                         ...         ...  \n",
       "446946             FAST         2022-07-21 13:03:45   CFS EBE 2  \n",
       "446947             FAST         2022-07-21 13:03:45   CFS EBE 2  \n",
       "446948             FAST         2022-07-21 13:03:45   CFS EBE 2  \n",
       "446962             FAST         2022-07-21 13:03:45   CFS EBE 2  \n",
       "446963             FAST         2022-07-21 13:03:45   CFS EBE 2  \n",
       "\n",
       "[425908 rows x 10 columns]"
      ]
     },
     "execution_count": 18,
     "metadata": {},
     "output_type": "execute_result"
    }
   ],
   "source": [
    "df"
   ]
  },
  {
   "cell_type": "code",
   "execution_count": 19,
   "id": "8ac19907",
   "metadata": {},
   "outputs": [],
   "source": [
    "#convert to string and do left and right trim to remove whitespaces\n",
    "df.ProdScale=df.ProdScale.astype(str).str.strip()\n",
    "#remove units from ProdScale\n",
    "df['ProdScale'] = df['ProdScale'].str.replace(r' µmol', '')  \n"
   ]
  },
  {
   "cell_type": "code",
   "execution_count": 20,
   "id": "f1984abc",
   "metadata": {},
   "outputs": [],
   "source": [
    "#df.drop_duplicates(keep='first',inplace=True)"
   ]
  },
  {
   "cell_type": "code",
   "execution_count": 21,
   "id": "be04ff42",
   "metadata": {
    "scrolled": true
   },
   "outputs": [
    {
     "data": {
      "text/html": [
       "<div>\n",
       "<style scoped>\n",
       "    .dataframe tbody tr th:only-of-type {\n",
       "        vertical-align: middle;\n",
       "    }\n",
       "\n",
       "    .dataframe tbody tr th {\n",
       "        vertical-align: top;\n",
       "    }\n",
       "\n",
       "    .dataframe thead th {\n",
       "        text-align: right;\n",
       "    }\n",
       "</style>\n",
       "<table border=\"1\" class=\"dataframe\">\n",
       "  <thead>\n",
       "    <tr style=\"text-align: right;\">\n",
       "      <th></th>\n",
       "      <th>OrderCreationDateTime</th>\n",
       "      <th>OrderFirstConfirmedDateTime</th>\n",
       "      <th>OrderDueDate</th>\n",
       "      <th>ido</th>\n",
       "      <th>sequencelength</th>\n",
       "      <th>ProdScale</th>\n",
       "      <th>PITname</th>\n",
       "      <th>PurificationName</th>\n",
       "      <th>shipmentdate</th>\n",
       "      <th>MachineName</th>\n",
       "      <th>time_delta</th>\n",
       "    </tr>\n",
       "  </thead>\n",
       "  <tbody>\n",
       "    <tr>\n",
       "      <th>0</th>\n",
       "      <td>2022-06-01 14:24:45.960</td>\n",
       "      <td>2022-06-01 14:09:29</td>\n",
       "      <td>2022-06-02 19:00:00</td>\n",
       "      <td>32969575</td>\n",
       "      <td>17</td>\n",
       "      <td>0.01</td>\n",
       "      <td>ALCU</td>\n",
       "      <td>FAST</td>\n",
       "      <td>2022-06-02 19:29:58.703</td>\n",
       "      <td>CFS EBE 3</td>\n",
       "      <td>1 days 05:05:12.743000</td>\n",
       "    </tr>\n",
       "    <tr>\n",
       "      <th>1</th>\n",
       "      <td>2022-06-01 14:58:12.207</td>\n",
       "      <td>2022-06-01 14:42:59</td>\n",
       "      <td>2022-06-04 19:00:00</td>\n",
       "      <td>32970130</td>\n",
       "      <td>21</td>\n",
       "      <td>0.01</td>\n",
       "      <td>ALCU</td>\n",
       "      <td>FAST</td>\n",
       "      <td>2022-06-02 23:45:46.987</td>\n",
       "      <td>CFS EBE 3</td>\n",
       "      <td>1 days 08:47:34.780000</td>\n",
       "    </tr>\n",
       "    <tr>\n",
       "      <th>2</th>\n",
       "      <td>2022-06-02 14:37:10.350</td>\n",
       "      <td>2022-06-02 14:21:54</td>\n",
       "      <td>2022-06-04 19:00:00</td>\n",
       "      <td>32978058</td>\n",
       "      <td>20</td>\n",
       "      <td>0.01</td>\n",
       "      <td>ALCU</td>\n",
       "      <td>HPSF</td>\n",
       "      <td>2022-06-03 03:28:23.253</td>\n",
       "      <td>CFS EBE 3</td>\n",
       "      <td>0 days 12:51:12.903000</td>\n",
       "    </tr>\n",
       "    <tr>\n",
       "      <th>3</th>\n",
       "      <td>2022-06-02 18:16:02.437</td>\n",
       "      <td>2022-06-02 18:00:45</td>\n",
       "      <td>2022-06-04 19:00:00</td>\n",
       "      <td>32979249</td>\n",
       "      <td>20</td>\n",
       "      <td>0.01</td>\n",
       "      <td>ALCU</td>\n",
       "      <td>FAST</td>\n",
       "      <td>2022-06-03 07:57:26.947</td>\n",
       "      <td>CFS EBE 3</td>\n",
       "      <td>0 days 13:41:24.510000</td>\n",
       "    </tr>\n",
       "    <tr>\n",
       "      <th>4</th>\n",
       "      <td>2022-06-03 12:23:35.393</td>\n",
       "      <td>2022-06-03 12:23:10</td>\n",
       "      <td>2022-06-05 23:59:59</td>\n",
       "      <td>32981704</td>\n",
       "      <td>30</td>\n",
       "      <td>0.01</td>\n",
       "      <td>SFONXP</td>\n",
       "      <td>FAST</td>\n",
       "      <td>2022-06-08 17:34:09.287</td>\n",
       "      <td>CFS CGN 1</td>\n",
       "      <td>5 days 05:10:33.894000</td>\n",
       "    </tr>\n",
       "    <tr>\n",
       "      <th>...</th>\n",
       "      <td>...</td>\n",
       "      <td>...</td>\n",
       "      <td>...</td>\n",
       "      <td>...</td>\n",
       "      <td>...</td>\n",
       "      <td>...</td>\n",
       "      <td>...</td>\n",
       "      <td>...</td>\n",
       "      <td>...</td>\n",
       "      <td>...</td>\n",
       "      <td>...</td>\n",
       "    </tr>\n",
       "    <tr>\n",
       "      <th>446946</th>\n",
       "      <td>2022-06-22 09:01:35.250</td>\n",
       "      <td>2022-06-21 07:40:38.050000</td>\n",
       "      <td>2022-07-26 19:00:00</td>\n",
       "      <td>33049819</td>\n",
       "      <td>70</td>\n",
       "      <td>0.05</td>\n",
       "      <td>NGSUDI</td>\n",
       "      <td>FAST</td>\n",
       "      <td>2022-07-21 13:03:45.000</td>\n",
       "      <td>CFS EBE 2</td>\n",
       "      <td>29 days 04:02:09.750000</td>\n",
       "    </tr>\n",
       "    <tr>\n",
       "      <th>446947</th>\n",
       "      <td>2022-06-22 09:01:35.250</td>\n",
       "      <td>2022-06-21 07:40:38.050000</td>\n",
       "      <td>2022-07-26 19:00:00</td>\n",
       "      <td>33049847</td>\n",
       "      <td>70</td>\n",
       "      <td>0.05</td>\n",
       "      <td>NGSUDI</td>\n",
       "      <td>FAST</td>\n",
       "      <td>2022-07-21 13:03:45.000</td>\n",
       "      <td>CFS EBE 2</td>\n",
       "      <td>29 days 04:02:09.750000</td>\n",
       "    </tr>\n",
       "    <tr>\n",
       "      <th>446948</th>\n",
       "      <td>2022-06-22 09:01:35.250</td>\n",
       "      <td>2022-06-21 07:40:38.050000</td>\n",
       "      <td>2022-07-26 19:00:00</td>\n",
       "      <td>33049831</td>\n",
       "      <td>70</td>\n",
       "      <td>0.05</td>\n",
       "      <td>NGSUDI</td>\n",
       "      <td>FAST</td>\n",
       "      <td>2022-07-21 13:03:45.000</td>\n",
       "      <td>CFS EBE 2</td>\n",
       "      <td>29 days 04:02:09.750000</td>\n",
       "    </tr>\n",
       "    <tr>\n",
       "      <th>446962</th>\n",
       "      <td>2022-06-22 09:01:35.250</td>\n",
       "      <td>2022-06-21 07:40:38.050000</td>\n",
       "      <td>2022-07-26 19:00:00</td>\n",
       "      <td>33049856</td>\n",
       "      <td>70</td>\n",
       "      <td>0.05</td>\n",
       "      <td>NGSUDI</td>\n",
       "      <td>FAST</td>\n",
       "      <td>2022-07-21 13:03:45.000</td>\n",
       "      <td>CFS EBE 2</td>\n",
       "      <td>29 days 04:02:09.750000</td>\n",
       "    </tr>\n",
       "    <tr>\n",
       "      <th>446963</th>\n",
       "      <td>2022-06-22 09:01:35.250</td>\n",
       "      <td>2022-06-21 07:40:38.050000</td>\n",
       "      <td>2022-07-26 19:00:00</td>\n",
       "      <td>33049852</td>\n",
       "      <td>70</td>\n",
       "      <td>0.05</td>\n",
       "      <td>NGSUDI</td>\n",
       "      <td>FAST</td>\n",
       "      <td>2022-07-21 13:03:45.000</td>\n",
       "      <td>CFS EBE 2</td>\n",
       "      <td>29 days 04:02:09.750000</td>\n",
       "    </tr>\n",
       "  </tbody>\n",
       "</table>\n",
       "<p>425908 rows × 11 columns</p>\n",
       "</div>"
      ],
      "text/plain": [
       "         OrderCreationDateTime OrderFirstConfirmedDateTime  \\\n",
       "0      2022-06-01 14:24:45.960         2022-06-01 14:09:29   \n",
       "1      2022-06-01 14:58:12.207         2022-06-01 14:42:59   \n",
       "2      2022-06-02 14:37:10.350         2022-06-02 14:21:54   \n",
       "3      2022-06-02 18:16:02.437         2022-06-02 18:00:45   \n",
       "4      2022-06-03 12:23:35.393         2022-06-03 12:23:10   \n",
       "...                        ...                         ...   \n",
       "446946 2022-06-22 09:01:35.250  2022-06-21 07:40:38.050000   \n",
       "446947 2022-06-22 09:01:35.250  2022-06-21 07:40:38.050000   \n",
       "446948 2022-06-22 09:01:35.250  2022-06-21 07:40:38.050000   \n",
       "446962 2022-06-22 09:01:35.250  2022-06-21 07:40:38.050000   \n",
       "446963 2022-06-22 09:01:35.250  2022-06-21 07:40:38.050000   \n",
       "\n",
       "               OrderDueDate       ido  sequencelength ProdScale PITname  \\\n",
       "0       2022-06-02 19:00:00  32969575              17      0.01    ALCU   \n",
       "1       2022-06-04 19:00:00  32970130              21      0.01    ALCU   \n",
       "2       2022-06-04 19:00:00  32978058              20      0.01    ALCU   \n",
       "3       2022-06-04 19:00:00  32979249              20      0.01    ALCU   \n",
       "4       2022-06-05 23:59:59  32981704              30      0.01  SFONXP   \n",
       "...                     ...       ...             ...       ...     ...   \n",
       "446946  2022-07-26 19:00:00  33049819              70      0.05  NGSUDI   \n",
       "446947  2022-07-26 19:00:00  33049847              70      0.05  NGSUDI   \n",
       "446948  2022-07-26 19:00:00  33049831              70      0.05  NGSUDI   \n",
       "446962  2022-07-26 19:00:00  33049856              70      0.05  NGSUDI   \n",
       "446963  2022-07-26 19:00:00  33049852              70      0.05  NGSUDI   \n",
       "\n",
       "       PurificationName            shipmentdate MachineName  \\\n",
       "0                  FAST 2022-06-02 19:29:58.703   CFS EBE 3   \n",
       "1                  FAST 2022-06-02 23:45:46.987   CFS EBE 3   \n",
       "2                  HPSF 2022-06-03 03:28:23.253   CFS EBE 3   \n",
       "3                  FAST 2022-06-03 07:57:26.947   CFS EBE 3   \n",
       "4                  FAST 2022-06-08 17:34:09.287   CFS CGN 1   \n",
       "...                 ...                     ...         ...   \n",
       "446946             FAST 2022-07-21 13:03:45.000   CFS EBE 2   \n",
       "446947             FAST 2022-07-21 13:03:45.000   CFS EBE 2   \n",
       "446948             FAST 2022-07-21 13:03:45.000   CFS EBE 2   \n",
       "446962             FAST 2022-07-21 13:03:45.000   CFS EBE 2   \n",
       "446963             FAST 2022-07-21 13:03:45.000   CFS EBE 2   \n",
       "\n",
       "                    time_delta  \n",
       "0       1 days 05:05:12.743000  \n",
       "1       1 days 08:47:34.780000  \n",
       "2       0 days 12:51:12.903000  \n",
       "3       0 days 13:41:24.510000  \n",
       "4       5 days 05:10:33.894000  \n",
       "...                        ...  \n",
       "446946 29 days 04:02:09.750000  \n",
       "446947 29 days 04:02:09.750000  \n",
       "446948 29 days 04:02:09.750000  \n",
       "446962 29 days 04:02:09.750000  \n",
       "446963 29 days 04:02:09.750000  \n",
       "\n",
       "[425908 rows x 11 columns]"
      ]
     },
     "execution_count": 21,
     "metadata": {},
     "output_type": "execute_result"
    }
   ],
   "source": [
    "#get the date diff\n",
    "#convert OrderCreationDateTime and shipmentdate in datetime\n",
    "df['OrderCreationDateTime']=pd.to_datetime(df['OrderCreationDateTime'])\n",
    "df['shipmentdate']=pd.to_datetime(df['shipmentdate'])\n",
    "\n",
    "#calculate total shipment time\n",
    "df['time_delta'] = (df.shipmentdate - df.OrderCreationDateTime)\n",
    "\n",
    "df"
   ]
  },
  {
   "cell_type": "code",
   "execution_count": 22,
   "id": "0b1ed099",
   "metadata": {},
   "outputs": [],
   "source": [
    "# create a colume with timedelta as total minutes, as a float type\n",
    "import math\n",
    "df['shipment_time_days'] = ((df.shipmentdate - df.OrderCreationDateTime) / pd.Timedelta(hours=2)).apply(np.ceil)\n",
    "df['shipment_time_days'] = df['shipment_time_days'].astype('int')"
   ]
  },
  {
   "cell_type": "code",
   "execution_count": 23,
   "id": "ba7a9abb",
   "metadata": {},
   "outputs": [
    {
     "data": {
      "text/html": [
       "<div>\n",
       "<style scoped>\n",
       "    .dataframe tbody tr th:only-of-type {\n",
       "        vertical-align: middle;\n",
       "    }\n",
       "\n",
       "    .dataframe tbody tr th {\n",
       "        vertical-align: top;\n",
       "    }\n",
       "\n",
       "    .dataframe thead th {\n",
       "        text-align: right;\n",
       "    }\n",
       "</style>\n",
       "<table border=\"1\" class=\"dataframe\">\n",
       "  <thead>\n",
       "    <tr style=\"text-align: right;\">\n",
       "      <th></th>\n",
       "      <th>OrderCreationDateTime</th>\n",
       "      <th>OrderFirstConfirmedDateTime</th>\n",
       "      <th>OrderDueDate</th>\n",
       "      <th>ido</th>\n",
       "      <th>sequencelength</th>\n",
       "      <th>ProdScale</th>\n",
       "      <th>PITname</th>\n",
       "      <th>PurificationName</th>\n",
       "      <th>shipmentdate</th>\n",
       "      <th>MachineName</th>\n",
       "      <th>time_delta</th>\n",
       "      <th>shipment_time_days</th>\n",
       "    </tr>\n",
       "  </thead>\n",
       "  <tbody>\n",
       "    <tr>\n",
       "      <th>0</th>\n",
       "      <td>2022-06-01 14:24:45.960</td>\n",
       "      <td>2022-06-01 14:09:29</td>\n",
       "      <td>2022-06-02 19:00:00</td>\n",
       "      <td>32969575</td>\n",
       "      <td>17</td>\n",
       "      <td>0.01</td>\n",
       "      <td>ALCU</td>\n",
       "      <td>FAST</td>\n",
       "      <td>2022-06-02 19:29:58.703</td>\n",
       "      <td>CFS EBE 3</td>\n",
       "      <td>1 days 05:05:12.743000</td>\n",
       "      <td>15</td>\n",
       "    </tr>\n",
       "    <tr>\n",
       "      <th>1</th>\n",
       "      <td>2022-06-01 14:58:12.207</td>\n",
       "      <td>2022-06-01 14:42:59</td>\n",
       "      <td>2022-06-04 19:00:00</td>\n",
       "      <td>32970130</td>\n",
       "      <td>21</td>\n",
       "      <td>0.01</td>\n",
       "      <td>ALCU</td>\n",
       "      <td>FAST</td>\n",
       "      <td>2022-06-02 23:45:46.987</td>\n",
       "      <td>CFS EBE 3</td>\n",
       "      <td>1 days 08:47:34.780000</td>\n",
       "      <td>17</td>\n",
       "    </tr>\n",
       "    <tr>\n",
       "      <th>2</th>\n",
       "      <td>2022-06-02 14:37:10.350</td>\n",
       "      <td>2022-06-02 14:21:54</td>\n",
       "      <td>2022-06-04 19:00:00</td>\n",
       "      <td>32978058</td>\n",
       "      <td>20</td>\n",
       "      <td>0.01</td>\n",
       "      <td>ALCU</td>\n",
       "      <td>HPSF</td>\n",
       "      <td>2022-06-03 03:28:23.253</td>\n",
       "      <td>CFS EBE 3</td>\n",
       "      <td>0 days 12:51:12.903000</td>\n",
       "      <td>7</td>\n",
       "    </tr>\n",
       "    <tr>\n",
       "      <th>3</th>\n",
       "      <td>2022-06-02 18:16:02.437</td>\n",
       "      <td>2022-06-02 18:00:45</td>\n",
       "      <td>2022-06-04 19:00:00</td>\n",
       "      <td>32979249</td>\n",
       "      <td>20</td>\n",
       "      <td>0.01</td>\n",
       "      <td>ALCU</td>\n",
       "      <td>FAST</td>\n",
       "      <td>2022-06-03 07:57:26.947</td>\n",
       "      <td>CFS EBE 3</td>\n",
       "      <td>0 days 13:41:24.510000</td>\n",
       "      <td>7</td>\n",
       "    </tr>\n",
       "    <tr>\n",
       "      <th>4</th>\n",
       "      <td>2022-06-03 12:23:35.393</td>\n",
       "      <td>2022-06-03 12:23:10</td>\n",
       "      <td>2022-06-05 23:59:59</td>\n",
       "      <td>32981704</td>\n",
       "      <td>30</td>\n",
       "      <td>0.01</td>\n",
       "      <td>SFONXP</td>\n",
       "      <td>FAST</td>\n",
       "      <td>2022-06-08 17:34:09.287</td>\n",
       "      <td>CFS CGN 1</td>\n",
       "      <td>5 days 05:10:33.894000</td>\n",
       "      <td>63</td>\n",
       "    </tr>\n",
       "    <tr>\n",
       "      <th>...</th>\n",
       "      <td>...</td>\n",
       "      <td>...</td>\n",
       "      <td>...</td>\n",
       "      <td>...</td>\n",
       "      <td>...</td>\n",
       "      <td>...</td>\n",
       "      <td>...</td>\n",
       "      <td>...</td>\n",
       "      <td>...</td>\n",
       "      <td>...</td>\n",
       "      <td>...</td>\n",
       "      <td>...</td>\n",
       "    </tr>\n",
       "    <tr>\n",
       "      <th>446946</th>\n",
       "      <td>2022-06-22 09:01:35.250</td>\n",
       "      <td>2022-06-21 07:40:38.050000</td>\n",
       "      <td>2022-07-26 19:00:00</td>\n",
       "      <td>33049819</td>\n",
       "      <td>70</td>\n",
       "      <td>0.05</td>\n",
       "      <td>NGSUDI</td>\n",
       "      <td>FAST</td>\n",
       "      <td>2022-07-21 13:03:45.000</td>\n",
       "      <td>CFS EBE 2</td>\n",
       "      <td>29 days 04:02:09.750000</td>\n",
       "      <td>351</td>\n",
       "    </tr>\n",
       "    <tr>\n",
       "      <th>446947</th>\n",
       "      <td>2022-06-22 09:01:35.250</td>\n",
       "      <td>2022-06-21 07:40:38.050000</td>\n",
       "      <td>2022-07-26 19:00:00</td>\n",
       "      <td>33049847</td>\n",
       "      <td>70</td>\n",
       "      <td>0.05</td>\n",
       "      <td>NGSUDI</td>\n",
       "      <td>FAST</td>\n",
       "      <td>2022-07-21 13:03:45.000</td>\n",
       "      <td>CFS EBE 2</td>\n",
       "      <td>29 days 04:02:09.750000</td>\n",
       "      <td>351</td>\n",
       "    </tr>\n",
       "    <tr>\n",
       "      <th>446948</th>\n",
       "      <td>2022-06-22 09:01:35.250</td>\n",
       "      <td>2022-06-21 07:40:38.050000</td>\n",
       "      <td>2022-07-26 19:00:00</td>\n",
       "      <td>33049831</td>\n",
       "      <td>70</td>\n",
       "      <td>0.05</td>\n",
       "      <td>NGSUDI</td>\n",
       "      <td>FAST</td>\n",
       "      <td>2022-07-21 13:03:45.000</td>\n",
       "      <td>CFS EBE 2</td>\n",
       "      <td>29 days 04:02:09.750000</td>\n",
       "      <td>351</td>\n",
       "    </tr>\n",
       "    <tr>\n",
       "      <th>446962</th>\n",
       "      <td>2022-06-22 09:01:35.250</td>\n",
       "      <td>2022-06-21 07:40:38.050000</td>\n",
       "      <td>2022-07-26 19:00:00</td>\n",
       "      <td>33049856</td>\n",
       "      <td>70</td>\n",
       "      <td>0.05</td>\n",
       "      <td>NGSUDI</td>\n",
       "      <td>FAST</td>\n",
       "      <td>2022-07-21 13:03:45.000</td>\n",
       "      <td>CFS EBE 2</td>\n",
       "      <td>29 days 04:02:09.750000</td>\n",
       "      <td>351</td>\n",
       "    </tr>\n",
       "    <tr>\n",
       "      <th>446963</th>\n",
       "      <td>2022-06-22 09:01:35.250</td>\n",
       "      <td>2022-06-21 07:40:38.050000</td>\n",
       "      <td>2022-07-26 19:00:00</td>\n",
       "      <td>33049852</td>\n",
       "      <td>70</td>\n",
       "      <td>0.05</td>\n",
       "      <td>NGSUDI</td>\n",
       "      <td>FAST</td>\n",
       "      <td>2022-07-21 13:03:45.000</td>\n",
       "      <td>CFS EBE 2</td>\n",
       "      <td>29 days 04:02:09.750000</td>\n",
       "      <td>351</td>\n",
       "    </tr>\n",
       "  </tbody>\n",
       "</table>\n",
       "<p>425908 rows × 12 columns</p>\n",
       "</div>"
      ],
      "text/plain": [
       "         OrderCreationDateTime OrderFirstConfirmedDateTime  \\\n",
       "0      2022-06-01 14:24:45.960         2022-06-01 14:09:29   \n",
       "1      2022-06-01 14:58:12.207         2022-06-01 14:42:59   \n",
       "2      2022-06-02 14:37:10.350         2022-06-02 14:21:54   \n",
       "3      2022-06-02 18:16:02.437         2022-06-02 18:00:45   \n",
       "4      2022-06-03 12:23:35.393         2022-06-03 12:23:10   \n",
       "...                        ...                         ...   \n",
       "446946 2022-06-22 09:01:35.250  2022-06-21 07:40:38.050000   \n",
       "446947 2022-06-22 09:01:35.250  2022-06-21 07:40:38.050000   \n",
       "446948 2022-06-22 09:01:35.250  2022-06-21 07:40:38.050000   \n",
       "446962 2022-06-22 09:01:35.250  2022-06-21 07:40:38.050000   \n",
       "446963 2022-06-22 09:01:35.250  2022-06-21 07:40:38.050000   \n",
       "\n",
       "               OrderDueDate       ido  sequencelength ProdScale PITname  \\\n",
       "0       2022-06-02 19:00:00  32969575              17      0.01    ALCU   \n",
       "1       2022-06-04 19:00:00  32970130              21      0.01    ALCU   \n",
       "2       2022-06-04 19:00:00  32978058              20      0.01    ALCU   \n",
       "3       2022-06-04 19:00:00  32979249              20      0.01    ALCU   \n",
       "4       2022-06-05 23:59:59  32981704              30      0.01  SFONXP   \n",
       "...                     ...       ...             ...       ...     ...   \n",
       "446946  2022-07-26 19:00:00  33049819              70      0.05  NGSUDI   \n",
       "446947  2022-07-26 19:00:00  33049847              70      0.05  NGSUDI   \n",
       "446948  2022-07-26 19:00:00  33049831              70      0.05  NGSUDI   \n",
       "446962  2022-07-26 19:00:00  33049856              70      0.05  NGSUDI   \n",
       "446963  2022-07-26 19:00:00  33049852              70      0.05  NGSUDI   \n",
       "\n",
       "       PurificationName            shipmentdate MachineName  \\\n",
       "0                  FAST 2022-06-02 19:29:58.703   CFS EBE 3   \n",
       "1                  FAST 2022-06-02 23:45:46.987   CFS EBE 3   \n",
       "2                  HPSF 2022-06-03 03:28:23.253   CFS EBE 3   \n",
       "3                  FAST 2022-06-03 07:57:26.947   CFS EBE 3   \n",
       "4                  FAST 2022-06-08 17:34:09.287   CFS CGN 1   \n",
       "...                 ...                     ...         ...   \n",
       "446946             FAST 2022-07-21 13:03:45.000   CFS EBE 2   \n",
       "446947             FAST 2022-07-21 13:03:45.000   CFS EBE 2   \n",
       "446948             FAST 2022-07-21 13:03:45.000   CFS EBE 2   \n",
       "446962             FAST 2022-07-21 13:03:45.000   CFS EBE 2   \n",
       "446963             FAST 2022-07-21 13:03:45.000   CFS EBE 2   \n",
       "\n",
       "                    time_delta  shipment_time_days  \n",
       "0       1 days 05:05:12.743000                  15  \n",
       "1       1 days 08:47:34.780000                  17  \n",
       "2       0 days 12:51:12.903000                   7  \n",
       "3       0 days 13:41:24.510000                   7  \n",
       "4       5 days 05:10:33.894000                  63  \n",
       "...                        ...                 ...  \n",
       "446946 29 days 04:02:09.750000                 351  \n",
       "446947 29 days 04:02:09.750000                 351  \n",
       "446948 29 days 04:02:09.750000                 351  \n",
       "446962 29 days 04:02:09.750000                 351  \n",
       "446963 29 days 04:02:09.750000                 351  \n",
       "\n",
       "[425908 rows x 12 columns]"
      ]
     },
     "execution_count": 23,
     "metadata": {},
     "output_type": "execute_result"
    }
   ],
   "source": [
    "df"
   ]
  },
  {
   "cell_type": "code",
   "execution_count": 24,
   "id": "c7d2d694",
   "metadata": {},
   "outputs": [],
   "source": [
    "df=df.drop(['OrderCreationDateTime','time_delta','shipmentdate'],axis=1)"
   ]
  },
  {
   "cell_type": "code",
   "execution_count": 25,
   "id": "ff16ec75",
   "metadata": {},
   "outputs": [
    {
     "name": "stdout",
     "output_type": "stream",
     "text": [
      " OrderFirstConfirmedDateTime :  46841\n",
      " OrderDueDate :  350\n",
      " ido :  424736\n",
      " sequencelength :  119\n",
      " ProdScale :  7\n",
      " PITname :  22\n",
      " PurificationName :  4\n",
      " MachineName :  23\n",
      " shipment_time_days :  344\n"
     ]
    }
   ],
   "source": [
    "def pintLenColVal():\n",
    "    a=df.columns\n",
    "    for a in df.columns:\n",
    "        print( f\" {a} : \",len(pd.unique(df[a])))\n",
    "\n",
    "pintLenColVal()"
   ]
  },
  {
   "cell_type": "code",
   "execution_count": 26,
   "id": "d8440f6c",
   "metadata": {},
   "outputs": [
    {
     "data": {
      "text/plain": [
       "<AxesSubplot:xlabel='shipment_time_days'>"
      ]
     },
     "execution_count": 26,
     "metadata": {},
     "output_type": "execute_result"
    },
    {
     "data": {
      "image/png": "[encoded data removed]",
      "text/plain": [
       "<Figure size 432x288 with 1 Axes>"
      ]
     },
     "metadata": {
      "needs_background": "light"
     },
     "output_type": "display_data"
    }
   ],
   "source": [
    "sns.boxplot('shipment_time_days',data=df)"
   ]
  },
  {
   "cell_type": "code",
   "execution_count": 27,
   "id": "ea85e05a",
   "metadata": {},
   "outputs": [
    {
     "data": {
      "text/html": [
       "<div>\n",
       "<style scoped>\n",
       "    .dataframe tbody tr th:only-of-type {\n",
       "        vertical-align: middle;\n",
       "    }\n",
       "\n",
       "    .dataframe tbody tr th {\n",
       "        vertical-align: top;\n",
       "    }\n",
       "\n",
       "    .dataframe thead th {\n",
       "        text-align: right;\n",
       "    }\n",
       "</style>\n",
       "<table border=\"1\" class=\"dataframe\">\n",
       "  <thead>\n",
       "    <tr style=\"text-align: right;\">\n",
       "      <th></th>\n",
       "      <th>OrderFirstConfirmedDateTime</th>\n",
       "      <th>OrderDueDate</th>\n",
       "      <th>ido</th>\n",
       "      <th>sequencelength</th>\n",
       "      <th>ProdScale</th>\n",
       "      <th>PITname</th>\n",
       "      <th>PurificationName</th>\n",
       "      <th>MachineName</th>\n",
       "      <th>shipment_time_days</th>\n",
       "    </tr>\n",
       "  </thead>\n",
       "  <tbody>\n",
       "    <tr>\n",
       "      <th>206230</th>\n",
       "      <td>2022-05-12 13:06:11</td>\n",
       "      <td>2022-05-23 19:00:00</td>\n",
       "      <td>32891062</td>\n",
       "      <td>5</td>\n",
       "      <td>0.01</td>\n",
       "      <td>ALCM</td>\n",
       "      <td>HPLC</td>\n",
       "      <td>OligoMaker 5</td>\n",
       "      <td>902</td>\n",
       "    </tr>\n",
       "    <tr>\n",
       "      <th>433993</th>\n",
       "      <td>2022-06-01 14:14:00.317000</td>\n",
       "      <td>2022-06-18 19:00:00</td>\n",
       "      <td>32969157</td>\n",
       "      <td>22</td>\n",
       "      <td>0.05</td>\n",
       "      <td>PCRP</td>\n",
       "      <td>HPSF</td>\n",
       "      <td>HF 15</td>\n",
       "      <td>611</td>\n",
       "    </tr>\n",
       "    <tr>\n",
       "      <th>430567</th>\n",
       "      <td>2022-06-01 14:14:00.317000</td>\n",
       "      <td>2022-06-18 19:00:00</td>\n",
       "      <td>32969161</td>\n",
       "      <td>20</td>\n",
       "      <td>0.05</td>\n",
       "      <td>PCRP</td>\n",
       "      <td>HPSF</td>\n",
       "      <td>HF 15</td>\n",
       "      <td>611</td>\n",
       "    </tr>\n",
       "    <tr>\n",
       "      <th>75862</th>\n",
       "      <td>2022-06-01 14:14:00.317000</td>\n",
       "      <td>2022-06-18 19:00:00</td>\n",
       "      <td>32969153</td>\n",
       "      <td>20</td>\n",
       "      <td>0.05</td>\n",
       "      <td>PCRP</td>\n",
       "      <td>HPSF</td>\n",
       "      <td>HF 15</td>\n",
       "      <td>611</td>\n",
       "    </tr>\n",
       "    <tr>\n",
       "      <th>278336</th>\n",
       "      <td>2022-06-01 14:14:00.317000</td>\n",
       "      <td>2022-06-18 19:00:00</td>\n",
       "      <td>32969150</td>\n",
       "      <td>20</td>\n",
       "      <td>0.05</td>\n",
       "      <td>PCRP</td>\n",
       "      <td>HPSF</td>\n",
       "      <td>HF 15</td>\n",
       "      <td>611</td>\n",
       "    </tr>\n",
       "    <tr>\n",
       "      <th>...</th>\n",
       "      <td>...</td>\n",
       "      <td>...</td>\n",
       "      <td>...</td>\n",
       "      <td>...</td>\n",
       "      <td>...</td>\n",
       "      <td>...</td>\n",
       "      <td>...</td>\n",
       "      <td>...</td>\n",
       "      <td>...</td>\n",
       "    </tr>\n",
       "    <tr>\n",
       "      <th>101234</th>\n",
       "      <td>2022-08-11 16:04:56.167000</td>\n",
       "      <td>2022-08-12 23:59:59</td>\n",
       "      <td>33253860</td>\n",
       "      <td>20</td>\n",
       "      <td>0.01</td>\n",
       "      <td>SFONXP</td>\n",
       "      <td>FAST</td>\n",
       "      <td>CFS CGN 1</td>\n",
       "      <td>2</td>\n",
       "    </tr>\n",
       "    <tr>\n",
       "      <th>338873</th>\n",
       "      <td>2022-05-30 15:05:41</td>\n",
       "      <td>2022-05-31 23:59:59</td>\n",
       "      <td>32959936</td>\n",
       "      <td>20</td>\n",
       "      <td>0.01</td>\n",
       "      <td>SFONXP</td>\n",
       "      <td>FAST</td>\n",
       "      <td>CFS CGN 1</td>\n",
       "      <td>2</td>\n",
       "    </tr>\n",
       "    <tr>\n",
       "      <th>438779</th>\n",
       "      <td>2022-06-24 15:56:07</td>\n",
       "      <td>2022-06-26 23:59:59</td>\n",
       "      <td>33063959</td>\n",
       "      <td>19</td>\n",
       "      <td>0.01</td>\n",
       "      <td>SFONXP</td>\n",
       "      <td>FAST</td>\n",
       "      <td>CFS CGN 1</td>\n",
       "      <td>2</td>\n",
       "    </tr>\n",
       "    <tr>\n",
       "      <th>385636</th>\n",
       "      <td>2022-05-20 15:48:54.470000</td>\n",
       "      <td>2022-05-21 23:59:59</td>\n",
       "      <td>32927645</td>\n",
       "      <td>23</td>\n",
       "      <td>0.01</td>\n",
       "      <td>SEQPNXP</td>\n",
       "      <td>HPSF</td>\n",
       "      <td>CFS CGN 1</td>\n",
       "      <td>2</td>\n",
       "    </tr>\n",
       "    <tr>\n",
       "      <th>402024</th>\n",
       "      <td>2022-06-08 15:46:26.443000</td>\n",
       "      <td>2022-06-09 23:59:59</td>\n",
       "      <td>32998359</td>\n",
       "      <td>23</td>\n",
       "      <td>0.01</td>\n",
       "      <td>SEQPNXP</td>\n",
       "      <td>HPSF</td>\n",
       "      <td>CFS CGN 1</td>\n",
       "      <td>2</td>\n",
       "    </tr>\n",
       "  </tbody>\n",
       "</table>\n",
       "<p>425908 rows × 9 columns</p>\n",
       "</div>"
      ],
      "text/plain": [
       "       OrderFirstConfirmedDateTime         OrderDueDate       ido  \\\n",
       "206230         2022-05-12 13:06:11  2022-05-23 19:00:00  32891062   \n",
       "433993  2022-06-01 14:14:00.317000  2022-06-18 19:00:00  32969157   \n",
       "430567  2022-06-01 14:14:00.317000  2022-06-18 19:00:00  32969161   \n",
       "75862   2022-06-01 14:14:00.317000  2022-06-18 19:00:00  32969153   \n",
       "278336  2022-06-01 14:14:00.317000  2022-06-18 19:00:00  32969150   \n",
       "...                            ...                  ...       ...   \n",
       "101234  2022-08-11 16:04:56.167000  2022-08-12 23:59:59  33253860   \n",
       "338873         2022-05-30 15:05:41  2022-05-31 23:59:59  32959936   \n",
       "438779         2022-06-24 15:56:07  2022-06-26 23:59:59  33063959   \n",
       "385636  2022-05-20 15:48:54.470000  2022-05-21 23:59:59  32927645   \n",
       "402024  2022-06-08 15:46:26.443000  2022-06-09 23:59:59  32998359   \n",
       "\n",
       "        sequencelength ProdScale  PITname PurificationName   MachineName  \\\n",
       "206230               5      0.01     ALCM             HPLC  OligoMaker 5   \n",
       "433993              22      0.05     PCRP             HPSF         HF 15   \n",
       "430567              20      0.05     PCRP             HPSF         HF 15   \n",
       "75862               20      0.05     PCRP             HPSF         HF 15   \n",
       "278336              20      0.05     PCRP             HPSF         HF 15   \n",
       "...                ...       ...      ...              ...           ...   \n",
       "101234              20      0.01   SFONXP             FAST     CFS CGN 1   \n",
       "338873              20      0.01   SFONXP             FAST     CFS CGN 1   \n",
       "438779              19      0.01   SFONXP             FAST     CFS CGN 1   \n",
       "385636              23      0.01  SEQPNXP             HPSF     CFS CGN 1   \n",
       "402024              23      0.01  SEQPNXP             HPSF     CFS CGN 1   \n",
       "\n",
       "        shipment_time_days  \n",
       "206230                 902  \n",
       "433993                 611  \n",
       "430567                 611  \n",
       "75862                  611  \n",
       "278336                 611  \n",
       "...                    ...  \n",
       "101234                   2  \n",
       "338873                   2  \n",
       "438779                   2  \n",
       "385636                   2  \n",
       "402024                   2  \n",
       "\n",
       "[425908 rows x 9 columns]"
      ]
     },
     "execution_count": 27,
     "metadata": {},
     "output_type": "execute_result"
    }
   ],
   "source": [
    "df.sort_values(['shipment_time_days'], ascending=False)"
   ]
  },
  {
   "cell_type": "code",
   "execution_count": 28,
   "id": "83eaf650",
   "metadata": {},
   "outputs": [],
   "source": [
    "#drop the rows where shipment_time_hrs value is greater than 7 days (168 hours)\n",
    "#df.drop(df[df['shipment_time_days'] > 7].index,inplace = True)"
   ]
  },
  {
   "cell_type": "code",
   "execution_count": null,
   "id": "f67d01fa",
   "metadata": {},
   "outputs": [],
   "source": []
  },
  {
   "cell_type": "code",
   "execution_count": 29,
   "id": "e45acf88",
   "metadata": {},
   "outputs": [],
   "source": [
    "#drop the rows where shipment_time_hrs value is greater than 7 days (168 hours)\n",
    "df.drop(df[df['shipment_time_days'] > 84].index,inplace = True)"
   ]
  },
  {
   "cell_type": "code",
   "execution_count": 30,
   "id": "08881030",
   "metadata": {
    "scrolled": true
   },
   "outputs": [
    {
     "data": {
      "text/plain": [
       "<AxesSubplot:xlabel='shipment_time_days'>"
      ]
     },
     "execution_count": 30,
     "metadata": {},
     "output_type": "execute_result"
    },
    {
     "data": {
      "image/png": "[encoded data removed]",
      "text/plain": [
       "<Figure size 432x288 with 1 Axes>"
      ]
     },
     "metadata": {
      "needs_background": "light"
     },
     "output_type": "display_data"
    }
   ],
   "source": [
    "sns.boxplot(x=df['shipment_time_days'])"
   ]
  },
  {
   "cell_type": "code",
   "execution_count": 31,
   "id": "cb33035f",
   "metadata": {},
   "outputs": [
    {
     "data": {
      "text/html": [
       "<div>\n",
       "<style scoped>\n",
       "    .dataframe tbody tr th:only-of-type {\n",
       "        vertical-align: middle;\n",
       "    }\n",
       "\n",
       "    .dataframe tbody tr th {\n",
       "        vertical-align: top;\n",
       "    }\n",
       "\n",
       "    .dataframe thead th {\n",
       "        text-align: right;\n",
       "    }\n",
       "</style>\n",
       "<table border=\"1\" class=\"dataframe\">\n",
       "  <thead>\n",
       "    <tr style=\"text-align: right;\">\n",
       "      <th></th>\n",
       "      <th>OrderFirstConfirmedDateTime</th>\n",
       "      <th>OrderDueDate</th>\n",
       "      <th>ido</th>\n",
       "      <th>sequencelength</th>\n",
       "      <th>ProdScale</th>\n",
       "      <th>PITname</th>\n",
       "      <th>PurificationName</th>\n",
       "      <th>MachineName</th>\n",
       "      <th>shipment_time_days</th>\n",
       "    </tr>\n",
       "  </thead>\n",
       "  <tbody>\n",
       "    <tr>\n",
       "      <th>0</th>\n",
       "      <td>2022-06-01 14:09:29</td>\n",
       "      <td>2022-06-02 19:00:00</td>\n",
       "      <td>32969575</td>\n",
       "      <td>17</td>\n",
       "      <td>0.01</td>\n",
       "      <td>ALCU</td>\n",
       "      <td>FAST</td>\n",
       "      <td>CFS EBE 3</td>\n",
       "      <td>15</td>\n",
       "    </tr>\n",
       "    <tr>\n",
       "      <th>1</th>\n",
       "      <td>2022-06-01 14:42:59</td>\n",
       "      <td>2022-06-04 19:00:00</td>\n",
       "      <td>32970130</td>\n",
       "      <td>21</td>\n",
       "      <td>0.01</td>\n",
       "      <td>ALCU</td>\n",
       "      <td>FAST</td>\n",
       "      <td>CFS EBE 3</td>\n",
       "      <td>17</td>\n",
       "    </tr>\n",
       "    <tr>\n",
       "      <th>2</th>\n",
       "      <td>2022-06-02 14:21:54</td>\n",
       "      <td>2022-06-04 19:00:00</td>\n",
       "      <td>32978058</td>\n",
       "      <td>20</td>\n",
       "      <td>0.01</td>\n",
       "      <td>ALCU</td>\n",
       "      <td>HPSF</td>\n",
       "      <td>CFS EBE 3</td>\n",
       "      <td>7</td>\n",
       "    </tr>\n",
       "    <tr>\n",
       "      <th>3</th>\n",
       "      <td>2022-06-02 18:00:45</td>\n",
       "      <td>2022-06-04 19:00:00</td>\n",
       "      <td>32979249</td>\n",
       "      <td>20</td>\n",
       "      <td>0.01</td>\n",
       "      <td>ALCU</td>\n",
       "      <td>FAST</td>\n",
       "      <td>CFS EBE 3</td>\n",
       "      <td>7</td>\n",
       "    </tr>\n",
       "    <tr>\n",
       "      <th>4</th>\n",
       "      <td>2022-06-03 12:23:10</td>\n",
       "      <td>2022-06-05 23:59:59</td>\n",
       "      <td>32981704</td>\n",
       "      <td>30</td>\n",
       "      <td>0.01</td>\n",
       "      <td>SFONXP</td>\n",
       "      <td>FAST</td>\n",
       "      <td>CFS CGN 1</td>\n",
       "      <td>63</td>\n",
       "    </tr>\n",
       "    <tr>\n",
       "      <th>...</th>\n",
       "      <td>...</td>\n",
       "      <td>...</td>\n",
       "      <td>...</td>\n",
       "      <td>...</td>\n",
       "      <td>...</td>\n",
       "      <td>...</td>\n",
       "      <td>...</td>\n",
       "      <td>...</td>\n",
       "      <td>...</td>\n",
       "    </tr>\n",
       "    <tr>\n",
       "      <th>446932</th>\n",
       "      <td>2022-05-16 08:51:15.240000</td>\n",
       "      <td>2022-05-23 19:00:00</td>\n",
       "      <td>32898500</td>\n",
       "      <td>55</td>\n",
       "      <td>0.05</td>\n",
       "      <td>PLATE</td>\n",
       "      <td>FAST</td>\n",
       "      <td>HF 7</td>\n",
       "      <td>49</td>\n",
       "    </tr>\n",
       "    <tr>\n",
       "      <th>446933</th>\n",
       "      <td>2022-05-16 08:51:15.240000</td>\n",
       "      <td>2022-05-23 19:00:00</td>\n",
       "      <td>32898525</td>\n",
       "      <td>56</td>\n",
       "      <td>0.05</td>\n",
       "      <td>PLATE</td>\n",
       "      <td>FAST</td>\n",
       "      <td>HF 4</td>\n",
       "      <td>49</td>\n",
       "    </tr>\n",
       "    <tr>\n",
       "      <th>446934</th>\n",
       "      <td>2022-05-16 08:51:15.240000</td>\n",
       "      <td>2022-05-23 19:00:00</td>\n",
       "      <td>32898519</td>\n",
       "      <td>56</td>\n",
       "      <td>0.05</td>\n",
       "      <td>PLATE</td>\n",
       "      <td>FAST</td>\n",
       "      <td>HF 4</td>\n",
       "      <td>49</td>\n",
       "    </tr>\n",
       "    <tr>\n",
       "      <th>446935</th>\n",
       "      <td>2022-05-16 08:51:15.240000</td>\n",
       "      <td>2022-05-23 19:00:00</td>\n",
       "      <td>32898496</td>\n",
       "      <td>54</td>\n",
       "      <td>0.05</td>\n",
       "      <td>PLATE</td>\n",
       "      <td>FAST</td>\n",
       "      <td>HF 7</td>\n",
       "      <td>49</td>\n",
       "    </tr>\n",
       "    <tr>\n",
       "      <th>446937</th>\n",
       "      <td>2022-09-05 15:48:18</td>\n",
       "      <td>2022-09-07 19:00:00</td>\n",
       "      <td>33333057</td>\n",
       "      <td>25</td>\n",
       "      <td>0.01</td>\n",
       "      <td>ALCU</td>\n",
       "      <td>HPSF</td>\n",
       "      <td>CFS EBE 3</td>\n",
       "      <td>25</td>\n",
       "    </tr>\n",
       "  </tbody>\n",
       "</table>\n",
       "<p>396508 rows × 9 columns</p>\n",
       "</div>"
      ],
      "text/plain": [
       "       OrderFirstConfirmedDateTime         OrderDueDate       ido  \\\n",
       "0              2022-06-01 14:09:29  2022-06-02 19:00:00  32969575   \n",
       "1              2022-06-01 14:42:59  2022-06-04 19:00:00  32970130   \n",
       "2              2022-06-02 14:21:54  2022-06-04 19:00:00  32978058   \n",
       "3              2022-06-02 18:00:45  2022-06-04 19:00:00  32979249   \n",
       "4              2022-06-03 12:23:10  2022-06-05 23:59:59  32981704   \n",
       "...                            ...                  ...       ...   \n",
       "446932  2022-05-16 08:51:15.240000  2022-05-23 19:00:00  32898500   \n",
       "446933  2022-05-16 08:51:15.240000  2022-05-23 19:00:00  32898525   \n",
       "446934  2022-05-16 08:51:15.240000  2022-05-23 19:00:00  32898519   \n",
       "446935  2022-05-16 08:51:15.240000  2022-05-23 19:00:00  32898496   \n",
       "446937         2022-09-05 15:48:18  2022-09-07 19:00:00  33333057   \n",
       "\n",
       "        sequencelength ProdScale PITname PurificationName MachineName  \\\n",
       "0                   17      0.01    ALCU             FAST   CFS EBE 3   \n",
       "1                   21      0.01    ALCU             FAST   CFS EBE 3   \n",
       "2                   20      0.01    ALCU             HPSF   CFS EBE 3   \n",
       "3                   20      0.01    ALCU             FAST   CFS EBE 3   \n",
       "4                   30      0.01  SFONXP             FAST   CFS CGN 1   \n",
       "...                ...       ...     ...              ...         ...   \n",
       "446932              55      0.05   PLATE             FAST        HF 7   \n",
       "446933              56      0.05   PLATE             FAST        HF 4   \n",
       "446934              56      0.05   PLATE             FAST        HF 4   \n",
       "446935              54      0.05   PLATE             FAST        HF 7   \n",
       "446937              25      0.01    ALCU             HPSF   CFS EBE 3   \n",
       "\n",
       "        shipment_time_days  \n",
       "0                       15  \n",
       "1                       17  \n",
       "2                        7  \n",
       "3                        7  \n",
       "4                       63  \n",
       "...                    ...  \n",
       "446932                  49  \n",
       "446933                  49  \n",
       "446934                  49  \n",
       "446935                  49  \n",
       "446937                  25  \n",
       "\n",
       "[396508 rows x 9 columns]"
      ]
     },
     "execution_count": 31,
     "metadata": {},
     "output_type": "execute_result"
    }
   ],
   "source": [
    "df"
   ]
  },
  {
   "cell_type": "code",
   "execution_count": 32,
   "id": "8f4f9cf0",
   "metadata": {},
   "outputs": [
    {
     "data": {
      "text/plain": [
       "364611"
      ]
     },
     "execution_count": 32,
     "metadata": {},
     "output_type": "execute_result"
    }
   ],
   "source": [
    "df['shipment_time_days'][df['shipment_time_days']>7].count()"
   ]
  },
  {
   "cell_type": "code",
   "execution_count": 33,
   "id": "ade95b11",
   "metadata": {},
   "outputs": [
    {
     "data": {
      "text/plain": [
       "10593"
      ]
     },
     "execution_count": 33,
     "metadata": {},
     "output_type": "execute_result"
    }
   ],
   "source": [
    "df['shipment_time_days'][df['shipment_time_days']==7].count()"
   ]
  },
  {
   "cell_type": "code",
   "execution_count": 34,
   "id": "3f7281ff",
   "metadata": {},
   "outputs": [
    {
     "data": {
      "text/plain": [
       "<AxesSubplot:xlabel='shipment_time_days'>"
      ]
     },
     "execution_count": 34,
     "metadata": {},
     "output_type": "execute_result"
    },
    {
     "data": {
      "image/png": "[encoded data removed]",
      "text/plain": [
       "<Figure size 432x288 with 1 Axes>"
      ]
     },
     "metadata": {
      "needs_background": "light"
     },
     "output_type": "display_data"
    }
   ],
   "source": [
    "sns.boxplot(x=df['shipment_time_days'])"
   ]
  },
  {
   "cell_type": "code",
   "execution_count": 35,
   "id": "c45185c2",
   "metadata": {},
   "outputs": [],
   "source": [
    "#drop the rows where shipment_time_hrs value is greater than 7 days (168 hours)\n",
    "df.drop(df[df['shipment_time_days'] == 7].index,inplace = True)"
   ]
  },
  {
   "cell_type": "code",
   "execution_count": 36,
   "id": "5d8ec77a",
   "metadata": {},
   "outputs": [
    {
     "data": {
      "text/plain": [
       "<AxesSubplot:xlabel='shipment_time_days'>"
      ]
     },
     "execution_count": 36,
     "metadata": {},
     "output_type": "execute_result"
    },
    {
     "data": {
      "image/png": "[encoded data removed]",
      "text/plain": [
       "<Figure size 432x288 with 1 Axes>"
      ]
     },
     "metadata": {
      "needs_background": "light"
     },
     "output_type": "display_data"
    }
   ],
   "source": [
    "sns.boxplot(x=df['shipment_time_days'])"
   ]
  },
  {
   "cell_type": "code",
   "execution_count": 37,
   "id": "f161c4b7",
   "metadata": {},
   "outputs": [],
   "source": [
    "#instead doing one hot encoding lets try with single column apporach by renaming catagorial to numeric\n",
    "PITs=df.PITname.unique()\n",
    "keys = range(len(PITs))\n",
    "pit_dict=dict(zip(PITs,keys))\n",
    "\n",
    "purifications=df.PurificationName.unique()\n",
    "keys = range(len(purifications))\n",
    "purification_dict=dict(zip(purifications,keys))\n",
    "\n",
    "mcname=df.MachineName.unique()\n",
    "keys = range(len(mcname))\n",
    "mcname_dict=dict(zip(mcname,keys))\n"
   ]
  },
  {
   "cell_type": "code",
   "execution_count": 38,
   "id": "3838d2be",
   "metadata": {},
   "outputs": [
    {
     "name": "stdout",
     "output_type": "stream",
     "text": [
      "{'ALCU': 0, 'SFONXP': 1, 'CLON': 2, 'PCRP': 3, 'SEQPNXP': 4, 'PCRPNXP': 5, 'QPCR': 6, 'ALCM': 7, 'SEQP': 8, '4Splate': 9, 'SEQPPNXP': 10, 'PLATE': 11, 'NGS_OLIGO': 12, 'OLI_EGO': 13, 'GENESTRAND': 14, 'GENE_PLATE': 15, 'LNAProbe': 16, 'LNAPrimer': 17, 'EXTREMERS': 18, 'RNAC': 19, 'LCProbe': 20}\n",
      "{'FAST': 0, 'HPSF': 1, 'HPLC': 2, 'BASIC': 3}\n",
      "{'CFS EBE 3': 0, 'CFS CGN 1': 1, 'HF 10': 2, 'HF 15': 3, 'HF 4': 4, 'HF 9': 5, 'CFS CGN 2': 6, 'HF 6': 7, 'OligoMaker 6': 8, 'HF 5': 9, 'OligoMaker 3': 10, 'HF 8': 11, 'HF 11': 12, 'OligoMaker 1': 13, 'HF 13': 14, 'HF 12': 15, 'CFS EBE 2': 16, 'HF 7': 17, 'OligoMaker 4': 18, 'HF 14': 19, 'Skipped': 20, 'OligoMaker 5': 21, 'OligoMaker 2': 22}\n"
     ]
    }
   ],
   "source": [
    "print(pit_dict)\n",
    "print(purification_dict)\n",
    "print(mcname_dict)"
   ]
  },
  {
   "cell_type": "code",
   "execution_count": 39,
   "id": "569ecfad",
   "metadata": {},
   "outputs": [],
   "source": [
    "#replace categorial values to desired number\n",
    "df.PurificationName.replace(purification_dict,inplace=True)\n",
    "df.PITname.replace(pit_dict,inplace=True)\n",
    "df.MachineName.replace(mcname_dict,inplace=True)"
   ]
  },
  {
   "cell_type": "code",
   "execution_count": 40,
   "id": "62fa767e",
   "metadata": {
    "scrolled": true
   },
   "outputs": [
    {
     "data": {
      "text/html": [
       "<div>\n",
       "<style scoped>\n",
       "    .dataframe tbody tr th:only-of-type {\n",
       "        vertical-align: middle;\n",
       "    }\n",
       "\n",
       "    .dataframe tbody tr th {\n",
       "        vertical-align: top;\n",
       "    }\n",
       "\n",
       "    .dataframe thead th {\n",
       "        text-align: right;\n",
       "    }\n",
       "</style>\n",
       "<table border=\"1\" class=\"dataframe\">\n",
       "  <thead>\n",
       "    <tr style=\"text-align: right;\">\n",
       "      <th></th>\n",
       "      <th>OrderFirstConfirmedDateTime</th>\n",
       "      <th>OrderDueDate</th>\n",
       "      <th>ido</th>\n",
       "      <th>sequencelength</th>\n",
       "      <th>ProdScale</th>\n",
       "      <th>PITname</th>\n",
       "      <th>PurificationName</th>\n",
       "      <th>MachineName</th>\n",
       "      <th>shipment_time_days</th>\n",
       "    </tr>\n",
       "  </thead>\n",
       "  <tbody>\n",
       "    <tr>\n",
       "      <th>348275</th>\n",
       "      <td>2022-07-25 09:33:49</td>\n",
       "      <td>2022-08-08 19:00:00</td>\n",
       "      <td>33180436</td>\n",
       "      <td>19</td>\n",
       "      <td>10.0</td>\n",
       "      <td>0</td>\n",
       "      <td>1</td>\n",
       "      <td>2</td>\n",
       "      <td>84</td>\n",
       "    </tr>\n",
       "    <tr>\n",
       "      <th>53460</th>\n",
       "      <td>2022-07-25 09:33:49</td>\n",
       "      <td>2022-08-08 19:00:00</td>\n",
       "      <td>33180440</td>\n",
       "      <td>19</td>\n",
       "      <td>10.0</td>\n",
       "      <td>0</td>\n",
       "      <td>1</td>\n",
       "      <td>2</td>\n",
       "      <td>84</td>\n",
       "    </tr>\n",
       "    <tr>\n",
       "      <th>345395</th>\n",
       "      <td>2022-07-25 09:33:49</td>\n",
       "      <td>2022-08-08 19:00:00</td>\n",
       "      <td>33180437</td>\n",
       "      <td>19</td>\n",
       "      <td>10.0</td>\n",
       "      <td>0</td>\n",
       "      <td>1</td>\n",
       "      <td>2</td>\n",
       "      <td>84</td>\n",
       "    </tr>\n",
       "    <tr>\n",
       "      <th>245731</th>\n",
       "      <td>2022-07-25 09:33:49</td>\n",
       "      <td>2022-08-08 19:00:00</td>\n",
       "      <td>33180435</td>\n",
       "      <td>19</td>\n",
       "      <td>10.0</td>\n",
       "      <td>0</td>\n",
       "      <td>1</td>\n",
       "      <td>2</td>\n",
       "      <td>84</td>\n",
       "    </tr>\n",
       "    <tr>\n",
       "      <th>254371</th>\n",
       "      <td>2022-07-25 09:33:49</td>\n",
       "      <td>2022-08-08 19:00:00</td>\n",
       "      <td>33180439</td>\n",
       "      <td>19</td>\n",
       "      <td>10.0</td>\n",
       "      <td>0</td>\n",
       "      <td>1</td>\n",
       "      <td>2</td>\n",
       "      <td>84</td>\n",
       "    </tr>\n",
       "    <tr>\n",
       "      <th>...</th>\n",
       "      <td>...</td>\n",
       "      <td>...</td>\n",
       "      <td>...</td>\n",
       "      <td>...</td>\n",
       "      <td>...</td>\n",
       "      <td>...</td>\n",
       "      <td>...</td>\n",
       "      <td>...</td>\n",
       "      <td>...</td>\n",
       "    </tr>\n",
       "    <tr>\n",
       "      <th>21377</th>\n",
       "      <td>2022-07-22 11:12:12</td>\n",
       "      <td>2022-07-28 23:59:59</td>\n",
       "      <td>33175953</td>\n",
       "      <td>20</td>\n",
       "      <td>0.004</td>\n",
       "      <td>9</td>\n",
       "      <td>0</td>\n",
       "      <td>1</td>\n",
       "      <td>65</td>\n",
       "    </tr>\n",
       "    <tr>\n",
       "      <th>21378</th>\n",
       "      <td>2022-07-22 11:12:12</td>\n",
       "      <td>2022-07-28 23:59:59</td>\n",
       "      <td>33175974</td>\n",
       "      <td>20</td>\n",
       "      <td>0.004</td>\n",
       "      <td>9</td>\n",
       "      <td>0</td>\n",
       "      <td>1</td>\n",
       "      <td>65</td>\n",
       "    </tr>\n",
       "    <tr>\n",
       "      <th>315251</th>\n",
       "      <td>2022-07-22 11:12:12</td>\n",
       "      <td>2022-07-28 23:59:59</td>\n",
       "      <td>33175978</td>\n",
       "      <td>20</td>\n",
       "      <td>0.004</td>\n",
       "      <td>9</td>\n",
       "      <td>0</td>\n",
       "      <td>1</td>\n",
       "      <td>65</td>\n",
       "    </tr>\n",
       "    <tr>\n",
       "      <th>265899</th>\n",
       "      <td>2022-08-29 18:05:00.923000</td>\n",
       "      <td>2022-09-05 23:59:59</td>\n",
       "      <td>33310236</td>\n",
       "      <td>28</td>\n",
       "      <td>0.004</td>\n",
       "      <td>9</td>\n",
       "      <td>0</td>\n",
       "      <td>1</td>\n",
       "      <td>25</td>\n",
       "    </tr>\n",
       "    <tr>\n",
       "      <th>266304</th>\n",
       "      <td>2022-08-29 12:05:55</td>\n",
       "      <td>2022-09-03 23:59:59</td>\n",
       "      <td>33308514</td>\n",
       "      <td>45</td>\n",
       "      <td>0.004</td>\n",
       "      <td>9</td>\n",
       "      <td>0</td>\n",
       "      <td>1</td>\n",
       "      <td>39</td>\n",
       "    </tr>\n",
       "  </tbody>\n",
       "</table>\n",
       "<p>385915 rows × 9 columns</p>\n",
       "</div>"
      ],
      "text/plain": [
       "       OrderFirstConfirmedDateTime         OrderDueDate       ido  \\\n",
       "348275         2022-07-25 09:33:49  2022-08-08 19:00:00  33180436   \n",
       "53460          2022-07-25 09:33:49  2022-08-08 19:00:00  33180440   \n",
       "345395         2022-07-25 09:33:49  2022-08-08 19:00:00  33180437   \n",
       "245731         2022-07-25 09:33:49  2022-08-08 19:00:00  33180435   \n",
       "254371         2022-07-25 09:33:49  2022-08-08 19:00:00  33180439   \n",
       "...                            ...                  ...       ...   \n",
       "21377          2022-07-22 11:12:12  2022-07-28 23:59:59  33175953   \n",
       "21378          2022-07-22 11:12:12  2022-07-28 23:59:59  33175974   \n",
       "315251         2022-07-22 11:12:12  2022-07-28 23:59:59  33175978   \n",
       "265899  2022-08-29 18:05:00.923000  2022-09-05 23:59:59  33310236   \n",
       "266304         2022-08-29 12:05:55  2022-09-03 23:59:59  33308514   \n",
       "\n",
       "        sequencelength ProdScale  PITname  PurificationName  MachineName  \\\n",
       "348275              19      10.0        0                 1            2   \n",
       "53460               19      10.0        0                 1            2   \n",
       "345395              19      10.0        0                 1            2   \n",
       "245731              19      10.0        0                 1            2   \n",
       "254371              19      10.0        0                 1            2   \n",
       "...                ...       ...      ...               ...          ...   \n",
       "21377               20     0.004        9                 0            1   \n",
       "21378               20     0.004        9                 0            1   \n",
       "315251              20     0.004        9                 0            1   \n",
       "265899              28     0.004        9                 0            1   \n",
       "266304              45     0.004        9                 0            1   \n",
       "\n",
       "        shipment_time_days  \n",
       "348275                  84  \n",
       "53460                   84  \n",
       "345395                  84  \n",
       "245731                  84  \n",
       "254371                  84  \n",
       "...                    ...  \n",
       "21377                   65  \n",
       "21378                   65  \n",
       "315251                  65  \n",
       "265899                  25  \n",
       "266304                  39  \n",
       "\n",
       "[385915 rows x 9 columns]"
      ]
     },
     "execution_count": 40,
     "metadata": {},
     "output_type": "execute_result"
    }
   ],
   "source": [
    "df.sort_values(['ProdScale'],ascending=False)"
   ]
  },
  {
   "cell_type": "code",
   "execution_count": 41,
   "id": "f3e9be0c",
   "metadata": {},
   "outputs": [
    {
     "name": "stdout",
     "output_type": "stream",
     "text": [
      "0.01\n",
      "0.05\n",
      "0.2\n",
      "1.0\n",
      "0.004\n",
      "10.0\n"
     ]
    }
   ],
   "source": [
    "len(df['ProdScale'].unique())\n",
    "for a in df['ProdScale'].unique():\n",
    "    print(a)"
   ]
  },
  {
   "cell_type": "code",
   "execution_count": 42,
   "id": "8d5def4f",
   "metadata": {},
   "outputs": [],
   "source": [
    "df['ProdScale']=df['ProdScale'].astype(float)"
   ]
  },
  {
   "cell_type": "code",
   "execution_count": 43,
   "id": "7220bfee",
   "metadata": {},
   "outputs": [],
   "source": [
    "#sns having issues to handle float hence converting to int\n",
    "df['ProdScale']=df['ProdScale'].apply(lambda x:x*1000)"
   ]
  },
  {
   "cell_type": "code",
   "execution_count": 44,
   "id": "2fa45629",
   "metadata": {},
   "outputs": [
    {
     "data": {
      "text/html": [
       "<div>\n",
       "<style scoped>\n",
       "    .dataframe tbody tr th:only-of-type {\n",
       "        vertical-align: middle;\n",
       "    }\n",
       "\n",
       "    .dataframe tbody tr th {\n",
       "        vertical-align: top;\n",
       "    }\n",
       "\n",
       "    .dataframe thead th {\n",
       "        text-align: right;\n",
       "    }\n",
       "</style>\n",
       "<table border=\"1\" class=\"dataframe\">\n",
       "  <thead>\n",
       "    <tr style=\"text-align: right;\">\n",
       "      <th></th>\n",
       "      <th>OrderFirstConfirmedDateTime</th>\n",
       "      <th>OrderDueDate</th>\n",
       "      <th>ido</th>\n",
       "      <th>sequencelength</th>\n",
       "      <th>ProdScale</th>\n",
       "      <th>PITname</th>\n",
       "      <th>PurificationName</th>\n",
       "      <th>MachineName</th>\n",
       "      <th>shipment_time_days</th>\n",
       "    </tr>\n",
       "  </thead>\n",
       "  <tbody>\n",
       "    <tr>\n",
       "      <th>348275</th>\n",
       "      <td>2022-07-25 09:33:49</td>\n",
       "      <td>2022-08-08 19:00:00</td>\n",
       "      <td>33180436</td>\n",
       "      <td>19</td>\n",
       "      <td>10000</td>\n",
       "      <td>0</td>\n",
       "      <td>1</td>\n",
       "      <td>2</td>\n",
       "      <td>84</td>\n",
       "    </tr>\n",
       "    <tr>\n",
       "      <th>53460</th>\n",
       "      <td>2022-07-25 09:33:49</td>\n",
       "      <td>2022-08-08 19:00:00</td>\n",
       "      <td>33180440</td>\n",
       "      <td>19</td>\n",
       "      <td>10000</td>\n",
       "      <td>0</td>\n",
       "      <td>1</td>\n",
       "      <td>2</td>\n",
       "      <td>84</td>\n",
       "    </tr>\n",
       "    <tr>\n",
       "      <th>345395</th>\n",
       "      <td>2022-07-25 09:33:49</td>\n",
       "      <td>2022-08-08 19:00:00</td>\n",
       "      <td>33180437</td>\n",
       "      <td>19</td>\n",
       "      <td>10000</td>\n",
       "      <td>0</td>\n",
       "      <td>1</td>\n",
       "      <td>2</td>\n",
       "      <td>84</td>\n",
       "    </tr>\n",
       "    <tr>\n",
       "      <th>245731</th>\n",
       "      <td>2022-07-25 09:33:49</td>\n",
       "      <td>2022-08-08 19:00:00</td>\n",
       "      <td>33180435</td>\n",
       "      <td>19</td>\n",
       "      <td>10000</td>\n",
       "      <td>0</td>\n",
       "      <td>1</td>\n",
       "      <td>2</td>\n",
       "      <td>84</td>\n",
       "    </tr>\n",
       "    <tr>\n",
       "      <th>254371</th>\n",
       "      <td>2022-07-25 09:33:49</td>\n",
       "      <td>2022-08-08 19:00:00</td>\n",
       "      <td>33180439</td>\n",
       "      <td>19</td>\n",
       "      <td>10000</td>\n",
       "      <td>0</td>\n",
       "      <td>1</td>\n",
       "      <td>2</td>\n",
       "      <td>84</td>\n",
       "    </tr>\n",
       "    <tr>\n",
       "      <th>...</th>\n",
       "      <td>...</td>\n",
       "      <td>...</td>\n",
       "      <td>...</td>\n",
       "      <td>...</td>\n",
       "      <td>...</td>\n",
       "      <td>...</td>\n",
       "      <td>...</td>\n",
       "      <td>...</td>\n",
       "      <td>...</td>\n",
       "    </tr>\n",
       "    <tr>\n",
       "      <th>21377</th>\n",
       "      <td>2022-07-22 11:12:12</td>\n",
       "      <td>2022-07-28 23:59:59</td>\n",
       "      <td>33175953</td>\n",
       "      <td>20</td>\n",
       "      <td>4</td>\n",
       "      <td>9</td>\n",
       "      <td>0</td>\n",
       "      <td>1</td>\n",
       "      <td>65</td>\n",
       "    </tr>\n",
       "    <tr>\n",
       "      <th>21378</th>\n",
       "      <td>2022-07-22 11:12:12</td>\n",
       "      <td>2022-07-28 23:59:59</td>\n",
       "      <td>33175974</td>\n",
       "      <td>20</td>\n",
       "      <td>4</td>\n",
       "      <td>9</td>\n",
       "      <td>0</td>\n",
       "      <td>1</td>\n",
       "      <td>65</td>\n",
       "    </tr>\n",
       "    <tr>\n",
       "      <th>315251</th>\n",
       "      <td>2022-07-22 11:12:12</td>\n",
       "      <td>2022-07-28 23:59:59</td>\n",
       "      <td>33175978</td>\n",
       "      <td>20</td>\n",
       "      <td>4</td>\n",
       "      <td>9</td>\n",
       "      <td>0</td>\n",
       "      <td>1</td>\n",
       "      <td>65</td>\n",
       "    </tr>\n",
       "    <tr>\n",
       "      <th>265899</th>\n",
       "      <td>2022-08-29 18:05:00.923000</td>\n",
       "      <td>2022-09-05 23:59:59</td>\n",
       "      <td>33310236</td>\n",
       "      <td>28</td>\n",
       "      <td>4</td>\n",
       "      <td>9</td>\n",
       "      <td>0</td>\n",
       "      <td>1</td>\n",
       "      <td>25</td>\n",
       "    </tr>\n",
       "    <tr>\n",
       "      <th>266304</th>\n",
       "      <td>2022-08-29 12:05:55</td>\n",
       "      <td>2022-09-03 23:59:59</td>\n",
       "      <td>33308514</td>\n",
       "      <td>45</td>\n",
       "      <td>4</td>\n",
       "      <td>9</td>\n",
       "      <td>0</td>\n",
       "      <td>1</td>\n",
       "      <td>39</td>\n",
       "    </tr>\n",
       "  </tbody>\n",
       "</table>\n",
       "<p>385915 rows × 9 columns</p>\n",
       "</div>"
      ],
      "text/plain": [
       "       OrderFirstConfirmedDateTime         OrderDueDate       ido  \\\n",
       "348275         2022-07-25 09:33:49  2022-08-08 19:00:00  33180436   \n",
       "53460          2022-07-25 09:33:49  2022-08-08 19:00:00  33180440   \n",
       "345395         2022-07-25 09:33:49  2022-08-08 19:00:00  33180437   \n",
       "245731         2022-07-25 09:33:49  2022-08-08 19:00:00  33180435   \n",
       "254371         2022-07-25 09:33:49  2022-08-08 19:00:00  33180439   \n",
       "...                            ...                  ...       ...   \n",
       "21377          2022-07-22 11:12:12  2022-07-28 23:59:59  33175953   \n",
       "21378          2022-07-22 11:12:12  2022-07-28 23:59:59  33175974   \n",
       "315251         2022-07-22 11:12:12  2022-07-28 23:59:59  33175978   \n",
       "265899  2022-08-29 18:05:00.923000  2022-09-05 23:59:59  33310236   \n",
       "266304         2022-08-29 12:05:55  2022-09-03 23:59:59  33308514   \n",
       "\n",
       "        sequencelength  ProdScale  PITname  PurificationName  MachineName  \\\n",
       "348275              19      10000        0                 1            2   \n",
       "53460               19      10000        0                 1            2   \n",
       "345395              19      10000        0                 1            2   \n",
       "245731              19      10000        0                 1            2   \n",
       "254371              19      10000        0                 1            2   \n",
       "...                ...        ...      ...               ...          ...   \n",
       "21377               20          4        9                 0            1   \n",
       "21378               20          4        9                 0            1   \n",
       "315251              20          4        9                 0            1   \n",
       "265899              28          4        9                 0            1   \n",
       "266304              45          4        9                 0            1   \n",
       "\n",
       "        shipment_time_days  \n",
       "348275                  84  \n",
       "53460                   84  \n",
       "345395                  84  \n",
       "245731                  84  \n",
       "254371                  84  \n",
       "...                    ...  \n",
       "21377                   65  \n",
       "21378                   65  \n",
       "315251                  65  \n",
       "265899                  25  \n",
       "266304                  39  \n",
       "\n",
       "[385915 rows x 9 columns]"
      ]
     },
     "execution_count": 44,
     "metadata": {},
     "output_type": "execute_result"
    }
   ],
   "source": [
    "df['ProdScale']=df['ProdScale'].astype('int')\n",
    "df.sort_values(['ProdScale'],ascending=False)"
   ]
  },
  {
   "cell_type": "code",
   "execution_count": 45,
   "id": "2dac1fd1",
   "metadata": {
    "scrolled": true
   },
   "outputs": [
    {
     "data": {
      "text/plain": [
       "<AxesSubplot:xlabel='ProdScale'>"
      ]
     },
     "execution_count": 45,
     "metadata": {},
     "output_type": "execute_result"
    },
    {
     "data": {
      "image/png": "[encoded data removed]",
      "text/plain": [
       "<Figure size 432x288 with 1 Axes>"
      ]
     },
     "metadata": {
      "needs_background": "light"
     },
     "output_type": "display_data"
    }
   ],
   "source": [
    "sns.boxplot(x=df['ProdScale'])"
   ]
  },
  {
   "cell_type": "code",
   "execution_count": 46,
   "id": "c37a03fc",
   "metadata": {
    "scrolled": true
   },
   "outputs": [
    {
     "name": "stdout",
     "output_type": "stream",
     "text": [
      "10 ==> 302480\n",
      "50 ==> 75599\n",
      "200 ==> 6385\n",
      "1000 ==> 891\n",
      "4 ==> 553\n",
      "10000 ==> 7\n"
     ]
    }
   ],
   "source": [
    "for a in df['ProdScale'].unique():\n",
    "    print(a,'==>',df['ProdScale'][df['ProdScale']==a].count())"
   ]
  },
  {
   "cell_type": "code",
   "execution_count": 47,
   "id": "1b10e6b1",
   "metadata": {},
   "outputs": [],
   "source": [
    "'''\n",
    "\n",
    "df.drop(df['ProdScale'][df['ProdScale']==1000].index, inplace = True)\n",
    "df.drop(df['ProdScale'][df['ProdScale']==10000].index, inplace = True)\n",
    "df.drop(df['ProdScale'][df['ProdScale']==4].index, inplace = True)\n",
    "'''\n",
    "df.drop(df['ProdScale'][df['ProdScale']==4].index, inplace = True)\n",
    "df.drop(df['ProdScale'][df['ProdScale']==10000].index, inplace = True)"
   ]
  },
  {
   "cell_type": "code",
   "execution_count": 48,
   "id": "4e4f212c",
   "metadata": {
    "scrolled": true
   },
   "outputs": [
    {
     "name": "stdout",
     "output_type": "stream",
     "text": [
      "10 ==> 302480\n",
      "50 ==> 75599\n",
      "200 ==> 6385\n",
      "1000 ==> 891\n"
     ]
    }
   ],
   "source": [
    "for a in df['ProdScale'].unique():\n",
    "    print(a,'==>',df['ProdScale'][df['ProdScale']==a].count())"
   ]
  },
  {
   "cell_type": "code",
   "execution_count": 49,
   "id": "908b3c04",
   "metadata": {},
   "outputs": [],
   "source": [
    "#df.drop(df['ProdScale'][df['ProdScale']==200].index, inplace = True)"
   ]
  },
  {
   "cell_type": "code",
   "execution_count": 50,
   "id": "e3623774",
   "metadata": {},
   "outputs": [],
   "source": [
    "#df.drop(df['ProdScale'][df['ProdScale']==50].index, inplace = True)"
   ]
  },
  {
   "cell_type": "code",
   "execution_count": 51,
   "id": "ced29f8d",
   "metadata": {},
   "outputs": [
    {
     "data": {
      "text/plain": [
       "<AxesSubplot:xlabel='ProdScale'>"
      ]
     },
     "execution_count": 51,
     "metadata": {},
     "output_type": "execute_result"
    },
    {
     "data": {
      "image/png": "[encoded data removed]",
      "text/plain": [
       "<Figure size 432x288 with 1 Axes>"
      ]
     },
     "metadata": {
      "needs_background": "light"
     },
     "output_type": "display_data"
    }
   ],
   "source": [
    "sns.boxplot(x=df['ProdScale'])"
   ]
  },
  {
   "cell_type": "code",
   "execution_count": 52,
   "id": "8879c8f4",
   "metadata": {},
   "outputs": [
    {
     "name": "stdout",
     "output_type": "stream",
     "text": [
      "10 ==> 302480\n",
      "50 ==> 75599\n",
      "200 ==> 6385\n",
      "1000 ==> 891\n"
     ]
    }
   ],
   "source": [
    "for a in df['ProdScale'].unique():\n",
    "    print(a,'==>',df['ProdScale'][df['ProdScale']==a].count())"
   ]
  },
  {
   "cell_type": "code",
   "execution_count": 53,
   "id": "75b7810c",
   "metadata": {},
   "outputs": [
    {
     "data": {
      "text/plain": [
       "10         200\n",
       "15         200\n",
       "30         200\n",
       "34        1000\n",
       "48         200\n",
       "          ... \n",
       "446439     200\n",
       "446447     200\n",
       "446618    1000\n",
       "446654     200\n",
       "446660     200\n",
       "Name: ProdScale, Length: 7276, dtype: int32"
      ]
     },
     "execution_count": 53,
     "metadata": {},
     "output_type": "execute_result"
    }
   ],
   "source": [
    "import numpy as np\n",
    "from scipy import stats\n",
    "df['min_zscore']=np.abs(stats.zscore(df['ProdScale'])) < 3\n",
    "#len(pd.unique(df['min_zscore']))\n",
    "df['ProdScale'][df['min_zscore']==False]\n",
    "#df.drop(df['tot_mins_diff'][df['min_zscore']==False].index, inplace = True)"
   ]
  },
  {
   "cell_type": "code",
   "execution_count": 54,
   "id": "36759399",
   "metadata": {},
   "outputs": [],
   "source": [
    "#df['ProdScale'][df['min_zscore']==False].unique()"
   ]
  },
  {
   "cell_type": "code",
   "execution_count": 55,
   "id": "8b81631a",
   "metadata": {},
   "outputs": [
    {
     "data": {
      "text/plain": [
       "7276"
      ]
     },
     "execution_count": 55,
     "metadata": {},
     "output_type": "execute_result"
    }
   ],
   "source": [
    "df['ProdScale'][df['min_zscore']==False].count()"
   ]
  },
  {
   "cell_type": "code",
   "execution_count": 56,
   "id": "f7a72684",
   "metadata": {},
   "outputs": [],
   "source": [
    "df.drop(df['ProdScale'][df['min_zscore']==False].index, inplace = True)"
   ]
  },
  {
   "cell_type": "code",
   "execution_count": 57,
   "id": "4222697f",
   "metadata": {},
   "outputs": [
    {
     "data": {
      "text/plain": [
       "<AxesSubplot:xlabel='ProdScale'>"
      ]
     },
     "execution_count": 57,
     "metadata": {},
     "output_type": "execute_result"
    },
    {
     "data": {
      "image/png": "[encoded data removed]",
      "text/plain": [
       "<Figure size 432x288 with 1 Axes>"
      ]
     },
     "metadata": {
      "needs_background": "light"
     },
     "output_type": "display_data"
    }
   ],
   "source": [
    "sns.boxplot('ProdScale',data=df)"
   ]
  },
  {
   "cell_type": "code",
   "execution_count": 58,
   "id": "30fbdadb",
   "metadata": {},
   "outputs": [
    {
     "data": {
      "text/plain": [
       "Series([], Name: ProdScale, dtype: int32)"
      ]
     },
     "execution_count": 58,
     "metadata": {},
     "output_type": "execute_result"
    }
   ],
   "source": [
    "df['min_zscore']=np.abs(stats.zscore(df['ProdScale'])) < 3\n",
    "#len(pd.unique(df['min_zscore']))\n",
    "df['ProdScale'][df['min_zscore']==False]\n",
    "#df.drop(df['tot_mins_diff'][df['min_zscore']==False].index, inplace = True)"
   ]
  },
  {
   "cell_type": "code",
   "execution_count": 59,
   "id": "2f467c71",
   "metadata": {},
   "outputs": [
    {
     "data": {
      "text/plain": [
       "array([], dtype=int32)"
      ]
     },
     "execution_count": 59,
     "metadata": {},
     "output_type": "execute_result"
    }
   ],
   "source": [
    "df['ProdScale'][df['min_zscore']==False].unique()"
   ]
  },
  {
   "cell_type": "code",
   "execution_count": 60,
   "id": "f28ea7ca",
   "metadata": {},
   "outputs": [
    {
     "data": {
      "text/plain": [
       "0"
      ]
     },
     "execution_count": 60,
     "metadata": {},
     "output_type": "execute_result"
    }
   ],
   "source": [
    "df['ProdScale'][df['min_zscore']==False].count()"
   ]
  },
  {
   "cell_type": "code",
   "execution_count": 61,
   "id": "93d5a8e8",
   "metadata": {},
   "outputs": [],
   "source": [
    "df.drop(df['ProdScale'][df['min_zscore']==False].index, inplace = True)"
   ]
  },
  {
   "cell_type": "code",
   "execution_count": 62,
   "id": "6b21ba02",
   "metadata": {},
   "outputs": [
    {
     "data": {
      "text/plain": [
       "<AxesSubplot:xlabel='ProdScale'>"
      ]
     },
     "execution_count": 62,
     "metadata": {},
     "output_type": "execute_result"
    },
    {
     "data": {
      "image/png": "[encoded data removed]",
      "text/plain": [
       "<Figure size 432x288 with 1 Axes>"
      ]
     },
     "metadata": {
      "needs_background": "light"
     },
     "output_type": "display_data"
    }
   ],
   "source": [
    "sns.boxplot(x=df.ProdScale)"
   ]
  },
  {
   "cell_type": "code",
   "execution_count": 63,
   "id": "199a7396",
   "metadata": {},
   "outputs": [
    {
     "data": {
      "text/html": [
       "<div>\n",
       "<style scoped>\n",
       "    .dataframe tbody tr th:only-of-type {\n",
       "        vertical-align: middle;\n",
       "    }\n",
       "\n",
       "    .dataframe tbody tr th {\n",
       "        vertical-align: top;\n",
       "    }\n",
       "\n",
       "    .dataframe thead th {\n",
       "        text-align: right;\n",
       "    }\n",
       "</style>\n",
       "<table border=\"1\" class=\"dataframe\">\n",
       "  <thead>\n",
       "    <tr style=\"text-align: right;\">\n",
       "      <th></th>\n",
       "      <th>OrderFirstConfirmedDateTime</th>\n",
       "      <th>OrderDueDate</th>\n",
       "      <th>ido</th>\n",
       "      <th>sequencelength</th>\n",
       "      <th>ProdScale</th>\n",
       "      <th>PITname</th>\n",
       "      <th>PurificationName</th>\n",
       "      <th>MachineName</th>\n",
       "      <th>shipment_time_days</th>\n",
       "      <th>min_zscore</th>\n",
       "    </tr>\n",
       "  </thead>\n",
       "  <tbody>\n",
       "    <tr>\n",
       "      <th>0</th>\n",
       "      <td>2022-06-01 14:09:29</td>\n",
       "      <td>2022-06-02 19:00:00</td>\n",
       "      <td>32969575</td>\n",
       "      <td>17</td>\n",
       "      <td>10</td>\n",
       "      <td>0</td>\n",
       "      <td>0</td>\n",
       "      <td>0</td>\n",
       "      <td>15</td>\n",
       "      <td>True</td>\n",
       "    </tr>\n",
       "    <tr>\n",
       "      <th>1</th>\n",
       "      <td>2022-06-01 14:42:59</td>\n",
       "      <td>2022-06-04 19:00:00</td>\n",
       "      <td>32970130</td>\n",
       "      <td>21</td>\n",
       "      <td>10</td>\n",
       "      <td>0</td>\n",
       "      <td>0</td>\n",
       "      <td>0</td>\n",
       "      <td>17</td>\n",
       "      <td>True</td>\n",
       "    </tr>\n",
       "    <tr>\n",
       "      <th>4</th>\n",
       "      <td>2022-06-03 12:23:10</td>\n",
       "      <td>2022-06-05 23:59:59</td>\n",
       "      <td>32981704</td>\n",
       "      <td>30</td>\n",
       "      <td>10</td>\n",
       "      <td>1</td>\n",
       "      <td>0</td>\n",
       "      <td>1</td>\n",
       "      <td>63</td>\n",
       "      <td>True</td>\n",
       "    </tr>\n",
       "    <tr>\n",
       "      <th>5</th>\n",
       "      <td>2022-06-03 16:02:36.043000</td>\n",
       "      <td>2022-06-05 23:59:59</td>\n",
       "      <td>32983756</td>\n",
       "      <td>25</td>\n",
       "      <td>10</td>\n",
       "      <td>1</td>\n",
       "      <td>0</td>\n",
       "      <td>1</td>\n",
       "      <td>2</td>\n",
       "      <td>True</td>\n",
       "    </tr>\n",
       "    <tr>\n",
       "      <th>6</th>\n",
       "      <td>2022-06-02 11:10:54</td>\n",
       "      <td>2022-06-07 19:00:00</td>\n",
       "      <td>32976003</td>\n",
       "      <td>20</td>\n",
       "      <td>10</td>\n",
       "      <td>0</td>\n",
       "      <td>0</td>\n",
       "      <td>0</td>\n",
       "      <td>10</td>\n",
       "      <td>True</td>\n",
       "    </tr>\n",
       "    <tr>\n",
       "      <th>...</th>\n",
       "      <td>...</td>\n",
       "      <td>...</td>\n",
       "      <td>...</td>\n",
       "      <td>...</td>\n",
       "      <td>...</td>\n",
       "      <td>...</td>\n",
       "      <td>...</td>\n",
       "      <td>...</td>\n",
       "      <td>...</td>\n",
       "      <td>...</td>\n",
       "    </tr>\n",
       "    <tr>\n",
       "      <th>446932</th>\n",
       "      <td>2022-05-16 08:51:15.240000</td>\n",
       "      <td>2022-05-23 19:00:00</td>\n",
       "      <td>32898500</td>\n",
       "      <td>55</td>\n",
       "      <td>50</td>\n",
       "      <td>11</td>\n",
       "      <td>0</td>\n",
       "      <td>17</td>\n",
       "      <td>49</td>\n",
       "      <td>True</td>\n",
       "    </tr>\n",
       "    <tr>\n",
       "      <th>446933</th>\n",
       "      <td>2022-05-16 08:51:15.240000</td>\n",
       "      <td>2022-05-23 19:00:00</td>\n",
       "      <td>32898525</td>\n",
       "      <td>56</td>\n",
       "      <td>50</td>\n",
       "      <td>11</td>\n",
       "      <td>0</td>\n",
       "      <td>4</td>\n",
       "      <td>49</td>\n",
       "      <td>True</td>\n",
       "    </tr>\n",
       "    <tr>\n",
       "      <th>446934</th>\n",
       "      <td>2022-05-16 08:51:15.240000</td>\n",
       "      <td>2022-05-23 19:00:00</td>\n",
       "      <td>32898519</td>\n",
       "      <td>56</td>\n",
       "      <td>50</td>\n",
       "      <td>11</td>\n",
       "      <td>0</td>\n",
       "      <td>4</td>\n",
       "      <td>49</td>\n",
       "      <td>True</td>\n",
       "    </tr>\n",
       "    <tr>\n",
       "      <th>446935</th>\n",
       "      <td>2022-05-16 08:51:15.240000</td>\n",
       "      <td>2022-05-23 19:00:00</td>\n",
       "      <td>32898496</td>\n",
       "      <td>54</td>\n",
       "      <td>50</td>\n",
       "      <td>11</td>\n",
       "      <td>0</td>\n",
       "      <td>17</td>\n",
       "      <td>49</td>\n",
       "      <td>True</td>\n",
       "    </tr>\n",
       "    <tr>\n",
       "      <th>446937</th>\n",
       "      <td>2022-09-05 15:48:18</td>\n",
       "      <td>2022-09-07 19:00:00</td>\n",
       "      <td>33333057</td>\n",
       "      <td>25</td>\n",
       "      <td>10</td>\n",
       "      <td>0</td>\n",
       "      <td>1</td>\n",
       "      <td>0</td>\n",
       "      <td>25</td>\n",
       "      <td>True</td>\n",
       "    </tr>\n",
       "  </tbody>\n",
       "</table>\n",
       "<p>378079 rows × 10 columns</p>\n",
       "</div>"
      ],
      "text/plain": [
       "       OrderFirstConfirmedDateTime         OrderDueDate       ido  \\\n",
       "0              2022-06-01 14:09:29  2022-06-02 19:00:00  32969575   \n",
       "1              2022-06-01 14:42:59  2022-06-04 19:00:00  32970130   \n",
       "4              2022-06-03 12:23:10  2022-06-05 23:59:59  32981704   \n",
       "5       2022-06-03 16:02:36.043000  2022-06-05 23:59:59  32983756   \n",
       "6              2022-06-02 11:10:54  2022-06-07 19:00:00  32976003   \n",
       "...                            ...                  ...       ...   \n",
       "446932  2022-05-16 08:51:15.240000  2022-05-23 19:00:00  32898500   \n",
       "446933  2022-05-16 08:51:15.240000  2022-05-23 19:00:00  32898525   \n",
       "446934  2022-05-16 08:51:15.240000  2022-05-23 19:00:00  32898519   \n",
       "446935  2022-05-16 08:51:15.240000  2022-05-23 19:00:00  32898496   \n",
       "446937         2022-09-05 15:48:18  2022-09-07 19:00:00  33333057   \n",
       "\n",
       "        sequencelength  ProdScale  PITname  PurificationName  MachineName  \\\n",
       "0                   17         10        0                 0            0   \n",
       "1                   21         10        0                 0            0   \n",
       "4                   30         10        1                 0            1   \n",
       "5                   25         10        1                 0            1   \n",
       "6                   20         10        0                 0            0   \n",
       "...                ...        ...      ...               ...          ...   \n",
       "446932              55         50       11                 0           17   \n",
       "446933              56         50       11                 0            4   \n",
       "446934              56         50       11                 0            4   \n",
       "446935              54         50       11                 0           17   \n",
       "446937              25         10        0                 1            0   \n",
       "\n",
       "        shipment_time_days  min_zscore  \n",
       "0                       15        True  \n",
       "1                       17        True  \n",
       "4                       63        True  \n",
       "5                        2        True  \n",
       "6                       10        True  \n",
       "...                    ...         ...  \n",
       "446932                  49        True  \n",
       "446933                  49        True  \n",
       "446934                  49        True  \n",
       "446935                  49        True  \n",
       "446937                  25        True  \n",
       "\n",
       "[378079 rows x 10 columns]"
      ]
     },
     "execution_count": 63,
     "metadata": {},
     "output_type": "execute_result"
    }
   ],
   "source": [
    "df"
   ]
  },
  {
   "cell_type": "code",
   "execution_count": 64,
   "id": "31888e58",
   "metadata": {},
   "outputs": [],
   "source": [
    "df.drop(['min_zscore'],axis=1,inplace=True)"
   ]
  },
  {
   "cell_type": "code",
   "execution_count": 65,
   "id": "14f418c9",
   "metadata": {},
   "outputs": [
    {
     "data": {
      "text/plain": [
       "<AxesSubplot:xlabel='sequencelength'>"
      ]
     },
     "execution_count": 65,
     "metadata": {},
     "output_type": "execute_result"
    },
    {
     "data": {
      "image/png": "[encoded data removed]",
      "text/plain": [
       "<Figure size 432x288 with 1 Axes>"
      ]
     },
     "metadata": {
      "needs_background": "light"
     },
     "output_type": "display_data"
    }
   ],
   "source": [
    "sns.boxplot(x=df['sequencelength'])"
   ]
  },
  {
   "cell_type": "code",
   "execution_count": 66,
   "id": "dc17d394",
   "metadata": {},
   "outputs": [
    {
     "data": {
      "text/plain": [
       "234        68\n",
       "705        65\n",
       "850        96\n",
       "1269       89\n",
       "1411       71\n",
       "         ... \n",
       "446718     89\n",
       "446719     77\n",
       "446727    105\n",
       "446729     68\n",
       "446732     98\n",
       "Name: sequencelength, Length: 3974, dtype: int64"
      ]
     },
     "execution_count": 66,
     "metadata": {},
     "output_type": "execute_result"
    }
   ],
   "source": [
    "df['min_zscore']=np.abs(stats.zscore(df['sequencelength'])) < 3\n",
    "#len(pd.unique(df['min_zscore']))\n",
    "df['sequencelength'][df['min_zscore']==False]\n",
    "#print(df['sequencelength'][df['min_zscore']==False],'-->',df['sequencelength'][df['min_zscore']==False].count())\n",
    "#df.drop(df['tot_mins_diff'][df['min_zscore']==False].index, inplace = True)"
   ]
  },
  {
   "cell_type": "code",
   "execution_count": 67,
   "id": "dd974ef4",
   "metadata": {},
   "outputs": [],
   "source": [
    "#df['sequencelength'][df['min_zscore']==False].count()"
   ]
  },
  {
   "cell_type": "code",
   "execution_count": 68,
   "id": "4d4c2e31",
   "metadata": {},
   "outputs": [],
   "source": [
    "df.drop(df['sequencelength'][df['min_zscore']==False].index, inplace = True)"
   ]
  },
  {
   "cell_type": "code",
   "execution_count": 69,
   "id": "7b64cc80",
   "metadata": {},
   "outputs": [
    {
     "data": {
      "text/plain": [
       "0"
      ]
     },
     "execution_count": 69,
     "metadata": {},
     "output_type": "execute_result"
    }
   ],
   "source": [
    "df['sequencelength'][df['min_zscore']==False].count()"
   ]
  },
  {
   "cell_type": "code",
   "execution_count": 70,
   "id": "0ca0ee36",
   "metadata": {
    "scrolled": true
   },
   "outputs": [
    {
     "data": {
      "text/plain": [
       "<AxesSubplot:xlabel='sequencelength'>"
      ]
     },
     "execution_count": 70,
     "metadata": {},
     "output_type": "execute_result"
    },
    {
     "data": {
      "image/png": "[encoded data removed]",
      "text/plain": [
       "<Figure size 432x288 with 1 Axes>"
      ]
     },
     "metadata": {
      "needs_background": "light"
     },
     "output_type": "display_data"
    }
   ],
   "source": [
    "sns.boxplot(x=df['sequencelength'])"
   ]
  },
  {
   "cell_type": "code",
   "execution_count": 71,
   "id": "9ae027bc",
   "metadata": {
    "scrolled": true
   },
   "outputs": [
    {
     "data": {
      "text/plain": [
       "OrderFirstConfirmedDateTime    object\n",
       "OrderDueDate                   object\n",
       "ido                             int64\n",
       "sequencelength                  int64\n",
       "ProdScale                       int32\n",
       "PITname                         int64\n",
       "PurificationName                int64\n",
       "MachineName                     int64\n",
       "shipment_time_days              int32\n",
       "min_zscore                       bool\n",
       "dtype: object"
      ]
     },
     "execution_count": 71,
     "metadata": {},
     "output_type": "execute_result"
    }
   ],
   "source": [
    "df.dtypes"
   ]
  },
  {
   "cell_type": "code",
   "execution_count": 72,
   "id": "29cbc0ad",
   "metadata": {},
   "outputs": [],
   "source": [
    "df.drop(['min_zscore'],inplace=True,axis=1)"
   ]
  },
  {
   "cell_type": "code",
   "execution_count": 73,
   "id": "1a0913e8",
   "metadata": {},
   "outputs": [
    {
     "data": {
      "text/html": [
       "<div>\n",
       "<style scoped>\n",
       "    .dataframe tbody tr th:only-of-type {\n",
       "        vertical-align: middle;\n",
       "    }\n",
       "\n",
       "    .dataframe tbody tr th {\n",
       "        vertical-align: top;\n",
       "    }\n",
       "\n",
       "    .dataframe thead th {\n",
       "        text-align: right;\n",
       "    }\n",
       "</style>\n",
       "<table border=\"1\" class=\"dataframe\">\n",
       "  <thead>\n",
       "    <tr style=\"text-align: right;\">\n",
       "      <th></th>\n",
       "      <th>OrderFirstConfirmedDateTime</th>\n",
       "      <th>OrderDueDate</th>\n",
       "      <th>ido</th>\n",
       "      <th>sequencelength</th>\n",
       "      <th>ProdScale</th>\n",
       "      <th>PITname</th>\n",
       "      <th>PurificationName</th>\n",
       "      <th>MachineName</th>\n",
       "      <th>shipment_time_days</th>\n",
       "    </tr>\n",
       "  </thead>\n",
       "  <tbody>\n",
       "    <tr>\n",
       "      <th>0</th>\n",
       "      <td>2022-06-01 14:09:29</td>\n",
       "      <td>2022-06-02 19:00:00</td>\n",
       "      <td>32969575</td>\n",
       "      <td>17</td>\n",
       "      <td>10</td>\n",
       "      <td>0</td>\n",
       "      <td>0</td>\n",
       "      <td>0</td>\n",
       "      <td>15</td>\n",
       "    </tr>\n",
       "    <tr>\n",
       "      <th>1</th>\n",
       "      <td>2022-06-01 14:42:59</td>\n",
       "      <td>2022-06-04 19:00:00</td>\n",
       "      <td>32970130</td>\n",
       "      <td>21</td>\n",
       "      <td>10</td>\n",
       "      <td>0</td>\n",
       "      <td>0</td>\n",
       "      <td>0</td>\n",
       "      <td>17</td>\n",
       "    </tr>\n",
       "    <tr>\n",
       "      <th>4</th>\n",
       "      <td>2022-06-03 12:23:10</td>\n",
       "      <td>2022-06-05 23:59:59</td>\n",
       "      <td>32981704</td>\n",
       "      <td>30</td>\n",
       "      <td>10</td>\n",
       "      <td>1</td>\n",
       "      <td>0</td>\n",
       "      <td>1</td>\n",
       "      <td>63</td>\n",
       "    </tr>\n",
       "    <tr>\n",
       "      <th>5</th>\n",
       "      <td>2022-06-03 16:02:36.043000</td>\n",
       "      <td>2022-06-05 23:59:59</td>\n",
       "      <td>32983756</td>\n",
       "      <td>25</td>\n",
       "      <td>10</td>\n",
       "      <td>1</td>\n",
       "      <td>0</td>\n",
       "      <td>1</td>\n",
       "      <td>2</td>\n",
       "    </tr>\n",
       "    <tr>\n",
       "      <th>6</th>\n",
       "      <td>2022-06-02 11:10:54</td>\n",
       "      <td>2022-06-07 19:00:00</td>\n",
       "      <td>32976003</td>\n",
       "      <td>20</td>\n",
       "      <td>10</td>\n",
       "      <td>0</td>\n",
       "      <td>0</td>\n",
       "      <td>0</td>\n",
       "      <td>10</td>\n",
       "    </tr>\n",
       "    <tr>\n",
       "      <th>...</th>\n",
       "      <td>...</td>\n",
       "      <td>...</td>\n",
       "      <td>...</td>\n",
       "      <td>...</td>\n",
       "      <td>...</td>\n",
       "      <td>...</td>\n",
       "      <td>...</td>\n",
       "      <td>...</td>\n",
       "      <td>...</td>\n",
       "    </tr>\n",
       "    <tr>\n",
       "      <th>446932</th>\n",
       "      <td>2022-05-16 08:51:15.240000</td>\n",
       "      <td>2022-05-23 19:00:00</td>\n",
       "      <td>32898500</td>\n",
       "      <td>55</td>\n",
       "      <td>50</td>\n",
       "      <td>11</td>\n",
       "      <td>0</td>\n",
       "      <td>17</td>\n",
       "      <td>49</td>\n",
       "    </tr>\n",
       "    <tr>\n",
       "      <th>446933</th>\n",
       "      <td>2022-05-16 08:51:15.240000</td>\n",
       "      <td>2022-05-23 19:00:00</td>\n",
       "      <td>32898525</td>\n",
       "      <td>56</td>\n",
       "      <td>50</td>\n",
       "      <td>11</td>\n",
       "      <td>0</td>\n",
       "      <td>4</td>\n",
       "      <td>49</td>\n",
       "    </tr>\n",
       "    <tr>\n",
       "      <th>446934</th>\n",
       "      <td>2022-05-16 08:51:15.240000</td>\n",
       "      <td>2022-05-23 19:00:00</td>\n",
       "      <td>32898519</td>\n",
       "      <td>56</td>\n",
       "      <td>50</td>\n",
       "      <td>11</td>\n",
       "      <td>0</td>\n",
       "      <td>4</td>\n",
       "      <td>49</td>\n",
       "    </tr>\n",
       "    <tr>\n",
       "      <th>446935</th>\n",
       "      <td>2022-05-16 08:51:15.240000</td>\n",
       "      <td>2022-05-23 19:00:00</td>\n",
       "      <td>32898496</td>\n",
       "      <td>54</td>\n",
       "      <td>50</td>\n",
       "      <td>11</td>\n",
       "      <td>0</td>\n",
       "      <td>17</td>\n",
       "      <td>49</td>\n",
       "    </tr>\n",
       "    <tr>\n",
       "      <th>446937</th>\n",
       "      <td>2022-09-05 15:48:18</td>\n",
       "      <td>2022-09-07 19:00:00</td>\n",
       "      <td>33333057</td>\n",
       "      <td>25</td>\n",
       "      <td>10</td>\n",
       "      <td>0</td>\n",
       "      <td>1</td>\n",
       "      <td>0</td>\n",
       "      <td>25</td>\n",
       "    </tr>\n",
       "  </tbody>\n",
       "</table>\n",
       "<p>374105 rows × 9 columns</p>\n",
       "</div>"
      ],
      "text/plain": [
       "       OrderFirstConfirmedDateTime         OrderDueDate       ido  \\\n",
       "0              2022-06-01 14:09:29  2022-06-02 19:00:00  32969575   \n",
       "1              2022-06-01 14:42:59  2022-06-04 19:00:00  32970130   \n",
       "4              2022-06-03 12:23:10  2022-06-05 23:59:59  32981704   \n",
       "5       2022-06-03 16:02:36.043000  2022-06-05 23:59:59  32983756   \n",
       "6              2022-06-02 11:10:54  2022-06-07 19:00:00  32976003   \n",
       "...                            ...                  ...       ...   \n",
       "446932  2022-05-16 08:51:15.240000  2022-05-23 19:00:00  32898500   \n",
       "446933  2022-05-16 08:51:15.240000  2022-05-23 19:00:00  32898525   \n",
       "446934  2022-05-16 08:51:15.240000  2022-05-23 19:00:00  32898519   \n",
       "446935  2022-05-16 08:51:15.240000  2022-05-23 19:00:00  32898496   \n",
       "446937         2022-09-05 15:48:18  2022-09-07 19:00:00  33333057   \n",
       "\n",
       "        sequencelength  ProdScale  PITname  PurificationName  MachineName  \\\n",
       "0                   17         10        0                 0            0   \n",
       "1                   21         10        0                 0            0   \n",
       "4                   30         10        1                 0            1   \n",
       "5                   25         10        1                 0            1   \n",
       "6                   20         10        0                 0            0   \n",
       "...                ...        ...      ...               ...          ...   \n",
       "446932              55         50       11                 0           17   \n",
       "446933              56         50       11                 0            4   \n",
       "446934              56         50       11                 0            4   \n",
       "446935              54         50       11                 0           17   \n",
       "446937              25         10        0                 1            0   \n",
       "\n",
       "        shipment_time_days  \n",
       "0                       15  \n",
       "1                       17  \n",
       "4                       63  \n",
       "5                        2  \n",
       "6                       10  \n",
       "...                    ...  \n",
       "446932                  49  \n",
       "446933                  49  \n",
       "446934                  49  \n",
       "446935                  49  \n",
       "446937                  25  \n",
       "\n",
       "[374105 rows x 9 columns]"
      ]
     },
     "execution_count": 73,
     "metadata": {},
     "output_type": "execute_result"
    }
   ],
   "source": [
    "df"
   ]
  },
  {
   "cell_type": "code",
   "execution_count": 74,
   "id": "a966ea69",
   "metadata": {},
   "outputs": [
    {
     "ename": "ValueError",
     "evalue": "could not convert string to float: '2022-06-01 14:09:29'",
     "output_type": "error",
     "traceback": [
      "\u001b[1;31m---------------------------------------------------------------------------\u001b[0m",
      "\u001b[1;31mValueError\u001b[0m                                Traceback (most recent call last)",
      "Input \u001b[1;32mIn [74]\u001b[0m, in \u001b[0;36m<cell line: 2>\u001b[1;34m()\u001b[0m\n\u001b[0;32m      1\u001b[0m \u001b[38;5;66;03m# plotting the heatmap\u001b[39;00m\n\u001b[1;32m----> 2\u001b[0m hm \u001b[38;5;241m=\u001b[39m \u001b[43msns\u001b[49m\u001b[38;5;241;43m.\u001b[39;49m\u001b[43mheatmap\u001b[49m\u001b[43m(\u001b[49m\u001b[43mdata\u001b[49m\u001b[43m \u001b[49m\u001b[38;5;241;43m=\u001b[39;49m\u001b[43m \u001b[49m\u001b[43mdf\u001b[49m\u001b[43m)\u001b[49m  \n\u001b[0;32m      3\u001b[0m \u001b[38;5;66;03m# displaying the plotted heatmap\u001b[39;00m\n\u001b[0;32m      4\u001b[0m plt\u001b[38;5;241m.\u001b[39mshow()\n",
      "File \u001b[1;32m~\\anaconda3\\lib\\site-packages\\seaborn\\_decorators.py:46\u001b[0m, in \u001b[0;36m_deprecate_positional_args.<locals>.inner_f\u001b[1;34m(*args, **kwargs)\u001b[0m\n\u001b[0;32m     36\u001b[0m     warnings\u001b[38;5;241m.\u001b[39mwarn(\n\u001b[0;32m     37\u001b[0m         \u001b[38;5;124m\"\u001b[39m\u001b[38;5;124mPass the following variable\u001b[39m\u001b[38;5;132;01m{}\u001b[39;00m\u001b[38;5;124m as \u001b[39m\u001b[38;5;132;01m{}\u001b[39;00m\u001b[38;5;124mkeyword arg\u001b[39m\u001b[38;5;132;01m{}\u001b[39;00m\u001b[38;5;124m: \u001b[39m\u001b[38;5;132;01m{}\u001b[39;00m\u001b[38;5;124m. \u001b[39m\u001b[38;5;124m\"\u001b[39m\n\u001b[0;32m     38\u001b[0m         \u001b[38;5;124m\"\u001b[39m\u001b[38;5;124mFrom version 0.12, the only valid positional argument \u001b[39m\u001b[38;5;124m\"\u001b[39m\n\u001b[1;32m   (...)\u001b[0m\n\u001b[0;32m     43\u001b[0m         \u001b[38;5;167;01mFutureWarning\u001b[39;00m\n\u001b[0;32m     44\u001b[0m     )\n\u001b[0;32m     45\u001b[0m kwargs\u001b[38;5;241m.\u001b[39mupdate({k: arg \u001b[38;5;28;01mfor\u001b[39;00m k, arg \u001b[38;5;129;01min\u001b[39;00m \u001b[38;5;28mzip\u001b[39m(sig\u001b[38;5;241m.\u001b[39mparameters, args)})\n\u001b[1;32m---> 46\u001b[0m \u001b[38;5;28;01mreturn\u001b[39;00m f(\u001b[38;5;241m*\u001b[39m\u001b[38;5;241m*\u001b[39mkwargs)\n",
      "File \u001b[1;32m~\\anaconda3\\lib\\site-packages\\seaborn\\matrix.py:540\u001b[0m, in \u001b[0;36mheatmap\u001b[1;34m(data, vmin, vmax, cmap, center, robust, annot, fmt, annot_kws, linewidths, linecolor, cbar, cbar_kws, cbar_ax, square, xticklabels, yticklabels, mask, ax, **kwargs)\u001b[0m\n\u001b[0;32m    362\u001b[0m \u001b[38;5;124;03m\"\"\"Plot rectangular data as a color-encoded matrix.\u001b[39;00m\n\u001b[0;32m    363\u001b[0m \n\u001b[0;32m    364\u001b[0m \u001b[38;5;124;03mThis is an Axes-level function and will draw the heatmap into the\u001b[39;00m\n\u001b[1;32m   (...)\u001b[0m\n\u001b[0;32m    537\u001b[0m \u001b[38;5;124;03m    ...     ax = sns.heatmap(corr, mask=mask, vmax=.3, square=True)\u001b[39;00m\n\u001b[0;32m    538\u001b[0m \u001b[38;5;124;03m\"\"\"\u001b[39;00m\n\u001b[0;32m    539\u001b[0m \u001b[38;5;66;03m# Initialize the plotter object\u001b[39;00m\n\u001b[1;32m--> 540\u001b[0m plotter \u001b[38;5;241m=\u001b[39m \u001b[43m_HeatMapper\u001b[49m\u001b[43m(\u001b[49m\u001b[43mdata\u001b[49m\u001b[43m,\u001b[49m\u001b[43m \u001b[49m\u001b[43mvmin\u001b[49m\u001b[43m,\u001b[49m\u001b[43m \u001b[49m\u001b[43mvmax\u001b[49m\u001b[43m,\u001b[49m\u001b[43m \u001b[49m\u001b[43mcmap\u001b[49m\u001b[43m,\u001b[49m\u001b[43m \u001b[49m\u001b[43mcenter\u001b[49m\u001b[43m,\u001b[49m\u001b[43m \u001b[49m\u001b[43mrobust\u001b[49m\u001b[43m,\u001b[49m\u001b[43m \u001b[49m\u001b[43mannot\u001b[49m\u001b[43m,\u001b[49m\u001b[43m \u001b[49m\u001b[43mfmt\u001b[49m\u001b[43m,\u001b[49m\n\u001b[0;32m    541\u001b[0m \u001b[43m                      \u001b[49m\u001b[43mannot_kws\u001b[49m\u001b[43m,\u001b[49m\u001b[43m \u001b[49m\u001b[43mcbar\u001b[49m\u001b[43m,\u001b[49m\u001b[43m \u001b[49m\u001b[43mcbar_kws\u001b[49m\u001b[43m,\u001b[49m\u001b[43m \u001b[49m\u001b[43mxticklabels\u001b[49m\u001b[43m,\u001b[49m\n\u001b[0;32m    542\u001b[0m \u001b[43m                      \u001b[49m\u001b[43myticklabels\u001b[49m\u001b[43m,\u001b[49m\u001b[43m \u001b[49m\u001b[43mmask\u001b[49m\u001b[43m)\u001b[49m\n\u001b[0;32m    544\u001b[0m \u001b[38;5;66;03m# Add the pcolormesh kwargs here\u001b[39;00m\n\u001b[0;32m    545\u001b[0m kwargs[\u001b[38;5;124m\"\u001b[39m\u001b[38;5;124mlinewidths\u001b[39m\u001b[38;5;124m\"\u001b[39m] \u001b[38;5;241m=\u001b[39m linewidths\n",
      "File \u001b[1;32m~\\anaconda3\\lib\\site-packages\\seaborn\\matrix.py:159\u001b[0m, in \u001b[0;36m_HeatMapper.__init__\u001b[1;34m(self, data, vmin, vmax, cmap, center, robust, annot, fmt, annot_kws, cbar, cbar_kws, xticklabels, yticklabels, mask)\u001b[0m\n\u001b[0;32m    156\u001b[0m \u001b[38;5;28mself\u001b[39m\u001b[38;5;241m.\u001b[39mylabel \u001b[38;5;241m=\u001b[39m ylabel \u001b[38;5;28;01mif\u001b[39;00m ylabel \u001b[38;5;129;01mis\u001b[39;00m \u001b[38;5;129;01mnot\u001b[39;00m \u001b[38;5;28;01mNone\u001b[39;00m \u001b[38;5;28;01melse\u001b[39;00m \u001b[38;5;124m\"\u001b[39m\u001b[38;5;124m\"\u001b[39m\n\u001b[0;32m    158\u001b[0m \u001b[38;5;66;03m# Determine good default values for the colormapping\u001b[39;00m\n\u001b[1;32m--> 159\u001b[0m \u001b[38;5;28;43mself\u001b[39;49m\u001b[38;5;241;43m.\u001b[39;49m\u001b[43m_determine_cmap_params\u001b[49m\u001b[43m(\u001b[49m\u001b[43mplot_data\u001b[49m\u001b[43m,\u001b[49m\u001b[43m \u001b[49m\u001b[43mvmin\u001b[49m\u001b[43m,\u001b[49m\u001b[43m \u001b[49m\u001b[43mvmax\u001b[49m\u001b[43m,\u001b[49m\n\u001b[0;32m    160\u001b[0m \u001b[43m                            \u001b[49m\u001b[43mcmap\u001b[49m\u001b[43m,\u001b[49m\u001b[43m \u001b[49m\u001b[43mcenter\u001b[49m\u001b[43m,\u001b[49m\u001b[43m \u001b[49m\u001b[43mrobust\u001b[49m\u001b[43m)\u001b[49m\n\u001b[0;32m    162\u001b[0m \u001b[38;5;66;03m# Sort out the annotations\u001b[39;00m\n\u001b[0;32m    163\u001b[0m \u001b[38;5;28;01mif\u001b[39;00m annot \u001b[38;5;129;01mis\u001b[39;00m \u001b[38;5;28;01mNone\u001b[39;00m \u001b[38;5;129;01mor\u001b[39;00m annot \u001b[38;5;129;01mis\u001b[39;00m \u001b[38;5;28;01mFalse\u001b[39;00m:\n",
      "File \u001b[1;32m~\\anaconda3\\lib\\site-packages\\seaborn\\matrix.py:193\u001b[0m, in \u001b[0;36m_HeatMapper._determine_cmap_params\u001b[1;34m(self, plot_data, vmin, vmax, cmap, center, robust)\u001b[0m\n\u001b[0;32m    190\u001b[0m \u001b[38;5;124;03m\"\"\"Use some heuristics to set good defaults for colorbar and range.\"\"\"\u001b[39;00m\n\u001b[0;32m    192\u001b[0m \u001b[38;5;66;03m# plot_data is a np.ma.array instance\u001b[39;00m\n\u001b[1;32m--> 193\u001b[0m calc_data \u001b[38;5;241m=\u001b[39m \u001b[43mplot_data\u001b[49m\u001b[38;5;241;43m.\u001b[39;49m\u001b[43mastype\u001b[49m\u001b[43m(\u001b[49m\u001b[38;5;28;43mfloat\u001b[39;49m\u001b[43m)\u001b[49m\u001b[38;5;241m.\u001b[39mfilled(np\u001b[38;5;241m.\u001b[39mnan)\n\u001b[0;32m    194\u001b[0m \u001b[38;5;28;01mif\u001b[39;00m vmin \u001b[38;5;129;01mis\u001b[39;00m \u001b[38;5;28;01mNone\u001b[39;00m:\n\u001b[0;32m    195\u001b[0m     \u001b[38;5;28;01mif\u001b[39;00m robust:\n",
      "\u001b[1;31mValueError\u001b[0m: could not convert string to float: '2022-06-01 14:09:29'"
     ]
    }
   ],
   "source": [
    "# plotting the heatmap\n",
    "hm = sns.heatmap(data = df)  \n",
    "# displaying the plotted heatmap\n",
    "plt.show()"
   ]
  },
  {
   "cell_type": "code",
   "execution_count": null,
   "id": "4ae61c1c",
   "metadata": {
    "scrolled": true
   },
   "outputs": [],
   "source": [
    "df.drop_duplicates(keep='first')"
   ]
  },
  {
   "cell_type": "code",
   "execution_count": null,
   "id": "4f6355fe",
   "metadata": {},
   "outputs": [],
   "source": [
    "for a in df.columns:\n",
    "    sns.displot(df[a])"
   ]
  },
  {
   "cell_type": "code",
   "execution_count": null,
   "id": "1e13cf4a",
   "metadata": {},
   "outputs": [],
   "source": [
    "df"
   ]
  },
  {
   "cell_type": "code",
   "execution_count": null,
   "id": "88338ee3",
   "metadata": {},
   "outputs": [],
   "source": [
    "df.drop_duplicates(keep='first')"
   ]
  },
  {
   "cell_type": "code",
   "execution_count": null,
   "id": "a17978b2",
   "metadata": {},
   "outputs": [],
   "source": [
    "for a in df.columns:\n",
    "    sns.displot(df[a])"
   ]
  },
  {
   "cell_type": "code",
   "execution_count": null,
   "id": "d35b004b",
   "metadata": {
    "scrolled": true
   },
   "outputs": [],
   "source": [
    "# piarplor to create pairwise relationships in a dataset.\n",
    "sns.pairplot(df,vars = ['PITname','PurificationName','sequencelength'], hue=\"shipment_time_days\")\n"
   ]
  },
  {
   "cell_type": "code",
   "execution_count": null,
   "id": "afdc4eb9",
   "metadata": {},
   "outputs": [],
   "source": [
    "# piarplor to create pairwise relationships in a dataset.\n",
    "sns.pairplot(df,vars = ['sequencelength','ProdScale'], hue=\"shipment_time_days\")"
   ]
  },
  {
   "cell_type": "code",
   "execution_count": null,
   "id": "4d198606",
   "metadata": {},
   "outputs": [],
   "source": [
    "sns.pairplot(df,vars = ['ProdScale'], hue=\"shipment_time_days\")"
   ]
  },
  {
   "cell_type": "code",
   "execution_count": null,
   "id": "83b21838",
   "metadata": {},
   "outputs": [],
   "source": [
    "#binning\n",
    "for a in df.columns:\n",
    "    plt.hist(df[a], bins=5)\n",
    "    plt.title(a)\n",
    "    plt.show()"
   ]
  },
  {
   "cell_type": "code",
   "execution_count": null,
   "id": "fee2ddcf",
   "metadata": {},
   "outputs": [],
   "source": [
    "df.reset_index()"
   ]
  },
  {
   "cell_type": "code",
   "execution_count": null,
   "id": "b533bc5a",
   "metadata": {},
   "outputs": [],
   "source": [
    "df.to_csv('preprocessed.csv',index=False)"
   ]
  },
  {
   "cell_type": "markdown",
   "id": "26e86d2d",
   "metadata": {},
   "source": [
    "<center><h1> Model Creation </h1></center>"
   ]
  },
  {
   "cell_type": "code",
   "execution_count": null,
   "id": "d60981e8",
   "metadata": {},
   "outputs": [],
   "source": [
    "# Drop the colum class_account from DF for train set \n",
    "x = df.drop(['shipment_time_days'],axis=1)\n",
    "y = df['shipment_time_days'] "
   ]
  },
  {
   "cell_type": "code",
   "execution_count": null,
   "id": "c845ed7b",
   "metadata": {},
   "outputs": [],
   "source": [
    "#spiltting data for train and test\n",
    "from sklearn.model_selection import train_test_split\n",
    "x_train,x_test,y_train,y_test = train_test_split(x,y,test_size=0.30,random_state=0)"
   ]
  },
  {
   "cell_type": "markdown",
   "id": "46edb8a3",
   "metadata": {},
   "source": [
    "### RandomForestClassifier"
   ]
  },
  {
   "cell_type": "code",
   "execution_count": null,
   "id": "3e277ba2",
   "metadata": {},
   "outputs": [],
   "source": [
    "#Import Random Forest Model\n",
    "from sklearn.ensemble import RandomForestClassifier\n",
    "\n",
    "#Create a Gaussian Classifier\n",
    "clf=RandomForestClassifier(n_estimators=200,max_depth= 30,)\n",
    "\n",
    "#Train the model using the training sets y_pred=clf.predict(X_test)\n",
    "clf.fit(x_train,y_train)\n",
    "\n",
    "y_pred=clf.predict(x_test)"
   ]
  },
  {
   "cell_type": "code",
   "execution_count": null,
   "id": "559370c9",
   "metadata": {},
   "outputs": [],
   "source": [
    "y_pred"
   ]
  },
  {
   "cell_type": "code",
   "execution_count": null,
   "id": "f0bd5acc",
   "metadata": {},
   "outputs": [],
   "source": [
    "#Import scikit-learn metrics module for accuracy calculation\n",
    "from sklearn import metrics\n",
    "# Model Accuracy, how often is the classifier correct?\n",
    "print(\"Accuracy:\",metrics.accuracy_score(y_test, y_pred))"
   ]
  },
  {
   "cell_type": "code",
   "execution_count": null,
   "id": "be5eaf47",
   "metadata": {},
   "outputs": [],
   "source": [
    "importance=clf.feature_importances_\n",
    "indices = np.argsort(importance)\n",
    "features=df.columns\n",
    "plt.figure(1)\n",
    "plt.title('Feature Importances')\n",
    "plt.barh(range(len(indices)), importance[indices], color='b', align='center')\n",
    "plt.yticks(range(len(indices)), features[indices])\n",
    "plt.xlabel('Relative Importance')"
   ]
  },
  {
   "cell_type": "markdown",
   "id": "d6992791",
   "metadata": {},
   "source": [
    "### Gaussian Naive Bayes"
   ]
  },
  {
   "cell_type": "code",
   "execution_count": null,
   "id": "7a7ed889",
   "metadata": {},
   "outputs": [],
   "source": [
    "# train a Gaussian Naive Bayes classifier on the training set\n",
    "from sklearn.naive_bayes import GaussianNB\n",
    "\n",
    "\n",
    "# instantiate the model\n",
    "gnb = GaussianNB()\n",
    "\n",
    "\n",
    "# fit the model\n",
    "gnbm=gnb.fit(x_train, y_train)"
   ]
  },
  {
   "cell_type": "code",
   "execution_count": null,
   "id": "cb38893b",
   "metadata": {},
   "outputs": [],
   "source": [
    "y_pred = gnb.predict(x_test)\n",
    "\n",
    "y_pred"
   ]
  },
  {
   "cell_type": "code",
   "execution_count": null,
   "id": "2559e302",
   "metadata": {},
   "outputs": [],
   "source": [
    "predict = pd.DataFrame(y_pred)\n",
    "\n",
    "plt.figure(figsize=(10,10))        \n",
    "sns.distplot(predict,color='red')\n",
    "sns.distplot(pd.DataFrame(y_test).shipment_time_days)\n",
    "plt.show()\n"
   ]
  },
  {
   "cell_type": "code",
   "execution_count": null,
   "id": "3ce2349a",
   "metadata": {},
   "outputs": [],
   "source": [
    "from sklearn.metrics import confusion_matrix\n",
    "\n",
    "cm = confusion_matrix(y_test, y_pred)\n",
    "\n",
    "print('Confusion matrix\\n\\n', cm)"
   ]
  },
  {
   "cell_type": "code",
   "execution_count": null,
   "id": "67dc9186",
   "metadata": {},
   "outputs": [],
   "source": [
    "print('\\nTrue Positives(TP) = ', cm[0,0])\n",
    "\n",
    "print('\\nTrue Negatives(TN) = ', cm[1,1])\n",
    "\n",
    "print('\\nFalse Positives(FP) = ', cm[0,1])\n",
    "\n",
    "print('\\nFalse Negatives(FN) = ', cm[1,0])"
   ]
  },
  {
   "cell_type": "code",
   "execution_count": null,
   "id": "9d4a3c60",
   "metadata": {},
   "outputs": [],
   "source": [
    "from sklearn.metrics import classification_report\n",
    "\n",
    "print(classification_report(y_test, y_pred))"
   ]
  },
  {
   "cell_type": "code",
   "execution_count": null,
   "id": "1df0f9d5",
   "metadata": {},
   "outputs": [],
   "source": [
    "TP = cm[0,0]\n",
    "TN = cm[1,1]\n",
    "FP = cm[0,1]\n",
    "FN = cm[1,0]"
   ]
  },
  {
   "cell_type": "code",
   "execution_count": null,
   "id": "3874c14b",
   "metadata": {},
   "outputs": [],
   "source": [
    "# print classification accuracy\n",
    "\n",
    "classification_accuracy = (TP + TN) / float(TP + TN + FP + FN)\n",
    "\n",
    "print('Classification accuracy : {0:0.4f}'.format(classification_accuracy))"
   ]
  },
  {
   "cell_type": "code",
   "execution_count": null,
   "id": "0e767376",
   "metadata": {},
   "outputs": [],
   "source": [
    "# print classification error\n",
    "\n",
    "classification_error = (FP + FN) / float(TP + TN + FP + FN)\n",
    "\n",
    "print('Classification error : {0:0.4f}'.format(classification_error))"
   ]
  },
  {
   "cell_type": "code",
   "execution_count": null,
   "id": "680de16d",
   "metadata": {},
   "outputs": [],
   "source": [
    "# print precision score\n",
    "\n",
    "precision = TP / float(TP + FP)\n",
    "\n",
    "\n",
    "print('Precision : {0:0.4f}'.format(precision))"
   ]
  },
  {
   "cell_type": "code",
   "execution_count": null,
   "id": "9a9173ce",
   "metadata": {},
   "outputs": [],
   "source": [
    "# instantiate the DecisionTreeClassifier model with criterion entropy\n",
    "# import DecisionTreeClassifier\n",
    "\n",
    "from sklearn.tree import DecisionTreeClassifier\n",
    "\n",
    "clf_en = DecisionTreeClassifier(criterion='entropy', max_depth=3, random_state=0)\n",
    "\n",
    "\n",
    "# fit the model\n",
    "clf_en.fit(x_train, y_train)"
   ]
  },
  {
   "cell_type": "code",
   "execution_count": null,
   "id": "55a724b2",
   "metadata": {},
   "outputs": [],
   "source": [
    "y_pred_en = clf_en.predict(x_test)"
   ]
  },
  {
   "cell_type": "code",
   "execution_count": null,
   "id": "f99a59d3",
   "metadata": {},
   "outputs": [],
   "source": [
    "clf_en.predict(pd.DataFrame([[10,50,6,1]],columns=['sequencelength','ProdScale','PITname','PurificationName']))[0]"
   ]
  },
  {
   "cell_type": "code",
   "execution_count": null,
   "id": "9906641d",
   "metadata": {},
   "outputs": [],
   "source": [
    "clf_en.predict(pd.DataFrame([[10,50,1,1]],columns=['sequencelength','ProdScale','PITname','PurificationName']))[0]"
   ]
  },
  {
   "cell_type": "code",
   "execution_count": null,
   "id": "54877715",
   "metadata": {},
   "outputs": [],
   "source": [
    "gnb.predict(pd.DataFrame([[10,50,1,1]],columns=['sequencelength','ProdScale','PITname','PurificationName']))[0]"
   ]
  },
  {
   "cell_type": "code",
   "execution_count": null,
   "id": "9d56e3e3",
   "metadata": {},
   "outputs": [],
   "source": [
    "clf_en.predict(pd.DataFrame([[56,50,1,1]],columns=['sequencelength','ProdScale','PITname','PurificationName']))[0]"
   ]
  },
  {
   "cell_type": "code",
   "execution_count": null,
   "id": "72a33c8e",
   "metadata": {},
   "outputs": [],
   "source": [
    "clf_en.predict(pd.DataFrame([[15,50,1,1]],columns=['sequencelength','ProdScale','PITname','PurificationName']))[0]"
   ]
  },
  {
   "cell_type": "code",
   "execution_count": null,
   "id": "84b70b86",
   "metadata": {},
   "outputs": [],
   "source": [
    "gnb.predict(pd.DataFrame([[15,50,1,1]],columns=['sequencelength','ProdScale','PITname','PurificationName']))[0]"
   ]
  },
  {
   "cell_type": "code",
   "execution_count": null,
   "id": "ad36ab28",
   "metadata": {},
   "outputs": [],
   "source": [
    "gnb.predict(pd.DataFrame([[15,50,1,1]],columns=['sequencelength','ProdScale','PITname','PurificationName']))[0]"
   ]
  },
  {
   "cell_type": "code",
   "execution_count": null,
   "id": "49d2f7a8",
   "metadata": {},
   "outputs": [],
   "source": [
    "clf_en.predict(pd.DataFrame([[56,50,5,1]],columns=['sequencelength','ProdScale','PITname','PurificationName']))[0]"
   ]
  },
  {
   "cell_type": "code",
   "execution_count": null,
   "id": "0a6ce3ee",
   "metadata": {},
   "outputs": [],
   "source": [
    "clf.predict(pd.DataFrame([[56,50,5,1]],columns=['sequencelength','ProdScale','PITname','PurificationName']))[0]"
   ]
  },
  {
   "cell_type": "code",
   "execution_count": null,
   "id": "73a94ef7",
   "metadata": {},
   "outputs": [],
   "source": [
    "clf.predict(pd.DataFrame([[15,50,1,1]],columns=['sequencelength','ProdScale','PITname','PurificationName']))[0]"
   ]
  },
  {
   "cell_type": "code",
   "execution_count": null,
   "id": "aeba03f5",
   "metadata": {},
   "outputs": [],
   "source": [
    "clf_en.predict(pd.DataFrame([[40,10,0,0]],columns=['sequencelength','ProdScale','PITname','PurificationName']))[0]"
   ]
  },
  {
   "cell_type": "code",
   "execution_count": null,
   "id": "04f7ce25",
   "metadata": {},
   "outputs": [],
   "source": [
    "gnb.predict(pd.DataFrame([[40,10,0,0]],columns=['sequencelength','ProdScale','PITname','PurificationName']))[0]"
   ]
  },
  {
   "cell_type": "code",
   "execution_count": null,
   "id": "c89678bd",
   "metadata": {},
   "outputs": [],
   "source": []
  },
  {
   "cell_type": "code",
   "execution_count": null,
   "id": "876ae322",
   "metadata": {},
   "outputs": [],
   "source": []
  },
  {
   "cell_type": "code",
   "execution_count": null,
   "id": "9803e013",
   "metadata": {},
   "outputs": [],
   "source": [
    "#drop the rows where shipment_time_hrs value is greater than 7 days (168 hours)\n",
    "df.drop(df[df['shipment_time_days'] > 7].index,inplace = True)"
   ]
  },
  {
   "cell_type": "code",
   "execution_count": null,
   "id": "27658722",
   "metadata": {
    "scrolled": true
   },
   "outputs": [],
   "source": [
    "sns.boxplot(x=df['shipment_time_days'])"
   ]
  },
  {
   "cell_type": "code",
   "execution_count": null,
   "id": "c107afbf",
   "metadata": {},
   "outputs": [],
   "source": [
    "df['shipment_time_days'][df['shipment_time_days']==7].count()"
   ]
  },
  {
   "cell_type": "code",
   "execution_count": null,
   "id": "668bd236",
   "metadata": {},
   "outputs": [],
   "source": [
    "df['shipment_time_days'][df['shipment_time_days']==7].count()"
   ]
  },
  {
   "cell_type": "code",
   "execution_count": null,
   "id": "5661279e",
   "metadata": {},
   "outputs": [],
   "source": [
    "#instead doing one hot encoding lets try with single column apporach by renaming catagorial to numeric\n",
    "PITs=df.PITname.unique()\n",
    "keys = range(len(PITs))\n",
    "pit_dict=dict(zip(PITs,keys))\n",
    "\n",
    "purifications=df.PurificationName.unique()\n",
    "keys = range(len(purifications))\n",
    "purification_dict=dict(zip(purifications,keys))\n",
    "\n",
    "mcname=df.MachineName.unique()\n",
    "keys = range(len(mcname))\n",
    "mcname_dict=dict(zip(mcname,keys))\n"
   ]
  },
  {
   "cell_type": "code",
   "execution_count": null,
   "id": "b0af9d08",
   "metadata": {},
   "outputs": [],
   "source": [
    "print(pit_dict)\n",
    "print(purification_dict)\n",
    "print(mcname_dict)"
   ]
  },
  {
   "cell_type": "code",
   "execution_count": null,
   "id": "b86f2b30",
   "metadata": {},
   "outputs": [],
   "source": [
    "#replace categorial values to desired number\n",
    "df.PurificationName.replace(purification_dict,inplace=True)\n",
    "df.PITname.replace(pit_dict,inplace=True)\n",
    "df.MachineName.replace(mcname_dict,inplace=True)"
   ]
  },
  {
   "cell_type": "code",
   "execution_count": null,
   "id": "9d02f411",
   "metadata": {
    "scrolled": true
   },
   "outputs": [],
   "source": [
    "df.sort_values(['ProdScale'],ascending=False)"
   ]
  },
  {
   "cell_type": "code",
   "execution_count": null,
   "id": "3d808419",
   "metadata": {},
   "outputs": [],
   "source": [
    "for a in df['ProdScale'].unique():\n",
    "    print(a,'==>',df['ProdScale'][df['ProdScale']==a].count())"
   ]
  },
  {
   "cell_type": "code",
   "execution_count": null,
   "id": "76bd04d4",
   "metadata": {},
   "outputs": [],
   "source": [
    "len(df['ProdScale'].unique())\n",
    "for a in df['ProdScale'].unique():\n",
    "    print(a)"
   ]
  },
  {
   "cell_type": "code",
   "execution_count": null,
   "id": "4fb9d372",
   "metadata": {},
   "outputs": [],
   "source": [
    "df['ProdScale']=df['ProdScale'].astype(float)"
   ]
  },
  {
   "cell_type": "code",
   "execution_count": null,
   "id": "5bee922c",
   "metadata": {},
   "outputs": [],
   "source": [
    "#sns having issues to handle float hence converting to int\n",
    "df['ProdScale']=df['ProdScale'].apply(lambda x:x*1000)"
   ]
  },
  {
   "cell_type": "code",
   "execution_count": null,
   "id": "72094c05",
   "metadata": {},
   "outputs": [],
   "source": [
    "df['ProdScale']=df['ProdScale'].astype('int')\n",
    "df.sort_values(['ProdScale'],ascending=False)"
   ]
  },
  {
   "cell_type": "code",
   "execution_count": null,
   "id": "b80fa25e",
   "metadata": {
    "scrolled": true
   },
   "outputs": [],
   "source": [
    "sns.boxplot(x=df['ProdScale'])"
   ]
  },
  {
   "cell_type": "code",
   "execution_count": null,
   "id": "93449252",
   "metadata": {
    "scrolled": true
   },
   "outputs": [],
   "source": [
    "for a in df['ProdScale'].unique():\n",
    "    print(a,'==>',df['ProdScale'][df['ProdScale']==a].count())"
   ]
  },
  {
   "cell_type": "code",
   "execution_count": null,
   "id": "07eabd52",
   "metadata": {},
   "outputs": [],
   "source": [
    "df.drop(df['ProdScale'][df['ProdScale']==1000].index, inplace = True)\n",
    "df.drop(df['ProdScale'][df['ProdScale']==10000].index, inplace = True)\n",
    "df.drop(df['ProdScale'][df['ProdScale']==4].index, inplace = True)"
   ]
  },
  {
   "cell_type": "code",
   "execution_count": null,
   "id": "fce4025b",
   "metadata": {
    "scrolled": true
   },
   "outputs": [],
   "source": [
    "for a in df['ProdScale'].unique():\n",
    "    print(a,'==>',df['ProdScale'][df['ProdScale']==a].count())"
   ]
  },
  {
   "cell_type": "code",
   "execution_count": null,
   "id": "6b14a0c9",
   "metadata": {},
   "outputs": [],
   "source": [
    "df.drop(df['ProdScale'][df['ProdScale']==200].index, inplace = True)"
   ]
  },
  {
   "cell_type": "code",
   "execution_count": null,
   "id": "1506bacf",
   "metadata": {},
   "outputs": [],
   "source": [
    "df.drop(df['ProdScale'][df['ProdScale']==50].index, inplace = True)"
   ]
  },
  {
   "cell_type": "code",
   "execution_count": null,
   "id": "cf904375",
   "metadata": {},
   "outputs": [],
   "source": [
    "sns.boxplot(x=df['ProdScale'])"
   ]
  },
  {
   "cell_type": "code",
   "execution_count": null,
   "id": "57e0db36",
   "metadata": {},
   "outputs": [],
   "source": [
    "for a in df['ProdScale'].unique():\n",
    "    print(a,'==>',df['ProdScale'][df['ProdScale']==a].count())"
   ]
  },
  {
   "cell_type": "code",
   "execution_count": null,
   "id": "39648ba8",
   "metadata": {},
   "outputs": [],
   "source": [
    "import numpy as np\n",
    "from scipy import stats\n",
    "df['min_zscore']=np.abs(stats.zscore(df['ProdScale'])) < 3\n",
    "#len(pd.unique(df['min_zscore']))\n",
    "df['ProdScale'][df['min_zscore']==False]\n",
    "#df.drop(df['tot_mins_diff'][df['min_zscore']==False].index, inplace = True)"
   ]
  },
  {
   "cell_type": "code",
   "execution_count": null,
   "id": "db2af05c",
   "metadata": {},
   "outputs": [],
   "source": [
    "df['ProdScale'][df['min_zscore']==False].unique()"
   ]
  },
  {
   "cell_type": "code",
   "execution_count": null,
   "id": "12be3328",
   "metadata": {},
   "outputs": [],
   "source": [
    "df['ProdScale'][df['min_zscore']==False].count()"
   ]
  },
  {
   "cell_type": "code",
   "execution_count": null,
   "id": "1052a2e5",
   "metadata": {},
   "outputs": [],
   "source": [
    "df.drop(df['ProdScale'][df['min_zscore']==False].index, inplace = True)"
   ]
  },
  {
   "cell_type": "code",
   "execution_count": null,
   "id": "b5eafcf1",
   "metadata": {},
   "outputs": [],
   "source": [
    "sns.boxplot('ProdScale',data=df)"
   ]
  },
  {
   "cell_type": "code",
   "execution_count": null,
   "id": "11c5259a",
   "metadata": {},
   "outputs": [],
   "source": [
    "df['min_zscore']=np.abs(stats.zscore(df['ProdScale'])) < 3\n",
    "#len(pd.unique(df['min_zscore']))\n",
    "df['ProdScale'][df['min_zscore']==False]\n",
    "#df.drop(df['tot_mins_diff'][df['min_zscore']==False].index, inplace = True)"
   ]
  },
  {
   "cell_type": "code",
   "execution_count": null,
   "id": "0b8f816d",
   "metadata": {},
   "outputs": [],
   "source": [
    "df['ProdScale'][df['min_zscore']==False].unique()"
   ]
  },
  {
   "cell_type": "code",
   "execution_count": null,
   "id": "12d0cc38",
   "metadata": {},
   "outputs": [],
   "source": [
    "df['ProdScale'][df['min_zscore']==False].count()"
   ]
  },
  {
   "cell_type": "code",
   "execution_count": null,
   "id": "0dcdbc7f",
   "metadata": {},
   "outputs": [],
   "source": [
    "df.drop(df['ProdScale'][df['min_zscore']==False].index, inplace = True)"
   ]
  },
  {
   "cell_type": "code",
   "execution_count": null,
   "id": "f8d6dc54",
   "metadata": {},
   "outputs": [],
   "source": [
    "sns.boxplot(x=df.ProdScale)"
   ]
  },
  {
   "cell_type": "code",
   "execution_count": null,
   "id": "6c2889cb",
   "metadata": {},
   "outputs": [],
   "source": [
    "df"
   ]
  },
  {
   "cell_type": "code",
   "execution_count": null,
   "id": "fcc40325",
   "metadata": {},
   "outputs": [],
   "source": [
    "df.drop(['min_zscore'],axis=1,inplace=True)"
   ]
  },
  {
   "cell_type": "code",
   "execution_count": null,
   "id": "41277d1c",
   "metadata": {},
   "outputs": [],
   "source": [
    "sns.boxplot(x=df['sequencelength'])"
   ]
  },
  {
   "cell_type": "code",
   "execution_count": null,
   "id": "b6a0d5e0",
   "metadata": {},
   "outputs": [],
   "source": [
    "df['min_zscore']=np.abs(stats.zscore(df['sequencelength'])) < 3\n",
    "#len(pd.unique(df['min_zscore']))\n",
    "df['sequencelength'][df['min_zscore']==False]\n",
    "#print(df['sequencelength'][df['min_zscore']==False],'-->',df['sequencelength'][df['min_zscore']==False].count())\n",
    "#df.drop(df['tot_mins_diff'][df['min_zscore']==False].index, inplace = True)"
   ]
  },
  {
   "cell_type": "code",
   "execution_count": null,
   "id": "b757fe84",
   "metadata": {},
   "outputs": [],
   "source": [
    "df['sequencelength'][df['min_zscore']==False].count()"
   ]
  },
  {
   "cell_type": "code",
   "execution_count": null,
   "id": "22bbd41a",
   "metadata": {},
   "outputs": [],
   "source": [
    "df.drop(df['sequencelength'][df['min_zscore']==False].index, inplace = True)"
   ]
  },
  {
   "cell_type": "code",
   "execution_count": null,
   "id": "abbc0be5",
   "metadata": {},
   "outputs": [],
   "source": [
    "df['sequencelength'][df['min_zscore']==False].count()"
   ]
  },
  {
   "cell_type": "code",
   "execution_count": null,
   "id": "3b91dcc9",
   "metadata": {
    "scrolled": true
   },
   "outputs": [],
   "source": [
    "sns.boxplot(x=df['sequencelength'])"
   ]
  },
  {
   "cell_type": "code",
   "execution_count": null,
   "id": "752e3b43",
   "metadata": {
    "scrolled": true
   },
   "outputs": [],
   "source": [
    "df.dtypes"
   ]
  },
  {
   "cell_type": "code",
   "execution_count": null,
   "id": "a180dc75",
   "metadata": {},
   "outputs": [],
   "source": [
    "df.drop(['min_zscore'],inplace=True,axis=1)"
   ]
  },
  {
   "cell_type": "code",
   "execution_count": null,
   "id": "393195b3",
   "metadata": {},
   "outputs": [],
   "source": [
    "# plotting the heatmap\n",
    "hm = sns.heatmap(data = df)  \n",
    "# displaying the plotted heatmap\n",
    "plt.show()"
   ]
  },
  {
   "cell_type": "code",
   "execution_count": null,
   "id": "6b3a7ebd",
   "metadata": {
    "scrolled": true
   },
   "outputs": [],
   "source": [
    "# piarplor to create pairwise relationships in a dataset.\n",
    "sns.pairplot(df,vars = ['PITname','PurificationName','sequencelength'], hue=\"shipment_time_days\")\n"
   ]
  },
  {
   "cell_type": "code",
   "execution_count": null,
   "id": "200a3f7f",
   "metadata": {},
   "outputs": [],
   "source": [
    "# piarplor to create pairwise relationships in a dataset.\n",
    "sns.pairplot(df,vars = ['sequencelength','ProdScale'], hue=\"shipment_time_days\")"
   ]
  },
  {
   "cell_type": "code",
   "execution_count": null,
   "id": "2a3f71ab",
   "metadata": {},
   "outputs": [],
   "source": [
    "sns.pairplot(df,vars = ['ProdScale'], hue=\"shipment_time_days\")"
   ]
  },
  {
   "cell_type": "code",
   "execution_count": null,
   "id": "821ea49f",
   "metadata": {},
   "outputs": [],
   "source": [
    "#binning\n",
    "for a in df.columns:\n",
    "    plt.hist(df[a], bins=5)\n",
    "    plt.title(a)\n",
    "    plt.show()"
   ]
  },
  {
   "cell_type": "code",
   "execution_count": null,
   "id": "1bb4c4b5",
   "metadata": {},
   "outputs": [],
   "source": [
    "df.reset_index()"
   ]
  },
  {
   "cell_type": "code",
   "execution_count": null,
   "id": "a939600a",
   "metadata": {},
   "outputs": [],
   "source": [
    "df.to_csv('preprocessed.csv',index=False)"
   ]
  },
  {
   "cell_type": "markdown",
   "id": "d964d2ad",
   "metadata": {},
   "source": [
    "<center><h1> Model Creation </h1></center>"
   ]
  },
  {
   "cell_type": "code",
   "execution_count": null,
   "id": "f64d0aa8",
   "metadata": {},
   "outputs": [],
   "source": [
    "# Drop the colum class_account from DF for train set \n",
    "x = df.drop(['shipment_time_days'],axis=1)\n",
    "y = df['shipment_time_days'] "
   ]
  },
  {
   "cell_type": "code",
   "execution_count": null,
   "id": "f1179cdf",
   "metadata": {},
   "outputs": [],
   "source": [
    "#spiltting data for train and test\n",
    "from sklearn.model_selection import train_test_split\n",
    "x_train,x_test,y_train,y_test = train_test_split(x,y,test_size=0.30,random_state=0)"
   ]
  },
  {
   "cell_type": "markdown",
   "id": "01cd7171",
   "metadata": {},
   "source": [
    "### RandomForestClassifier"
   ]
  },
  {
   "cell_type": "code",
   "execution_count": null,
   "id": "c5f8304c",
   "metadata": {},
   "outputs": [],
   "source": [
    "#Import Random Forest Model\n",
    "from sklearn.ensemble import RandomForestClassifier\n",
    "\n",
    "#Create a Gaussian Classifier\n",
    "clf=RandomForestClassifier(n_estimators=200,max_depth= 30,)\n",
    "\n",
    "#Train the model using the training sets y_pred=clf.predict(X_test)\n",
    "clf.fit(x_train,y_train)\n",
    "\n",
    "y_pred=clf.predict(x_test)"
   ]
  },
  {
   "cell_type": "code",
   "execution_count": null,
   "id": "edfb6639",
   "metadata": {},
   "outputs": [],
   "source": [
    "y_pred"
   ]
  },
  {
   "cell_type": "code",
   "execution_count": null,
   "id": "230c6651",
   "metadata": {},
   "outputs": [],
   "source": [
    "#Import scikit-learn metrics module for accuracy calculation\n",
    "from sklearn import metrics\n",
    "# Model Accuracy, how often is the classifier correct?\n",
    "print(\"Accuracy:\",metrics.accuracy_score(y_test, y_pred))"
   ]
  },
  {
   "cell_type": "code",
   "execution_count": null,
   "id": "59f68451",
   "metadata": {},
   "outputs": [],
   "source": [
    "importance=clf.feature_importances_\n",
    "indices = np.argsort(importance)\n",
    "features=df.columns\n",
    "plt.figure(1)\n",
    "plt.title('Feature Importances')\n",
    "plt.barh(range(len(indices)), importance[indices], color='b', align='center')\n",
    "plt.yticks(range(len(indices)), features[indices])\n",
    "plt.xlabel('Relative Importance')"
   ]
  },
  {
   "cell_type": "markdown",
   "id": "387717ee",
   "metadata": {},
   "source": [
    "### Gaussian Naive Bayes"
   ]
  },
  {
   "cell_type": "code",
   "execution_count": null,
   "id": "cfc670e1",
   "metadata": {},
   "outputs": [],
   "source": [
    "# train a Gaussian Naive Bayes classifier on the training set\n",
    "from sklearn.naive_bayes import GaussianNB\n",
    "\n",
    "\n",
    "# instantiate the model\n",
    "gnb = GaussianNB()\n",
    "\n",
    "\n",
    "# fit the model\n",
    "gnbm=gnb.fit(x_train, y_train)"
   ]
  },
  {
   "cell_type": "code",
   "execution_count": null,
   "id": "b5545591",
   "metadata": {},
   "outputs": [],
   "source": [
    "y_pred = gnb.predict(x_test)\n",
    "\n",
    "y_pred"
   ]
  },
  {
   "cell_type": "code",
   "execution_count": null,
   "id": "9f2fd819",
   "metadata": {},
   "outputs": [],
   "source": [
    "predict = pd.DataFrame(y_pred)\n",
    "\n",
    "plt.figure(figsize=(10,10))        \n",
    "sns.distplot(predict,color='red')\n",
    "sns.distplot(pd.DataFrame(y_test).shipment_time_days)\n",
    "plt.show()\n"
   ]
  },
  {
   "cell_type": "code",
   "execution_count": null,
   "id": "9911bc53",
   "metadata": {},
   "outputs": [],
   "source": [
    "from sklearn.metrics import confusion_matrix\n",
    "\n",
    "cm = confusion_matrix(y_test, y_pred)\n",
    "\n",
    "print('Confusion matrix\\n\\n', cm)"
   ]
  },
  {
   "cell_type": "code",
   "execution_count": null,
   "id": "32fcbcba",
   "metadata": {},
   "outputs": [],
   "source": [
    "print('\\nTrue Positives(TP) = ', cm[0,0])\n",
    "\n",
    "print('\\nTrue Negatives(TN) = ', cm[1,1])\n",
    "\n",
    "print('\\nFalse Positives(FP) = ', cm[0,1])\n",
    "\n",
    "print('\\nFalse Negatives(FN) = ', cm[1,0])"
   ]
  },
  {
   "cell_type": "code",
   "execution_count": null,
   "id": "ae7fc302",
   "metadata": {},
   "outputs": [],
   "source": [
    "from sklearn.metrics import classification_report\n",
    "\n",
    "print(classification_report(y_test, y_pred))"
   ]
  },
  {
   "cell_type": "code",
   "execution_count": null,
   "id": "139ccaf1",
   "metadata": {},
   "outputs": [],
   "source": [
    "TP = cm[0,0]\n",
    "TN = cm[1,1]\n",
    "FP = cm[0,1]\n",
    "FN = cm[1,0]"
   ]
  },
  {
   "cell_type": "code",
   "execution_count": null,
   "id": "ff9d08a0",
   "metadata": {},
   "outputs": [],
   "source": [
    "# print classification accuracy\n",
    "\n",
    "classification_accuracy = (TP + TN) / float(TP + TN + FP + FN)\n",
    "\n",
    "print('Classification accuracy : {0:0.4f}'.format(classification_accuracy))"
   ]
  },
  {
   "cell_type": "code",
   "execution_count": null,
   "id": "0eb31fcd",
   "metadata": {},
   "outputs": [],
   "source": [
    "# print classification error\n",
    "\n",
    "classification_error = (FP + FN) / float(TP + TN + FP + FN)\n",
    "\n",
    "print('Classification error : {0:0.4f}'.format(classification_error))"
   ]
  },
  {
   "cell_type": "code",
   "execution_count": null,
   "id": "ee8454d4",
   "metadata": {},
   "outputs": [],
   "source": [
    "# print precision score\n",
    "\n",
    "precision = TP / float(TP + FP)\n",
    "\n",
    "\n",
    "print('Precision : {0:0.4f}'.format(precision))"
   ]
  },
  {
   "cell_type": "code",
   "execution_count": null,
   "id": "c12d6dd4",
   "metadata": {},
   "outputs": [],
   "source": [
    "# instantiate the DecisionTreeClassifier model with criterion entropy\n",
    "# import DecisionTreeClassifier\n",
    "\n",
    "from sklearn.tree import DecisionTreeClassifier\n",
    "\n",
    "clf_en = DecisionTreeClassifier(criterion='entropy', max_depth=3, random_state=0)\n",
    "\n",
    "\n",
    "# fit the model\n",
    "clf_en.fit(x_train, y_train)"
   ]
  },
  {
   "cell_type": "code",
   "execution_count": null,
   "id": "00df8225",
   "metadata": {},
   "outputs": [],
   "source": [
    "y_pred_en = clf_en.predict(x_test)"
   ]
  },
  {
   "cell_type": "code",
   "execution_count": null,
   "id": "4cb52eaa",
   "metadata": {},
   "outputs": [],
   "source": [
    "clf_en.predict(pd.DataFrame([[10,50,6,1]],columns=['sequencelength','ProdScale','PITname','PurificationName']))[0]"
   ]
  },
  {
   "cell_type": "code",
   "execution_count": null,
   "id": "2df2752d",
   "metadata": {},
   "outputs": [],
   "source": [
    "clf_en.predict(pd.DataFrame([[10,50,1,1]],columns=['sequencelength','ProdScale','PITname','PurificationName']))[0]"
   ]
  },
  {
   "cell_type": "code",
   "execution_count": null,
   "id": "aa8a14f0",
   "metadata": {},
   "outputs": [],
   "source": [
    "gnb.predict(pd.DataFrame([[10,50,1,1]],columns=['sequencelength','ProdScale','PITname','PurificationName']))[0]"
   ]
  },
  {
   "cell_type": "code",
   "execution_count": null,
   "id": "d59720ba",
   "metadata": {},
   "outputs": [],
   "source": [
    "clf_en.predict(pd.DataFrame([[56,50,1,1]],columns=['sequencelength','ProdScale','PITname','PurificationName']))[0]"
   ]
  },
  {
   "cell_type": "code",
   "execution_count": null,
   "id": "9f1aed46",
   "metadata": {},
   "outputs": [],
   "source": [
    "clf_en.predict(pd.DataFrame([[15,50,1,1]],columns=['sequencelength','ProdScale','PITname','PurificationName']))[0]"
   ]
  },
  {
   "cell_type": "code",
   "execution_count": null,
   "id": "a37dab3e",
   "metadata": {},
   "outputs": [],
   "source": [
    "gnb.predict(pd.DataFrame([[15,50,1,1]],columns=['sequencelength','ProdScale','PITname','PurificationName']))[0]"
   ]
  },
  {
   "cell_type": "code",
   "execution_count": null,
   "id": "6ae0c940",
   "metadata": {},
   "outputs": [],
   "source": [
    "gnb.predict(pd.DataFrame([[15,50,1,1]],columns=['sequencelength','ProdScale','PITname','PurificationName']))[0]"
   ]
  },
  {
   "cell_type": "code",
   "execution_count": null,
   "id": "e3170cf4",
   "metadata": {},
   "outputs": [],
   "source": [
    "clf_en.predict(pd.DataFrame([[56,50,5,1]],columns=['sequencelength','ProdScale','PITname','PurificationName']))[0]"
   ]
  },
  {
   "cell_type": "code",
   "execution_count": null,
   "id": "e9dea147",
   "metadata": {},
   "outputs": [],
   "source": [
    "clf.predict(pd.DataFrame([[56,50,5,1]],columns=['sequencelength','ProdScale','PITname','PurificationName']))[0]"
   ]
  },
  {
   "cell_type": "code",
   "execution_count": null,
   "id": "d118148e",
   "metadata": {},
   "outputs": [],
   "source": [
    "clf.predict(pd.DataFrame([[15,50,1,1]],columns=['sequencelength','ProdScale','PITname','PurificationName']))[0]"
   ]
  },
  {
   "cell_type": "code",
   "execution_count": null,
   "id": "00f55a6e",
   "metadata": {},
   "outputs": [],
   "source": [
    "clf_en.predict(pd.DataFrame([[40,10,0,0]],columns=['sequencelength','ProdScale','PITname','PurificationName']))[0]"
   ]
  },
  {
   "cell_type": "code",
   "execution_count": null,
   "id": "b36bef65",
   "metadata": {},
   "outputs": [],
   "source": [
    "gnb.predict(pd.DataFrame([[40,10,0,0]],columns=['sequencelength','ProdScale','PITname','PurificationName']))[0]"
   ]
  },
  {
   "cell_type": "code",
   "execution_count": null,
   "id": "53f53fbc",
   "metadata": {},
   "outputs": [],
   "source": []
  }
 ],
 "metadata": {
  "kernelspec": {
   "display_name": "Python 3 (ipykernel)",
   "language": "python",
   "name": "python3"
  },
  "language_info": {
   "codemirror_mode": {
    "name": "ipython",
    "version": 3
   },
   "file_extension": ".py",
   "mimetype": "text/x-python",
   "name": "python",
   "nbconvert_exporter": "python",
   "pygments_lexer": "ipython3",
   "version": "3.9.12"
  },
  "varInspector": {
   "cols": {
    "lenName": 16,
    "lenType": 16,
    "lenVar": 40
   },
   "kernels_config": {
    "python": {
     "delete_cmd_postfix": "",
     "delete_cmd_prefix": "del ",
     "library": "var_list.py",
     "varRefreshCmd": "print(var_dic_list())"
    },
    "r": {
     "delete_cmd_postfix": ") ",
     "delete_cmd_prefix": "rm(",
     "library": "var_list.r",
     "varRefreshCmd": "cat(var_dic_list()) "
    }
   },
   "types_to_exclude": [
    "module",
    "function",
    "builtin_function_or_method",
    "instance",
    "_Feature"
   ],
   "window_display": false
  }
 },
 "nbformat": 4,
 "nbformat_minor": 5
}
